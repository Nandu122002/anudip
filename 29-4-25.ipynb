{
 "cells": [
  {
   "cell_type": "code",
   "execution_count": null,
   "id": "20b3ffc3-4216-42a3-a3d8-1f8427d89006",
   "metadata": {},
   "outputs": [],
   "source": [
    "                                                        boolean opearator"
   ]
  },
  {
   "cell_type": "code",
   "execution_count": 1,
   "id": "6315814f-a88c-4000-a01b-20c7a4ebfd70",
   "metadata": {},
   "outputs": [
    {
     "data": {
      "text/plain": [
       "True"
      ]
     },
     "execution_count": 1,
     "metadata": {},
     "output_type": "execute_result"
    }
   ],
   "source": [
    "a=4\n",
    "b=6\n",
    "a<=b"
   ]
  },
  {
   "cell_type": "code",
   "execution_count": 2,
   "id": "30033ea4-0394-42c9-afe4-4bb2b21846e2",
   "metadata": {},
   "outputs": [
    {
     "name": "stdout",
     "output_type": "stream",
     "text": [
      "has the student passed? True\n"
     ]
    }
   ],
   "source": [
    "#question time\n",
    "score=75\n",
    "has_passed = (score>=60) #result is true bcoz 75 is greater than 60\n",
    "print(\"has the student passed?\",has_passed)"
   ]
  },
  {
   "cell_type": "code",
   "execution_count": 3,
   "id": "ca81fc0c-6850-4900-bc15-eac9d20feac5",
   "metadata": {},
   "outputs": [
    {
     "name": "stdout",
     "output_type": "stream",
     "text": [
      " is item1 cheaper than item2?  True\n"
     ]
    }
   ],
   "source": [
    "item1=40\n",
    "item2=50\n",
    "check=(item1<item2)\n",
    "print(\" is item1 cheaper than item2? \",check)"
   ]
  },
  {
   "cell_type": "code",
   "execution_count": 4,
   "id": "53fc5b26-03fd-46ac-8001-f2936eef3b75",
   "metadata": {},
   "outputs": [],
   "source": [
    "# is a symbol or keyword used to combine multiple boolean expressions n return a single value(true or false)\n",
    "# not and orlogical operators"
   ]
  },
  {
   "cell_type": "code",
   "execution_count": null,
   "id": "8bda46c1-9a05-4fb8-aac3-351afff85d1e",
   "metadata": {},
   "outputs": [],
   "source": [
    "True 1\n",
    "False 0"
   ]
  },
  {
   "cell_type": "code",
   "execution_count": 7,
   "id": "d0d78f08-6aee-4a69-837d-5dcc52311b6c",
   "metadata": {},
   "outputs": [
    {
     "data": {
      "text/plain": [
       "False"
      ]
     },
     "execution_count": 7,
     "metadata": {},
     "output_type": "execute_result"
    }
   ],
   "source": [
    "3>2 and 3<2\n",
    "True and False"
   ]
  },
  {
   "cell_type": "code",
   "execution_count": 8,
   "id": "44b73a89-743f-44a4-a2e1-2d2e858730e7",
   "metadata": {},
   "outputs": [
    {
     "data": {
      "text/plain": [
       "False"
      ]
     },
     "execution_count": 8,
     "metadata": {},
     "output_type": "execute_result"
    }
   ],
   "source": [
    "\n",
    "3>2 and 4>5\n",
    "True and False"
   ]
  },
  {
   "cell_type": "code",
   "execution_count": null,
   "id": "07a3119e-4c9f-441d-b263-247e83cc70f4",
   "metadata": {},
   "outputs": [],
   "source": [
    "1*1=1\n",
    "1*0=0\n",
    "0*1=0\n",
    "0*0=0"
   ]
  },
  {
   "cell_type": "code",
   "execution_count": null,
   "id": "1623ad2c-f593-48bc-9ce6-d18e2d50a607",
   "metadata": {},
   "outputs": [],
   "source": [
    "                           bitwise operator\n",
    "\n",
    "                          membership opearator"
   ]
  },
  {
   "cell_type": "code",
   "execution_count": 10,
   "id": "b907ce49-013d-42a3-9aef-749507b18379",
   "metadata": {},
   "outputs": [
    {
     "name": "stdout",
     "output_type": "stream",
     "text": [
      "True\n",
      "False\n"
     ]
    }
   ],
   "source": [
    "# 'in' operator\n",
    "list1=[1,2,3,4,5]\n",
    "print(3 in list1)\n",
    "print(6 in list1)"
   ]
  },
  {
   "cell_type": "code",
   "execution_count": 11,
   "id": "dc7b5098-b1f0-4e76-8fb3-0a9b9b6b5e00",
   "metadata": {},
   "outputs": [
    {
     "name": "stdout",
     "output_type": "stream",
     "text": [
      "True\n",
      "False\n"
     ]
    }
   ],
   "source": [
    "string=\"hello world!\"\n",
    "print('world' in string)\n",
    "print('3' in string)"
   ]
  },
  {
   "cell_type": "code",
   "execution_count": 14,
   "id": "63dd7c15-7124-4b63-baf5-5e39dddfa8be",
   "metadata": {},
   "outputs": [
    {
     "name": "stdout",
     "output_type": "stream",
     "text": [
      "False\n",
      "True\n"
     ]
    }
   ],
   "source": [
    "#'not' in operator\n",
    "list2=[1,2,3,4,5]\n",
    "print(3 not in list2)\n",
    "print(6 not in list2)"
   ]
  },
  {
   "cell_type": "code",
   "execution_count": 15,
   "id": "c91b0dc8-e1dd-4be0-8233-ce102d13e35d",
   "metadata": {},
   "outputs": [
    {
     "name": "stdout",
     "output_type": "stream",
     "text": [
      "False\n",
      "True\n",
      "True\n"
     ]
    }
   ],
   "source": [
    "string=\"hello world!\"\n",
    "print('world' not in string)\n",
    "print('n' not in string)\n",
    "print('lort' not in string)"
   ]
  },
  {
   "cell_type": "code",
   "execution_count": null,
   "id": "210e79e9-c7b8-45ac-8e13-b590fc51e26b",
   "metadata": {},
   "outputs": [],
   "source": [
    "                                                   if statement"
   ]
  },
  {
   "cell_type": "code",
   "execution_count": 17,
   "id": "05059839-7a41-47c9-a6db-fbb0c5eed9ba",
   "metadata": {},
   "outputs": [
    {
     "data": {
      "text/plain": [
       "True"
      ]
     },
     "execution_count": 17,
     "metadata": {},
     "output_type": "execute_result"
    }
   ],
   "source": [
    "age=18\n",
    "age>=18"
   ]
  },
  {
   "cell_type": "code",
   "execution_count": 18,
   "id": "d75ab335-ee00-472d-907d-04eea8a074d6",
   "metadata": {},
   "outputs": [
    {
     "name": "stdout",
     "output_type": "stream",
     "text": [
      "you are eligible to vote\n",
      "this will print any how\n"
     ]
    }
   ],
   "source": [
    "age=19\n",
    "if age>=18:\n",
    "    print(\"you are eligible to vote\")\n",
    "print(\"this will print any how\")  "
   ]
  },
  {
   "cell_type": "code",
   "execution_count": 19,
   "id": "05304c58-c534-4333-af37-7e5a8e7070ac",
   "metadata": {},
   "outputs": [],
   "source": [
    "# if statement\n",
    "if 5<2:      # ntg got printed\n",
    "    print('greater')\n"
   ]
  },
  {
   "cell_type": "code",
   "execution_count": 20,
   "id": "85e8004e-1e92-415f-9779-ab3d3fbfc0c9",
   "metadata": {},
   "outputs": [
    {
     "name": "stdout",
     "output_type": "stream",
     "text": [
      "greater\n"
     ]
    }
   ],
   "source": [
    "#if statement in single line\n",
    "if 5>2: print('greater')\n"
   ]
  },
  {
   "cell_type": "code",
   "execution_count": 21,
   "id": "2fc01b6c-53cc-40aa-bf38-b8c8f8b907dc",
   "metadata": {},
   "outputs": [
    {
     "name": "stdout",
     "output_type": "stream",
     "text": [
      "greater\n",
      "this will print any how\n"
     ]
    }
   ],
   "source": [
    "a\n",
    "if 5>2:\n",
    "    print(\"greater\")\n",
    "print(\"this will print any how\")"
   ]
  },
  {
   "cell_type": "code",
   "execution_count": 22,
   "id": "29347429-0dd8-4bd7-b661-ba36845d6046",
   "metadata": {},
   "outputs": [
    {
     "name": "stdout",
     "output_type": "stream",
     "text": [
      "if statement with logical operator\n",
      "statement 2\n"
     ]
    }
   ],
   "source": [
    "if 5>2 or 7<3: # True or False\n",
    "    print(\"if statement with logical operator\")\n",
    "    print(\"statement 2\")"
   ]
  },
  {
   "cell_type": "code",
   "execution_count": 23,
   "id": "db5d1bef-a930-4c51-862c-af59e6b39735",
   "metadata": {},
   "outputs": [],
   "source": [
    "if 5>2 and 7<3: # True or False\n",
    "    print(\"if statement with logical operator\")\n",
    "    print(\"statement 2\") #ntg will print"
   ]
  },
  {
   "cell_type": "code",
   "execution_count": 24,
   "id": "ed7c48cf-863a-4d51-9a57-4b6d73fec527",
   "metadata": {},
   "outputs": [
    {
     "name": "stdout",
     "output_type": "stream",
     "text": [
      "if statement with logical operator\n",
      "statement 2\n"
     ]
    }
   ],
   "source": [
    "if 5>2 and 7>3: # True or False\n",
    "    print(\"if statement with logical operator\")\n",
    "    print(\"statement 2\")"
   ]
  },
  {
   "cell_type": "code",
   "execution_count": 25,
   "id": "3402d30f-80a3-4e98-bd63-3317751f93a5",
   "metadata": {},
   "outputs": [
    {
     "name": "stdout",
     "output_type": "stream",
     "text": [
      "if statement with logical operator\n"
     ]
    }
   ],
   "source": [
    "if not 5<2:\n",
    "    print(\"if statement with logical operator\")\n",
    "    "
   ]
  },
  {
   "cell_type": "code",
   "execution_count": 26,
   "id": "ac16b272-74d0-4ad2-a63d-f7f3b55e0133",
   "metadata": {},
   "outputs": [],
   "source": [
    "if not 5>2:\n",
    "    print(\"if statement with logical operator\")"
   ]
  },
  {
   "cell_type": "code",
   "execution_count": null,
   "id": "285d6237-b253-4938-b717-4e273d161299",
   "metadata": {},
   "outputs": [],
   "source": [
    "                                                    if-else statement"
   ]
  },
  {
   "cell_type": "code",
   "execution_count": 27,
   "id": "30b1bed8-70ee-49f6-8e70-600683c30ac4",
   "metadata": {},
   "outputs": [
    {
     "name": "stdout",
     "output_type": "stream",
     "text": [
      "its cold day\n",
      "this will print always\n"
     ]
    }
   ],
   "source": [
    "temp=30\n",
    "if temp<25:\n",
    "    print('it is a hot day')\n",
    "else:\n",
    "    print('its cold day')\n",
    "print('this will print always')"
   ]
  },
  {
   "cell_type": "code",
   "execution_count": 28,
   "id": "aa415bef-9f71-4069-8388-a319b45ed54b",
   "metadata": {},
   "outputs": [
    {
     "name": "stdin",
     "output_type": "stream",
     "text": [
      "enter a number 24\n"
     ]
    },
    {
     "name": "stdout",
     "output_type": "stream",
     "text": [
      "the number is even\n"
     ]
    }
   ],
   "source": [
    "num=int(input(\"enter a number\"))\n",
    "if num%2==0:\n",
    "    print('the number is even')\n",
    "else:\n",
    "    print('the number is odd')"
   ]
  },
  {
   "cell_type": "code",
   "execution_count": 29,
   "id": "0b5ab389-df3e-4fca-9176-3c101c11ba1a",
   "metadata": {},
   "outputs": [
    {
     "name": "stdout",
     "output_type": "stream",
     "text": [
      "grade B\n"
     ]
    }
   ],
   "source": [
    "marks=85\n",
    "if marks>=90:\n",
    "    print('grade A')\n",
    "elif marks>=80:\n",
    "    print('grade B')\n",
    "elif marks>=70:\n",
    "    print('grade C')\n",
    "else:\n",
    "    print('grade D')"
   ]
  },
  {
   "cell_type": "code",
   "execution_count": 30,
   "id": "a947e9fe-d622-4553-8860-0ca8309ec4d2",
   "metadata": {},
   "outputs": [
    {
     "name": "stdout",
     "output_type": "stream",
     "text": [
      "grade C\n"
     ]
    }
   ],
   "source": [
    "#multiple if statement\n",
    "marks=75\n",
    "if marks>=90:\n",
    "    print('grade A')\n",
    "if marks>=80:\n",
    "    print('grade B')\n",
    "if marks>=70:\n",
    "    print('grade C')\n",
    "else:\n",
    "    print('grade D')"
   ]
  },
  {
   "cell_type": "code",
   "execution_count": 31,
   "id": "ef976c1c-804b-47de-a81f-d8e54ea5edd6",
   "metadata": {},
   "outputs": [
    {
     "name": "stdin",
     "output_type": "stream",
     "text": [
      "enter a number 46\n"
     ]
    }
   ],
   "source": [
    "num=int(input(\"enter a number\"))"
   ]
  },
  {
   "cell_type": "code",
   "execution_count": 32,
   "id": "bbabeb33-b2f0-4798-bb42-d4bdec9b40e2",
   "metadata": {},
   "outputs": [
    {
     "name": "stdout",
     "output_type": "stream",
     "text": [
      "the number is positive\n",
      "the number is even\n",
      "this will be printed anyways\n"
     ]
    }
   ],
   "source": [
    "#nested if\n",
    "if num>0:\n",
    "    print(\"the number is positive\")\n",
    "    if num%2==0:\n",
    "        print('the number is even')\n",
    "    else:\n",
    "        print('the number is odd')\n",
    "else:\n",
    "    print('the number is negative')\n",
    "print('this will be printed anyways') "
   ]
  },
  {
   "cell_type": "code",
   "execution_count": 33,
   "id": "24e93d75-d329-4ad6-8cb5-f6f6cf289419",
   "metadata": {},
   "outputs": [
    {
     "name": "stdin",
     "output_type": "stream",
     "text": [
      "enter the temperature= 68\n"
     ]
    },
    {
     "name": "stdout",
     "output_type": "stream",
     "text": [
      "its hot\n"
     ]
    }
   ],
   "source": [
    "current_temp=int(input('enter the temperature='))\n",
    "if current_temp<0:\n",
    "    print('its freezing')\n",
    "elif current_temp>0 and current_temp<10:\n",
    "    print('its cold')\n",
    "elif current_temp>10 and current_temp<25:\n",
    "    print('its warm')\n",
    "elif current_temp>25:\n",
    "    print('its hot')"
   ]
  },
  {
   "cell_type": "code",
   "execution_count": null,
   "id": "54af0a23-0538-4438-8267-ec32e1c54995",
   "metadata": {},
   "outputs": [],
   "source": []
  }
 ],
 "metadata": {
  "kernelspec": {
   "display_name": "Python 3 (ipykernel)",
   "language": "python",
   "name": "python3"
  },
  "language_info": {
   "codemirror_mode": {
    "name": "ipython",
    "version": 3
   },
   "file_extension": ".py",
   "mimetype": "text/x-python",
   "name": "python",
   "nbconvert_exporter": "python",
   "pygments_lexer": "ipython3",
   "version": "3.12.7"
  }
 },
 "nbformat": 4,
 "nbformat_minor": 5
}
