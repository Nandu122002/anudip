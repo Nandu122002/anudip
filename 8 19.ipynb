{
 "cells": [
  {
   "cell_type": "code",
   "execution_count": null,
   "id": "e531a93d-32a7-4753-958b-571642f144dd",
   "metadata": {},
   "outputs": [],
   "source": [
    "\n",
    "class and objects\n"
   ]
  },
  {
   "cell_type": "code",
   "execution_count": 1,
   "id": "480e2eea-afe1-46f6-891f-944e76d263b0",
   "metadata": {},
   "outputs": [
    {
     "name": "stdout",
     "output_type": "stream",
     "text": [
      "<class 'str'>\n"
     ]
    }
   ],
   "source": [
    "a='hello world'\n",
    "print(type(a))"
   ]
  },
  {
   "cell_type": "code",
   "execution_count": 2,
   "id": "b92badda-8dcd-4085-b622-a94146bfab07",
   "metadata": {},
   "outputs": [
    {
     "data": {
      "text/plain": [
       "'Hello world'"
      ]
     },
     "execution_count": 2,
     "metadata": {},
     "output_type": "execute_result"
    }
   ],
   "source": [
    "a.capitalize()"
   ]
  },
  {
   "cell_type": "code",
   "execution_count": 3,
   "id": "53a80f8d-b24f-4b8f-82c0-b0cfdc79a50c",
   "metadata": {},
   "outputs": [
    {
     "name": "stdout",
     "output_type": "stream",
     "text": [
      "<class 'list'>\n"
     ]
    }
   ],
   "source": [
    "l=[1,2,3]\n",
    "print(type(l))\n"
   ]
  },
  {
   "cell_type": "code",
   "execution_count": 4,
   "id": "466a1078-c87e-4f83-91bf-a0399e099ea5",
   "metadata": {},
   "outputs": [
    {
     "data": {
      "text/plain": [
       "7"
      ]
     },
     "execution_count": 4,
     "metadata": {},
     "output_type": "execute_result"
    }
   ],
   "source": [
    "list1=[1,2,3,4,5,6,7]\n",
    "len(list1)"
   ]
  },
  {
   "cell_type": "code",
   "execution_count": 5,
   "id": "e3092b08-deb4-4839-87c3-29150e096c0a",
   "metadata": {},
   "outputs": [
    {
     "data": {
      "text/plain": [
       "[1, 2, 3, 4, 5, 6, 7, 9]"
      ]
     },
     "execution_count": 5,
     "metadata": {},
     "output_type": "execute_result"
    }
   ],
   "source": [
    "list1.append(9)\n",
    "list1"
   ]
  },
  {
   "cell_type": "code",
   "execution_count": 6,
   "id": "42e1ea3e-f4ef-4145-8c41-686e450354f9",
   "metadata": {},
   "outputs": [
    {
     "data": {
      "text/plain": [
       "[1, 2, 3, 4, 5, 6, 7, 9, 34, 65, 13]"
      ]
     },
     "execution_count": 6,
     "metadata": {},
     "output_type": "execute_result"
    }
   ],
   "source": [
    "list1.extend([34,65,13])\n",
    "list1"
   ]
  },
  {
   "cell_type": "code",
   "execution_count": 7,
   "id": "6b6da192-01f6-422a-92f4-6a6529400e61",
   "metadata": {},
   "outputs": [
    {
     "data": {
      "text/plain": [
       "65"
      ]
     },
     "execution_count": 7,
     "metadata": {},
     "output_type": "execute_result"
    }
   ],
   "source": [
    "max(list1)"
   ]
  },
  {
   "cell_type": "code",
   "execution_count": 8,
   "id": "b517d517-2916-4891-bcdd-e0637faa372b",
   "metadata": {},
   "outputs": [
    {
     "data": {
      "text/plain": [
       "1"
      ]
     },
     "execution_count": 8,
     "metadata": {},
     "output_type": "execute_result"
    }
   ],
   "source": [
    "min(list1)"
   ]
  },
  {
   "cell_type": "code",
   "execution_count": 9,
   "id": "946ad4ee-ea3d-4813-8b7d-05109f490cf1",
   "metadata": {},
   "outputs": [
    {
     "data": {
      "text/plain": [
       "149"
      ]
     },
     "execution_count": 9,
     "metadata": {},
     "output_type": "execute_result"
    }
   ],
   "source": [
    "sum(list1)"
   ]
  },
  {
   "cell_type": "code",
   "execution_count": 22,
   "id": "5151e6f8-0356-4683-8bb9-d418b9ccbc5a",
   "metadata": {},
   "outputs": [],
   "source": [
    "class Person:\n",
    "    def __init__(self,a,b):\n",
    "        self.name=a\n",
    "        self.age=b\n",
    "\n",
    "    def introduce(self,a):\n",
    "        print(f'my name is {a} an i am {self.age} years old.')\n",
    "\n",
    "person=Person('alice',23)"
   ]
  },
  {
   "cell_type": "code",
   "execution_count": 23,
   "id": "acf5da92-64ec-4e71-bc33-c783b68786f1",
   "metadata": {},
   "outputs": [
    {
     "data": {
      "text/plain": [
       "'alice'"
      ]
     },
     "execution_count": 23,
     "metadata": {},
     "output_type": "execute_result"
    }
   ],
   "source": [
    "person.name"
   ]
  },
  {
   "cell_type": "code",
   "execution_count": 24,
   "id": "1c06a486-cd36-44a8-8f81-13fc06a20d80",
   "metadata": {},
   "outputs": [
    {
     "data": {
      "text/plain": [
       "23"
      ]
     },
     "execution_count": 24,
     "metadata": {},
     "output_type": "execute_result"
    }
   ],
   "source": [
    "person.age"
   ]
  },
  {
   "cell_type": "code",
   "execution_count": 25,
   "id": "22f7e6f7-486c-48fd-b897-58efae145528",
   "metadata": {},
   "outputs": [
    {
     "name": "stdout",
     "output_type": "stream",
     "text": [
      "my name is alice an i am 23 years old.\n"
     ]
    }
   ],
   "source": [
    "person.introduce('alice')"
   ]
  },
  {
   "cell_type": "code",
   "execution_count": 28,
   "id": "cb102565-e8f6-4834-b941-f311de029708",
   "metadata": {},
   "outputs": [],
   "source": [
    "class goldenvillas:\n",
    "    def __init__(self,a,b,c,d,e):\n",
    "        self.color=a\n",
    "        self.is_furnish=b\n",
    "        self.is_rent=c\n",
    "        self.rooms=d\n",
    "        self.parking=e\n",
    "        \n",
    "    def describe_villa(self):\n",
    "        print(f'this villa ia having {self.color} color and it furnished and it is rented properly')\n",
    "\n",
    "obj=goldenvillas('white','yes',4000,2,'available')"
   ]
  },
  {
   "cell_type": "code",
   "execution_count": 29,
   "id": "ac212430-49a0-4c8e-9034-063c63986d60",
   "metadata": {},
   "outputs": [
    {
     "data": {
      "text/plain": [
       "'white'"
      ]
     },
     "execution_count": 29,
     "metadata": {},
     "output_type": "execute_result"
    }
   ],
   "source": [
    "obj.color"
   ]
  },
  {
   "cell_type": "code",
   "execution_count": 30,
   "id": "3337161f-071e-4bcd-a826-79ffdcd14f5e",
   "metadata": {},
   "outputs": [
    {
     "name": "stdout",
     "output_type": "stream",
     "text": [
      "this villa ia having white color and it furnished and it is rented properly\n"
     ]
    }
   ],
   "source": [
    "obj.describe_villa()"
   ]
  },
  {
   "cell_type": "code",
   "execution_count": 31,
   "id": "3410bf58-3147-4bc4-8b74-4d7710653f76",
   "metadata": {},
   "outputs": [
    {
     "data": {
      "text/plain": [
       "'yes'"
      ]
     },
     "execution_count": 31,
     "metadata": {},
     "output_type": "execute_result"
    }
   ],
   "source": [
    "obj.is_furnish"
   ]
  },
  {
   "cell_type": "code",
   "execution_count": 32,
   "id": "7c31a8f5-8c93-4599-9ff3-4832aeae5b78",
   "metadata": {},
   "outputs": [
    {
     "data": {
      "text/plain": [
       "'available'"
      ]
     },
     "execution_count": 32,
     "metadata": {},
     "output_type": "execute_result"
    }
   ],
   "source": [
    "obj.parking"
   ]
  },
  {
   "cell_type": "code",
   "execution_count": null,
   "id": "e89e10e4-0ed3-42ef-8ef5-16be1472d839",
   "metadata": {},
   "outputs": [],
   "source": [
    "class mobile_phone:\n",
    "    def __init__(self,a_col,b_size,c_numc):\n",
    "        self.color = a_col\n",
    "        self.size = b_size\n",
    "        self.camera = c_numc\n",
    "\n",
    "    def calling(self,call_rates):\n",
    "        print(f\"i am calling using {self.color} cell phone and the cell rates per second is {call_rates}\")\n",
    "\n",
    "samsung=mobile_phone(\"red\",10,2)"
   ]
  }
 ],
 "metadata": {
  "kernelspec": {
   "display_name": "Python 3 (ipykernel)",
   "language": "python",
   "name": "python3"
  },
  "language_info": {
   "codemirror_mode": {
    "name": "ipython",
    "version": 3
   },
   "file_extension": ".py",
   "mimetype": "text/x-python",
   "name": "python",
   "nbconvert_exporter": "python",
   "pygments_lexer": "ipython3",
   "version": "3.12.7"
  }
 },
 "nbformat": 4,
 "nbformat_minor": 5
}
