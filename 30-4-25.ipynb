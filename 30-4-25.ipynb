{
 "cells": [
  {
   "cell_type": "code",
   "execution_count": 1,
   "id": "f6bc4ff3-270a-4277-87d0-ebf479b10bb5",
   "metadata": {},
   "outputs": [
    {
     "name": "stdin",
     "output_type": "stream",
     "text": [
      "enter the password= 24\n"
     ]
    },
    {
     "name": "stdout",
     "output_type": "stream",
     "text": [
      "weak password\n"
     ]
    }
   ],
   "source": [
    "password=input(\"enter the password=\")\n",
    "if len(password)<6:\n",
    "    print('weak password')\n",
    "elif 6<len(password)<8:\n",
    "    print('moderate password')\n",
    "else:\n",
    "    print('strong password')"
   ]
  },
  {
   "cell_type": "code",
   "execution_count": null,
   "id": "37f2e776-1f92-4049-bce5-20e6abb524c8",
   "metadata": {},
   "outputs": [],
   "source": [
    "                                                            for loop"
   ]
  },
  {
   "cell_type": "code",
   "execution_count": 3,
   "id": "95dbfef2-4b9f-4309-9deb-ee61772701dd",
   "metadata": {},
   "outputs": [
    {
     "ename": "SyntaxError",
     "evalue": "invalid syntax (2625012292.py, line 4)",
     "output_type": "error",
     "traceback": [
      "\u001b[1;36m  Cell \u001b[1;32mIn[3], line 4\u001b[1;36m\u001b[0m\n\u001b[1;33m    code to be executed\u001b[0m\n\u001b[1;37m         ^\u001b[0m\n\u001b[1;31mSyntaxError\u001b[0m\u001b[1;31m:\u001b[0m invalid syntax\n"
     ]
    }
   ],
   "source": [
    "# for loop is used for iterating over a sequence (list,tuple,string, or range).it allows u to to excute a block of code repeatedly item in sequence\n",
    "syntax\n",
    "for item in sequence:\n",
    "    code to be executed"
   ]
  },
  {
   "cell_type": "code",
   "execution_count": 4,
   "id": "594259a8-3c08-44a3-8ae1-eec6e58f04d8",
   "metadata": {},
   "outputs": [
    {
     "name": "stdout",
     "output_type": "stream",
     "text": [
      "1\n",
      "2\n",
      "3\n",
      "4\n",
      "5\n"
     ]
    }
   ],
   "source": [
    "a=[1,2,3,4,5]\n",
    "for i in a:\n",
    "    print(i)\n"
   ]
  },
  {
   "cell_type": "code",
   "execution_count": null,
   "id": "fbdc3792-9a29-47f0-b378-4cd4ce9367eb",
   "metadata": {},
   "outputs": [],
   "source": [
    "                                                  sequence"
   ]
  },
  {
   "cell_type": "code",
   "execution_count": null,
   "id": "5eb255bf-a76e-4aad-9949-127829981e45",
   "metadata": {},
   "outputs": [],
   "source": [
    "sequence refers to an oredered collection of items"
   ]
  },
  {
   "cell_type": "code",
   "execution_count": 6,
   "id": "de22a1da-20c6-4d7f-a18d-621e728ecb50",
   "metadata": {},
   "outputs": [
    {
     "name": "stdout",
     "output_type": "stream",
     "text": [
      "apple\n",
      "banana\n",
      "cherry\n"
     ]
    }
   ],
   "source": [
    "fruits=['apple','banana','cherry']\n",
    "for fruit in fruits:\n",
    "    print(fruit)"
   ]
  },
  {
   "cell_type": "code",
   "execution_count": 8,
   "id": "d58d20e2-dc34-41d4-832f-b833b89c7bcd",
   "metadata": {},
   "outputs": [
    {
     "name": "stdout",
     "output_type": "stream",
     "text": [
      "a\n",
      "p\n",
      "p\n",
      "l\n",
      "e\n"
     ]
    }
   ],
   "source": [
    "fruits=list('apple')\n",
    "for fruit in fruits:\n",
    "    print(fruit)"
   ]
  },
  {
   "cell_type": "code",
   "execution_count": 9,
   "id": "47cde771-031b-48ba-83ab-0fd6120b96a6",
   "metadata": {},
   "outputs": [
    {
     "name": "stdout",
     "output_type": "stream",
     "text": [
      "h\n",
      "e\n",
      "l\n",
      "l\n",
      "o\n"
     ]
    }
   ],
   "source": [
    "word='hello'\n",
    "for letter in word:\n",
    "    print(letter)"
   ]
  },
  {
   "cell_type": "code",
   "execution_count": 10,
   "id": "3a82294a-8482-4b95-b4ba-8ac8cb52907d",
   "metadata": {},
   "outputs": [
    {
     "name": "stdout",
     "output_type": "stream",
     "text": [
      "0\n",
      "1\n",
      "2\n",
      "3\n",
      "4\n",
      "5\n",
      "6\n",
      "7\n",
      "8\n"
     ]
    }
   ],
   "source": [
    "#using range\n",
    "for i in range(0,9):\n",
    "    print(i)"
   ]
  },
  {
   "cell_type": "code",
   "execution_count": 11,
   "id": "b4f17ba2-1333-4065-98fd-330b2d4da633",
   "metadata": {},
   "outputs": [
    {
     "name": "stdout",
     "output_type": "stream",
     "text": [
      "h\n",
      "e\n",
      "l\n",
      "l\n",
      "o\n"
     ]
    }
   ],
   "source": [
    "word='hello'\n",
    "for i in word:\n",
    "    print(i)"
   ]
  },
  {
   "cell_type": "code",
   "execution_count": 12,
   "id": "4fa70c2e-4199-48e7-a78b-36c90fe12750",
   "metadata": {},
   "outputs": [
    {
     "name": "stdout",
     "output_type": "stream",
     "text": [
      "0\n",
      "1\n",
      "2\n",
      "3\n",
      "4\n"
     ]
    }
   ],
   "source": [
    "for i in range(5):\n",
    "    print(i)"
   ]
  },
  {
   "cell_type": "code",
   "execution_count": 13,
   "id": "b69d532d-1c0c-4acc-b15b-896240a24806",
   "metadata": {},
   "outputs": [
    {
     "name": "stdout",
     "output_type": "stream",
     "text": [
      "0\n",
      "2\n",
      "4\n",
      "6\n",
      "8\n"
     ]
    }
   ],
   "source": [
    "for i in range(0,9,2):\n",
    "    print(i)"
   ]
  },
  {
   "cell_type": "code",
   "execution_count": null,
   "id": "167fb8d9-1082-4e3c-82b0-8b348df33078",
   "metadata": {},
   "outputs": [],
   "source": [
    "a=[]\n",
    "for i in a:\n",
    "    print(i)\n",
    "else:\n",
    "    print('loop is finished')\n"
   ]
  },
  {
   "cell_type": "code",
   "execution_count": null,
   "id": "a0c24c46-e974-4fa5-bdc1-a0070b08baa4",
   "metadata": {},
   "outputs": [],
   "source": [
    "                                            loop is finished"
   ]
  },
  {
   "cell_type": "code",
   "execution_count": 14,
   "id": "06253245-0888-4603-87c5-3c10797e1df3",
   "metadata": {},
   "outputs": [
    {
     "name": "stdout",
     "output_type": "stream",
     "text": [
      "0\n",
      "1\n",
      "2\n",
      "3\n",
      "4\n",
      "loop is finished\n"
     ]
    }
   ],
   "source": [
    "a=5\n",
    "for i in range(a):\n",
    "    print(i)\n",
    "else:\n",
    "    print('loop is finished')"
   ]
  },
  {
   "cell_type": "code",
   "execution_count": 16,
   "id": "87588895-24f1-47d8-8a71-6509f9abb451",
   "metadata": {},
   "outputs": [
    {
     "ename": "SyntaxError",
     "evalue": "invalid syntax (3331145028.py, line 2)",
     "output_type": "error",
     "traceback": [
      "\u001b[1;36m  Cell \u001b[1;32mIn[16], line 2\u001b[1;36m\u001b[0m\n\u001b[1;33m    for i in range(3): -----> 0 1 2\u001b[0m\n\u001b[1;37m                           ^\u001b[0m\n\u001b[1;31mSyntaxError\u001b[0m\u001b[1;31m:\u001b[0m invalid syntax\n"
     ]
    }
   ],
   "source": [
    "#nested for loop\n",
    "for i in range(3): -----> 0 1 2\n",
    "    for j in range(2):  -------> 0 1\n",
    "        print(f'i={i},j={j}')   # f={} string formatiing"
   ]
  },
  {
   "cell_type": "code",
   "execution_count": 17,
   "id": "f12b4382-5ace-4492-bb50-94a2c87e7fa1",
   "metadata": {},
   "outputs": [
    {
     "name": "stdout",
     "output_type": "stream",
     "text": [
      "0 0\n",
      "0 1\n",
      "1 0\n",
      "1 1\n",
      "2 0\n",
      "2 1\n"
     ]
    }
   ],
   "source": [
    "for i in range(3): \n",
    "    for j in range(2):  \n",
    "        print(i,j)"
   ]
  },
  {
   "cell_type": "code",
   "execution_count": 18,
   "id": "e1322942-cad1-4d06-bd52-f3473d148fca",
   "metadata": {},
   "outputs": [
    {
     "name": "stdout",
     "output_type": "stream",
     "text": [
      "i = 0 , j = 0\n",
      "i = 0 , j = 1\n",
      "i = 1 , j = 0\n",
      "i = 1 , j = 1\n",
      "i = 2 , j = 0\n",
      "i = 2 , j = 1\n"
     ]
    }
   ],
   "source": [
    "for i in range(3): \n",
    "    for j in range(2):  \n",
    "        print(\"i =\",i,', j =',j)"
   ]
  },
  {
   "cell_type": "code",
   "execution_count": 19,
   "id": "5d535648-58df-4aa0-a8d6-15b3517fcc6a",
   "metadata": {},
   "outputs": [
    {
     "name": "stdout",
     "output_type": "stream",
     "text": [
      "this is inner loop\n",
      "this is outer loop\n",
      "this is outer loop\n",
      "this is outer loop\n",
      "this is inner loop\n",
      "this is outer loop\n",
      "this is outer loop\n",
      "this is outer loop\n",
      "this is inner loop\n",
      "this is outer loop\n",
      "this is outer loop\n",
      "this is outer loop\n"
     ]
    }
   ],
   "source": [
    "for i in range(3):\n",
    "    print('this is inner loop')\n",
    "    for j in range(3):\n",
    "        print('this is outer loop')\n",
    "        "
   ]
  },
  {
   "cell_type": "code",
   "execution_count": 20,
   "id": "482a228e-f166-4ba8-bcd3-c622fc21c862",
   "metadata": {},
   "outputs": [
    {
     "name": "stdout",
     "output_type": "stream",
     "text": [
      "0\n",
      "this will be the 1st\n",
      "this is second\n",
      "this is third\n",
      "1\n",
      "this will be the 1st\n",
      "this is second\n",
      "this is third\n",
      "2\n",
      "this will be the 1st\n",
      "this is second\n",
      "this is third\n"
     ]
    }
   ],
   "source": [
    "for i in range(3):\n",
    "    print(i)\n",
    "    print('this will be the 1st')\n",
    "    print('this is second')\n",
    "    print('this is third')"
   ]
  },
  {
   "cell_type": "code",
   "execution_count": 21,
   "id": "6889c62e-c82e-41df-a7a4-71c2795062f6",
   "metadata": {},
   "outputs": [
    {
     "name": "stdout",
     "output_type": "stream",
     "text": [
      "0 = h\n",
      "1 = e\n",
      "2 = l\n",
      "3 = l\n",
      "4 = o\n"
     ]
    }
   ],
   "source": [
    "# iterating through index\n",
    "string=\"hello\"\n",
    "n=len(string)\n",
    "for i in range(n):\n",
    "    print(i,\"=\",string[i])"
   ]
  },
  {
   "cell_type": "code",
   "execution_count": 22,
   "id": "285a8f52-b4cd-4ea8-b2a7-16a2c4ec6598",
   "metadata": {},
   "outputs": [
    {
     "name": "stdout",
     "output_type": "stream",
     "text": [
      "0 = h\n",
      "1 = e\n",
      "2 = l\n",
      "3 = l\n",
      "4 = o\n"
     ]
    }
   ],
   "source": [
    "# iterating through index\n",
    "string=\"hello\"\n",
    "n=len(string)\n",
    "for i in range(n):\n",
    "    print(i,\"=\",string[i])"
   ]
  },
  {
   "cell_type": "code",
   "execution_count": 23,
   "id": "7cb02d9a-9d62-4884-8748-21481746c187",
   "metadata": {
    "scrolled": true
   },
   "outputs": [
    {
     "name": "stdout",
     "output_type": "stream",
     "text": [
      "0 = h\n",
      "1 = e\n",
      "2 = l\n",
      "3 = l\n",
      "4 = o\n"
     ]
    }
   ],
   "source": [
    "# iterating through index\n",
    "string=\"hello\"\n",
    "n=len(string)\n",
    "for i in range(n):\n",
    "    print(i,\"=\",string[i])"
   ]
  },
  {
   "cell_type": "code",
   "execution_count": 24,
   "id": "0339f372-5597-4663-8328-6516b4c36c1d",
   "metadata": {},
   "outputs": [
    {
     "name": "stdout",
     "output_type": "stream",
     "text": [
      "0 = h\n",
      "1 = e\n",
      "2 = l\n",
      "3 = l\n",
      "4 = o\n"
     ]
    }
   ],
   "source": [
    "# iterating through index\n",
    "string=\"hello\"\n",
    "n=len(string)\n",
    "for i in range(n):\n",
    "    print(i,\"=\",string[i])"
   ]
  },
  {
   "cell_type": "code",
   "execution_count": 25,
   "id": "b2dbaa1e-c91b-47b3-bea2-01e061a4d449",
   "metadata": {},
   "outputs": [
    {
     "name": "stdout",
     "output_type": "stream",
     "text": [
      "0 = h\n",
      "1 = e\n",
      "2 = l\n",
      "3 = l\n",
      "4 = o\n"
     ]
    }
   ],
   "source": [
    "# iterating through index\n",
    "string=\"hello\"\n",
    "n=len(string)\n",
    "for i in range(n):\n",
    "    print(i,\"=\",string[i])"
   ]
  },
  {
   "cell_type": "code",
   "execution_count": 26,
   "id": "40102039-8c91-4328-88dc-5afa11a45d1a",
   "metadata": {},
   "outputs": [
    {
     "name": "stdout",
     "output_type": "stream",
     "text": [
      "0\n",
      "1\n",
      "2\n",
      "3\n",
      "4\n",
      "6\n",
      "7\n",
      "8\n",
      "9\n",
      "for loop is continued\n"
     ]
    }
   ],
   "source": [
    "for num in range(10):\n",
    "    \n",
    "    if num==5:\n",
    "        # print(num)\n",
    "        continue\n",
    "    print(num)\n",
    "print('for loop is continued')"
   ]
  },
  {
   "cell_type": "code",
   "execution_count": 27,
   "id": "93375692-f964-4957-a97b-aab492743e0f",
   "metadata": {},
   "outputs": [
    {
     "name": "stdout",
     "output_type": "stream",
     "text": [
      "0\n",
      "1\n",
      "2\n",
      "3\n",
      "4\n",
      "6\n",
      "7\n",
      "8\n",
      "9\n",
      "for loop is continued\n"
     ]
    }
   ],
   "source": [
    "for num in range(10):\n",
    "    \n",
    "    if num==5:\n",
    "        # print(num)\n",
    "        continue\n",
    "    print(num)\n",
    "print('for loop is continued')"
   ]
  },
  {
   "cell_type": "code",
   "execution_count": 28,
   "id": "68cccdf4-44b8-4085-b260-c4736829e5e1",
   "metadata": {},
   "outputs": [
    {
     "name": "stdin",
     "output_type": "stream",
     "text": [
      "enter a number 68\n"
     ]
    },
    {
     "name": "stdout",
     "output_type": "stream",
     "text": [
      "the number is found\n"
     ]
    }
   ],
   "source": [
    "list1=[1,2,3,4,5]\n",
    "user=int(input(\"enter a number\"))\n",
    "for user in list1:\n",
    "    print(\"the number is found\")\n",
    "    break\n",
    "    "
   ]
  },
  {
   "cell_type": "code",
   "execution_count": null,
   "id": "5597351a-591f-4fe7-81f5-59a9431272a6",
   "metadata": {},
   "outputs": [],
   "source": []
  }
 ],
 "metadata": {
  "kernelspec": {
   "display_name": "Python 3 (ipykernel)",
   "language": "python",
   "name": "python3"
  },
  "language_info": {
   "codemirror_mode": {
    "name": "ipython",
    "version": 3
   },
   "file_extension": ".py",
   "mimetype": "text/x-python",
   "name": "python",
   "nbconvert_exporter": "python",
   "pygments_lexer": "ipython3",
   "version": "3.12.7"
  }
 },
 "nbformat": 4,
 "nbformat_minor": 5
}
