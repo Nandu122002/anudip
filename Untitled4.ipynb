{
 "cells": [
  {
   "cell_type": "code",
   "execution_count": null,
   "id": "2e3c6799-8f52-43f1-bbc0-bbd9df345bfc",
   "metadata": {},
   "outputs": [],
   "source": [
    "s=\"\"\n",
    "1=[1,2,3,4]\n",
    "1=()\n",
    "dict={\"ROW_ID\":1,\"order_ID\""
   ]
  },
  {
   "cell_type": "code",
   "execution_count": 3,
   "id": "5b12b5ad-f954-459e-8527-d72748c0bf3c",
   "metadata": {},
   "outputs": [
    {
     "data": {
      "text/plain": [
       "{'name': 'alice', 'age': 25, 'city': 'new york'}"
      ]
     },
     "execution_count": 3,
     "metadata": {},
     "output_type": "execute_result"
    }
   ],
   "source": [
    "# characteristics\n",
    "# 1. unordered\n",
    "my_dict={'name':'alice','age':25,'city':'new york'}\n",
    "my_dict\n"
   ]
  },
  {
   "cell_type": "code",
   "execution_count": 4,
   "id": "113ddf1d-54e9-4e5a-9a00-ae150809482b",
   "metadata": {},
   "outputs": [
    {
     "data": {
      "text/plain": [
       "{'name': 'alice', 'age': 21, 'city': 'new york'}"
      ]
     },
     "execution_count": 4,
     "metadata": {},
     "output_type": "execute_result"
    }
   ],
   "source": [
    "my_dict['age']=21\n",
    "my_dict"
   ]
  },
  {
   "cell_type": "code",
   "execution_count": 5,
   "id": "ef8eb8dc-bc96-4ef4-9632-cf40f5836f49",
   "metadata": {},
   "outputs": [
    {
     "data": {
      "text/plain": [
       "{'name': 'alice', 'age': 89}"
      ]
     },
     "execution_count": 5,
     "metadata": {},
     "output_type": "execute_result"
    }
   ],
   "source": [
    "#  3. unique keys\n",
    "my_dict={'name':'alice','age':67,'age':65,'age':89}\n",
    "my_dict"
   ]
  },
  {
   "cell_type": "code",
   "execution_count": 7,
   "id": "0dc4d397-840a-40ac-b45b-d7fd99ab972b",
   "metadata": {},
   "outputs": [
    {
     "name": "stdout",
     "output_type": "stream",
     "text": [
      "{(1, 2): 'point', 'name': 'alice'}\n"
     ]
    }
   ],
   "source": [
    "# 4. immutable keys(keys must be immutable types such as strings, numbers or tuples)\n",
    "my_dict={(1,2):\"point\",'name':\"alice\"}\n",
    "print(my_dict)"
   ]
  },
  {
   "cell_type": "code",
   "execution_count": null,
   "id": "03385d1f-0865-42f3-a462-2583017d09e2",
   "metadata": {},
   "outputs": [],
   "source": [
    "my_dict1={1:'hello'}"
   ]
  },
  {
   "cell_type": "code",
   "execution_count": 8,
   "id": "9dca9b91-6a99-4847-8ac2-e35455aa1094",
   "metadata": {},
   "outputs": [
    {
     "ename": "TypeError",
     "evalue": "unhashable type: 'list'",
     "output_type": "error",
     "traceback": [
      "\u001b[1;31m---------------------------------------------------------------------------\u001b[0m",
      "\u001b[1;31mTypeError\u001b[0m                                 Traceback (most recent call last)",
      "Cell \u001b[1;32mIn[8], line 1\u001b[0m\n\u001b[1;32m----> 1\u001b[0m my_dict2\u001b[38;5;241m=\u001b[39m{[\u001b[38;5;241m1\u001b[39m,\u001b[38;5;241m2\u001b[39m]:\u001b[38;5;124m'\u001b[39m\u001b[38;5;124mhello\u001b[39m\u001b[38;5;124m'\u001b[39m}\n",
      "\u001b[1;31mTypeError\u001b[0m: unhashable type: 'list'"
     ]
    }
   ],
   "source": [
    "my_dict2={[1,2]:'hello'}"
   ]
  },
  {
   "cell_type": "code",
   "execution_count": null,
   "id": "2773f544-467e-4248-bf49-a26c0a1ea6bc",
   "metadata": {},
   "outputs": [],
   "source": [
    "# 5.dynamic\n",
    "del my_dict['name']"
   ]
  },
  {
   "cell_type": "code",
   "execution_count": 9,
   "id": "4a9adbdb-ccdc-4a4e-887b-074c8acee019",
   "metadata": {},
   "outputs": [
    {
     "data": {
      "text/plain": [
       "{(1, 2): 'point', 'name': 'alice'}"
      ]
     },
     "execution_count": 9,
     "metadata": {},
     "output_type": "execute_result"
    }
   ],
   "source": [
    "my_dict"
   ]
  },
  {
   "cell_type": "code",
   "execution_count": null,
   "id": "4b970c48-d71b-4cb2-b7d2-a58b9a138faa",
   "metadata": {},
   "outputs": [],
   "source": [
    "keys and values in a python dictionary\n",
    "\n",
    "1. keys in dictionary\n",
    "uniqueness\n",
    "immutable\n",
    "2. values in a dictionary\n",
    "no uniqueness constraint\n",
    "mutable or immutable\n",
    "\n",
    "\n",
    "#  for keys we cannot use dictionary"
   ]
  },
  {
   "cell_type": "code",
   "execution_count": 11,
   "id": "85a4641b-7168-4920-b2d2-cb063f6d3ca8",
   "metadata": {},
   "outputs": [],
   "source": [
    "#  1. accessing a value by key \n",
    "dict1={\n",
    "    'name':'alice',\n",
    "    \"age\":25,\n",
    "    'hobbies':['reading','hiking'],\n",
    "    'education':{'degree':'bca','year':2015}\n",
    "}"
   ]
  },
  {
   "cell_type": "code",
   "execution_count": 12,
   "id": "b4b7a919-74eb-4476-ac3f-bd1bc5dbb58b",
   "metadata": {},
   "outputs": [
    {
     "data": {
      "text/plain": [
       "25"
      ]
     },
     "execution_count": 12,
     "metadata": {},
     "output_type": "execute_result"
    }
   ],
   "source": [
    "dict1['age']"
   ]
  },
  {
   "cell_type": "code",
   "execution_count": 13,
   "id": "bc9f75da-89e1-4cc4-b8a7-a7a23695567c",
   "metadata": {},
   "outputs": [
    {
     "data": {
      "text/plain": [
       "2015"
      ]
     },
     "execution_count": 13,
     "metadata": {},
     "output_type": "execute_result"
    }
   ],
   "source": [
    "dict1['education']['year']"
   ]
  },
  {
   "cell_type": "code",
   "execution_count": 14,
   "id": "2d7085b0-8627-420f-9d22-275b6155ac8b",
   "metadata": {},
   "outputs": [
    {
     "data": {
      "text/plain": [
       "'hiking'"
      ]
     },
     "execution_count": 14,
     "metadata": {},
     "output_type": "execute_result"
    }
   ],
   "source": [
    "dict1['hobbies'][1]"
   ]
  },
  {
   "cell_type": "code",
   "execution_count": 15,
   "id": "913a291f-1407-4f2b-9412-7e2841c07946",
   "metadata": {},
   "outputs": [
    {
     "data": {
      "text/plain": [
       "['reading', 'hiking']"
      ]
     },
     "execution_count": 15,
     "metadata": {},
     "output_type": "execute_result"
    }
   ],
   "source": [
    "dict1['hobbies']"
   ]
  },
  {
   "cell_type": "code",
   "execution_count": 16,
   "id": "91f281ae-f969-4fbc-8544-69571d3c9a17",
   "metadata": {},
   "outputs": [
    {
     "data": {
      "text/plain": [
       "25"
      ]
     },
     "execution_count": 16,
     "metadata": {},
     "output_type": "execute_result"
    }
   ],
   "source": [
    "# 2. using get() method\n",
    "dict1={\n",
    "    'name':'alice',\n",
    "    \"age\":25\n",
    "}\n",
    "dict1['age']\n",
    "25"
   ]
  },
  {
   "cell_type": "code",
   "execution_count": 17,
   "id": "67e9aa69-e3c4-45ac-aa62-d2954ad9c61f",
   "metadata": {},
   "outputs": [
    {
     "data": {
      "text/plain": [
       "'alice'"
      ]
     },
     "execution_count": 17,
     "metadata": {},
     "output_type": "execute_result"
    }
   ],
   "source": [
    "dict1.get('name')"
   ]
  },
  {
   "cell_type": "code",
   "execution_count": 18,
   "id": "3a4531ca-7dee-4081-a588-918b1b9439c7",
   "metadata": {},
   "outputs": [],
   "source": [
    "dict1.get('city')"
   ]
  },
  {
   "cell_type": "code",
   "execution_count": 19,
   "id": "1200005b-1f7e-4c48-b52f-633dba10f802",
   "metadata": {},
   "outputs": [
    {
     "data": {
      "text/plain": [
       "25"
      ]
     },
     "execution_count": 19,
     "metadata": {},
     "output_type": "execute_result"
    }
   ],
   "source": [
    "dict1.get('age')"
   ]
  },
  {
   "cell_type": "code",
   "execution_count": 20,
   "id": "a076828e-08ad-4002-8fef-f74f1cb72b2c",
   "metadata": {},
   "outputs": [
    {
     "name": "stdout",
     "output_type": "stream",
     "text": [
      "None\n"
     ]
    }
   ],
   "source": [
    "print(dict1.get('city'))"
   ]
  },
  {
   "cell_type": "code",
   "execution_count": 21,
   "id": "ed694fab-668f-4d40-8612-daed4a40e2d2",
   "metadata": {},
   "outputs": [
    {
     "data": {
      "text/plain": [
       "dict_keys(['name', 'age'])"
      ]
     },
     "execution_count": 21,
     "metadata": {},
     "output_type": "execute_result"
    }
   ],
   "source": [
    "# 3. accessing all keys\n",
    "dict1={\n",
    "    'name':'alice',\n",
    "    \"age\":25\n",
    "}\n",
    "dict1.keys()"
   ]
  },
  {
   "cell_type": "code",
   "execution_count": 22,
   "id": "71ce24c8-59ca-41c7-a2ac-ff5aa95db3cd",
   "metadata": {},
   "outputs": [
    {
     "data": {
      "text/plain": [
       "dict_values(['alice', 25])"
      ]
     },
     "execution_count": 22,
     "metadata": {},
     "output_type": "execute_result"
    }
   ],
   "source": [
    "# 4. accessing all values\n",
    "dict1={\n",
    "    'name':'alice',\n",
    "    \"age\":25\n",
    "}\n",
    "dict1.values()"
   ]
  },
  {
   "cell_type": "code",
   "execution_count": 23,
   "id": "be68964a-8f30-4539-ae02-0ded1baf8661",
   "metadata": {},
   "outputs": [
    {
     "data": {
      "text/plain": [
       "dict_items([('name', 'alice'), ('age', 25)])"
      ]
     },
     "execution_count": 23,
     "metadata": {},
     "output_type": "execute_result"
    }
   ],
   "source": [
    "# 5. aceessing all key-value pairs\n",
    "dict1={\n",
    "    'name':'alice',\n",
    "    \"age\":25\n",
    "}\n",
    "dict1.items()"
   ]
  },
  {
   "cell_type": "code",
   "execution_count": 24,
   "id": "ae6433a2-2794-4d83-9d0b-710f910a8f6a",
   "metadata": {},
   "outputs": [
    {
     "name": "stdout",
     "output_type": "stream",
     "text": [
      "name\n",
      "age\n",
      "city\n"
     ]
    }
   ],
   "source": [
    "# 6. iterating over keys n values\n",
    "dict1={'name':'alice',\"age\":25,'city':'new york'}\n",
    "for i in dict1:\n",
    "    print(i)"
   ]
  },
  {
   "cell_type": "code",
   "execution_count": 25,
   "id": "b0b52384-873f-4b9c-8c02-56caff96394c",
   "metadata": {},
   "outputs": [
    {
     "name": "stdout",
     "output_type": "stream",
     "text": [
      "name\n",
      "age\n",
      "city\n"
     ]
    }
   ],
   "source": [
    "# 6. iterating over keys n values\n",
    "dict1={'name':'alice',\"age\":25,'city':'new york'}\n",
    "for i in dict1:\n",
    "    print(i)"
   ]
  },
  {
   "cell_type": "code",
   "execution_count": 26,
   "id": "bb867617-8238-454e-85e6-6e0dab7e1412",
   "metadata": {},
   "outputs": [
    {
     "name": "stdout",
     "output_type": "stream",
     "text": [
      "alice\n",
      "25\n",
      "new york\n"
     ]
    }
   ],
   "source": [
    "for i in dict1.values():\n",
    "    print(i)"
   ]
  },
  {
   "cell_type": "code",
   "execution_count": 27,
   "id": "0da15944-efa8-4ef6-84d5-6633abb4775f",
   "metadata": {},
   "outputs": [
    {
     "name": "stdout",
     "output_type": "stream",
     "text": [
      "('name', 'alice')\n",
      "('age', 25)\n",
      "('city', 'new york')\n"
     ]
    }
   ],
   "source": [
    "for i in dict1.items():\n",
    "    print(i)"
   ]
  },
  {
   "cell_type": "code",
   "execution_count": 28,
   "id": "459e6a86-42e5-4dfe-bb94-e66ac128635b",
   "metadata": {},
   "outputs": [
    {
     "name": "stdout",
     "output_type": "stream",
     "text": [
      "name: alice\n",
      "age: 25\n",
      "city: new york\n"
     ]
    }
   ],
   "source": [
    "for i,j in dict1.items():\n",
    "    print(f'{i}: {j}')"
   ]
  },
  {
   "cell_type": "code",
   "execution_count": 29,
   "id": "d7798e64-40cb-4357-83a5-dc8ddfbdcf55",
   "metadata": {},
   "outputs": [],
   "source": [
    "#  nested dictinary in python\n",
    "nested_dict={\n",
    "    'person1':{\n",
    "        'name':'alice',\n",
    "        'age':25,\n",
    "        'city':'new york'\n",
    "    },\n",
    "    'person2':{\n",
    "        'name':'bob',\n",
    "        'age':31,\n",
    "        'city':'delhi'\n",
    "    }\n",
    "}"
   ]
  },
  {
   "cell_type": "code",
   "execution_count": 30,
   "id": "b8bedbec-1043-4baa-8030-78b590f055b3",
   "metadata": {},
   "outputs": [
    {
     "data": {
      "text/plain": [
       "{'person1': {'name': 'alice', 'age': 25, 'city': 'new york'},\n",
       " 'person2': {'name': 'bob', 'age': 31, 'city': 'delhi'}}"
      ]
     },
     "execution_count": 30,
     "metadata": {},
     "output_type": "execute_result"
    }
   ],
   "source": [
    "nested_dict"
   ]
  },
  {
   "cell_type": "code",
   "execution_count": 31,
   "id": "f23656cf-c472-4ad1-ab69-46aac8d7da65",
   "metadata": {},
   "outputs": [
    {
     "data": {
      "text/plain": [
       "{'name': 'bob', 'age': 31, 'city': 'delhi'}"
      ]
     },
     "execution_count": 31,
     "metadata": {},
     "output_type": "execute_result"
    }
   ],
   "source": [
    "# accessing nested dictionary\n",
    "nested_dict['person2']"
   ]
  },
  {
   "cell_type": "code",
   "execution_count": 32,
   "id": "9e5cf8b9-afda-4ac2-8269-886cac59c5ac",
   "metadata": {},
   "outputs": [
    {
     "data": {
      "text/plain": [
       "'new york'"
      ]
     },
     "execution_count": 32,
     "metadata": {},
     "output_type": "execute_result"
    }
   ],
   "source": [
    "\n",
    "nested_dict['person1']['city']"
   ]
  },
  {
   "cell_type": "code",
   "execution_count": 33,
   "id": "bd88a046-653c-416c-a255-d96c9d7517f3",
   "metadata": {},
   "outputs": [
    {
     "data": {
      "text/plain": [
       "'bob'"
      ]
     },
     "execution_count": 33,
     "metadata": {},
     "output_type": "execute_result"
    }
   ],
   "source": [
    "nested_dict['person2']['name']"
   ]
  },
  {
   "cell_type": "code",
   "execution_count": 34,
   "id": "d6ff7bc4-28fb-47a9-a48d-01502488e47b",
   "metadata": {},
   "outputs": [
    {
     "data": {
      "text/plain": [
       "{'person1': {'name': 'navya', 'age': 25, 'city': 'new york'},\n",
       " 'person2': {'name': 'bob', 'age': 31, 'city': 'delhi'}}"
      ]
     },
     "execution_count": 34,
     "metadata": {},
     "output_type": "execute_result"
    }
   ],
   "source": [
    "# modifying elements in a nested dictionary\n",
    "nested_dict['person1']['name']='navya'\n",
    "nested_dict"
   ]
  },
  {
   "cell_type": "code",
   "execution_count": 35,
   "id": "5a872210-2d60-40a4-9b7a-743e3b171192",
   "metadata": {},
   "outputs": [],
   "source": [
    "#  adding a new dictionary to a nested dictionary"
   ]
  },
  {
   "cell_type": "code",
   "execution_count": null,
   "id": "0fccbfee-0095-4921-aaef-c7c235f4e81f",
   "metadata": {},
   "outputs": [],
   "source": [
    "nested_dict['person3']={\n",
    "    'name':'diana',\n",
    "    'age':['person4']='yogi'\n",
    "nested_dict\n",
    "    'city':'boston'\n",
    "}"
   ]
  },
  {
   "cell_type": "code",
   "execution_count": 36,
   "id": "dfa858f3-c7d5-42cc-9117-622bdc2f0849",
   "metadata": {},
   "outputs": [
    {
     "data": {
      "text/plain": [
       "{'person1': {'name': 'navya', 'age': 25, 'city': 'new york'},\n",
       " 'person2': {'name': 'bob', 'age': 31, 'city': 'delhi'}}"
      ]
     },
     "execution_count": 36,
     "metadata": {},
     "output_type": "execute_result"
    }
   ],
   "source": [
    "nested_dict"
   ]
  },
  {
   "cell_type": "code",
   "execution_count": 37,
   "id": "b4874398-96c2-4117-ac4c-718a1f9dbc88",
   "metadata": {},
   "outputs": [
    {
     "data": {
      "text/plain": [
       "{'person1': {'name': 'navya', 'age': 25, 'city': 'new york'},\n",
       " 'person2': {'name': 'bob', 'age': 31, 'city': 'delhi'},\n",
       " 'person4': 'yogi'}"
      ]
     },
     "execution_count": 37,
     "metadata": {},
     "output_type": "execute_result"
    }
   ],
   "source": [
    "nested_dict['person4']='yogi'\n",
    "nested_dict"
   ]
  },
  {
   "cell_type": "code",
   "execution_count": null,
   "id": "6ddf6d2b-325c-45f5-be83-bc772da0e38a",
   "metadata": {},
   "outputs": [],
   "source": [
    "#  looping through a nested dictionary\n",
    "users={\n",
    "    \n",
    "}"
   ]
  },
  {
   "cell_type": "code",
   "execution_count": null,
   "id": "b94d20d8-726a-4a99-9b88-c1b3dec4caa8",
   "metadata": {},
   "outputs": [],
   "source": [
    "# adding key-value pairs to a dictionary"
   ]
  },
  {
   "cell_type": "code",
   "execution_count": null,
   "id": "3934bc45-5837-4fd1-abd6-8ef4c6ee18e4",
   "metadata": {},
   "outputs": [],
   "source": [
    "# removing \n",
    "del\n",
    "pop\n",
    "popitem()"
   ]
  },
  {
   "cell_type": "code",
   "execution_count": 38,
   "id": "40482155-a477-48c9-9534-4b04aa2391e1",
   "metadata": {},
   "outputs": [],
   "source": [
    "# 1.using del\n",
    "my_dict={'name':'alice',\"age\":25,'city':'new york','profession':'engineer'}\n",
    "del my_dict['age']"
   ]
  },
  {
   "cell_type": "code",
   "execution_count": 39,
   "id": "a65dd4c9-8031-47bb-8ae6-1e8bebd0ad6c",
   "metadata": {},
   "outputs": [
    {
     "data": {
      "text/plain": [
       "{'name': 'alice', 'city': 'new york', 'profession': 'engineer'}"
      ]
     },
     "execution_count": 39,
     "metadata": {},
     "output_type": "execute_result"
    }
   ],
   "source": [
    " my_dict"
   ]
  },
  {
   "cell_type": "code",
   "execution_count": 40,
   "id": "fdc00bbe-8f1d-4860-9f9c-1ee6ca86b734",
   "metadata": {},
   "outputs": [
    {
     "data": {
      "text/plain": [
       "'engineer'"
      ]
     },
     "execution_count": 40,
     "metadata": {},
     "output_type": "execute_result"
    }
   ],
   "source": [
    "# 2. using pop() method\n",
    "my_dict.pop('profession')\n"
   ]
  },
  {
   "cell_type": "code",
   "execution_count": 41,
   "id": "db500de3-c64a-4d83-9d1a-f9822ba5666b",
   "metadata": {},
   "outputs": [
    {
     "data": {
      "text/plain": [
       "{'name': 'alice', 'city': 'new york'}"
      ]
     },
     "execution_count": 41,
     "metadata": {},
     "output_type": "execute_result"
    }
   ],
   "source": [
    "my_dict"
   ]
  },
  {
   "cell_type": "code",
   "execution_count": 42,
   "id": "2b7578db-316a-4521-af94-4ec088b725f2",
   "metadata": {},
   "outputs": [
    {
     "data": {
      "text/plain": [
       "('city', 'new york')"
      ]
     },
     "execution_count": 42,
     "metadata": {},
     "output_type": "execute_result"
    }
   ],
   "source": [
    "# 3. using pop item()method= removes the last key-value pair from the dictionary\n",
    "my_dict.popitem()"
   ]
  },
  {
   "cell_type": "code",
   "execution_count": 43,
   "id": "3ff2eb05-ced3-4d4e-9eca-b62e24ac9e67",
   "metadata": {},
   "outputs": [
    {
     "data": {
      "text/plain": [
       "{'name': 'alice'}"
      ]
     },
     "execution_count": 43,
     "metadata": {},
     "output_type": "execute_result"
    }
   ],
   "source": [
    "my_dict"
   ]
  },
  {
   "cell_type": "code",
   "execution_count": 44,
   "id": "1c82944b-e0bd-4c74-a06e-13955547828b",
   "metadata": {},
   "outputs": [
    {
     "data": {
      "text/plain": [
       "('name', 'alice')"
      ]
     },
     "execution_count": 44,
     "metadata": {},
     "output_type": "execute_result"
    }
   ],
   "source": [
    "my_dict.popitem()"
   ]
  },
  {
   "cell_type": "code",
   "execution_count": 45,
   "id": "39c3ecf4-5b5f-4d47-bbfb-c48f4835c503",
   "metadata": {},
   "outputs": [
    {
     "data": {
      "text/plain": [
       "{}"
      ]
     },
     "execution_count": 45,
     "metadata": {},
     "output_type": "execute_result"
    }
   ],
   "source": [
    "my_dict"
   ]
  },
  {
   "cell_type": "code",
   "execution_count": null,
   "id": "ba09de33-a7b0-46a2-9623-6113cfbe6145",
   "metadata": {},
   "outputs": [],
   "source": [
    "# membership operator\n",
    "in opearator\n",
    "not in opearator"
   ]
  },
  {
   "cell_type": "code",
   "execution_count": 46,
   "id": "79b19cdb-824e-4ddc-9aa5-971b0598c0a0",
   "metadata": {},
   "outputs": [
    {
     "data": {
      "text/plain": [
       "False"
      ]
     },
     "execution_count": 46,
     "metadata": {},
     "output_type": "execute_result"
    }
   ],
   "source": [
    "# 1. in opearator\n",
    "my_dict={'name':'alice',\"age\":25,'city':'new york','profession':'engineer'}\n",
    "25 in my_dict"
   ]
  },
  {
   "cell_type": "code",
   "execution_count": 47,
   "id": "b4274849-6633-47ee-84f1-fe9a0df30850",
   "metadata": {},
   "outputs": [
    {
     "data": {
      "text/plain": [
       "True"
      ]
     },
     "execution_count": 47,
     "metadata": {},
     "output_type": "execute_result"
    }
   ],
   "source": [
    "'age' in my_dict"
   ]
  },
  {
   "cell_type": "code",
   "execution_count": 48,
   "id": "ad9c2b59-945f-4181-9f72-949e5213907b",
   "metadata": {},
   "outputs": [
    {
     "data": {
      "text/plain": [
       "False"
      ]
     },
     "execution_count": 48,
     "metadata": {},
     "output_type": "execute_result"
    }
   ],
   "source": [
    "#  not in\n",
    "'city' not in my_dict"
   ]
  },
  {
   "cell_type": "code",
   "execution_count": 49,
   "id": "535321fd-205a-4830-8968-af9c7ae9871e",
   "metadata": {},
   "outputs": [
    {
     "data": {
      "text/plain": [
       "True"
      ]
     },
     "execution_count": 49,
     "metadata": {},
     "output_type": "execute_result"
    }
   ],
   "source": [
    "'course' not in my_dict"
   ]
  },
  {
   "cell_type": "code",
   "execution_count": null,
   "id": "511f0416-5152-4606-9f00-5df9c5397469",
   "metadata": {},
   "outputs": [],
   "source": [
    "students={\n",
    "    'alice':{'age':20,'grade':'A'},\n",
    "    'bob':{'age':25,'grade':'B'},\n",
    "    'diana':{'age':30,'grade':'A+'}\n",
    "}\n",
    "for i"
   ]
  },
  {
   "cell_type": "code",
   "execution_count": 51,
   "id": "f80a69f4-79df-49bc-9952-435692fce488",
   "metadata": {},
   "outputs": [
    {
     "data": {
      "text/plain": [
       "{1: 1, 2: 4, 3: 9, 4: 16, 5: 25}"
      ]
     },
     "execution_count": 51,
     "metadata": {},
     "output_type": "execute_result"
    }
   ],
   "source": [
    "# dictionary comprehension\n",
    "# 1. basic dictionary comprehension\n",
    "squares={i:i**2 for i in range(1,6)}\n",
    "squares"
   ]
  },
  {
   "cell_type": "code",
   "execution_count": 52,
   "id": "ed67c660-bd71-4436-94e7-1899a6c02034",
   "metadata": {},
   "outputs": [
    {
     "data": {
      "text/plain": [
       "{2: 8, 4: 64, 6: 216, 8: 512, 10: 1000}"
      ]
     },
     "execution_count": 52,
     "metadata": {},
     "output_type": "execute_result"
    }
   ],
   "source": [
    "# dictionary comprehension with condition\n",
    "squares={x:x**3 for x in range(1,11) if x%2==0}\n",
    "squares"
   ]
  },
  {
   "cell_type": "code",
   "execution_count": null,
   "id": "78f937a7-16be-4b4a-a6f6-4f213d660f0f",
   "metadata": {},
   "outputs": [],
   "source": [
    "# advantages\n",
    "conciseness\n",
    "readability\n",
    "efficiency"
   ]
  }
 ],
 "metadata": {
  "kernelspec": {
   "display_name": "Python 3 (ipykernel)",
   "language": "python",
   "name": "python3"
  },
  "language_info": {
   "codemirror_mode": {
    "name": "ipython",
    "version": 3
   },
   "file_extension": ".py",
   "mimetype": "text/x-python",
   "name": "python",
   "nbconvert_exporter": "python",
   "pygments_lexer": "ipython3",
   "version": "3.12.7"
  }
 },
 "nbformat": 4,
 "nbformat_minor": 5
}
