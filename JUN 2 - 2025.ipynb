{
 "cells": [
  {
   "cell_type": "code",
   "execution_count": null,
   "id": "ffe09a18-88ea-4653-8b49-e9f853ea9e13",
   "metadata": {},
   "outputs": [],
   "source": [
    "                                               STATISTICAL FUNCTION\n"
   ]
  },
  {
   "cell_type": "code",
   "execution_count": null,
   "id": "750f5302-5bb2-437a-97d6-4e177e496f65",
   "metadata": {},
   "outputs": [],
   "source": [
    "np.mean()-mean(average)"
   ]
  },
  {
   "cell_type": "code",
   "execution_count": null,
   "id": "a6877524-19b5-4e18-85ec-96300025803d",
   "metadata": {},
   "outputs": [],
   "source": [
    "median- middle value\n",
    "np.median()- median"
   ]
  },
  {
   "cell_type": "code",
   "execution_count": null,
   "id": "ee48cd98-79ee-450b-8cb1-0b8fcb3b1a4c",
   "metadata": {},
   "outputs": [],
   "source": [
    "-1,-2,-3,0,1,3,50,1000----->SKEWED DATA"
   ]
  },
  {
   "cell_type": "code",
   "execution_count": 4,
   "id": "3ddf1193-7af6-4ab1-9640-a939f8773b3d",
   "metadata": {},
   "outputs": [
    {
     "name": "stdout",
     "output_type": "stream",
     "text": [
      "Median Income: 65000.0\n"
     ]
    }
   ],
   "source": [
    "import numpy as np\n",
    "incomes = np.array([45000, 55000, 60000, 65000, 70000, 80000,90000])\n",
    "median_income = np.median(incomes)\n",
    "print(\"Median Income:\", median_income)"
   ]
  },
  {
   "cell_type": "code",
   "execution_count": 10,
   "id": "cdc1d6ea-fe2a-46f0-8b15-289645b6179d",
   "metadata": {},
   "outputs": [
    {
     "ename": "NameError",
     "evalue": "name 'mean_temperature' is not defined",
     "output_type": "error",
     "traceback": [
      "\u001b[1;31m---------------------------------------------------------------------------\u001b[0m",
      "\u001b[1;31mNameError\u001b[0m                                 Traceback (most recent call last)",
      "Cell \u001b[1;32mIn[10], line 4\u001b[0m\n\u001b[0;32m      2\u001b[0m temperature \u001b[38;5;241m=\u001b[39m np\u001b[38;5;241m.\u001b[39marray([\u001b[38;5;241m27\u001b[39m, \u001b[38;5;241m67\u001b[39m, \u001b[38;5;241m58\u001b[39m, \u001b[38;5;241m56\u001b[39m, \u001b[38;5;241m85\u001b[39m, \u001b[38;5;241m34\u001b[39m])\n\u001b[0;32m      3\u001b[0m average_temperature \u001b[38;5;241m=\u001b[39m np\u001b[38;5;241m.\u001b[39mmean(temperature)\n\u001b[1;32m----> 4\u001b[0m \u001b[38;5;28mprint\u001b[39m(\u001b[38;5;124m\"\u001b[39m\u001b[38;5;124mMean Temperature:\u001b[39m\u001b[38;5;124m\"\u001b[39m, mean_temperature)\n",
      "\u001b[1;31mNameError\u001b[0m: name 'mean_temperature' is not defined"
     ]
    }
   ],
   "source": [
    "import numpy as np\n",
    "temperature = np.array([27, 67, 58, 56, 85, 34])\n",
    "average_temperature = np.mean(temperature)\n",
    "print(\"Mean Temperature:\", mean_temperature)"
   ]
  },
  {
   "cell_type": "code",
   "execution_count": null,
   "id": "4e9ec845-7ac8-4507-b3d2-b11ef53bad81",
   "metadata": {},
   "outputs": [],
   "source": [
    "                                              STANDARD DEVIATION\n",
    "                                           np.sts()-STANDARD DEVIATION\n",
    "                            COMPARING PERFORMANCE CONSISTENCY BETWEEN TWO CLASSES:"
   ]
  },
  {
   "cell_type": "code",
   "execution_count": 15,
   "id": "9633a4cd-035c-45db-a367-c1b0ff522cca",
   "metadata": {},
   "outputs": [
    {
     "data": {
      "text/plain": [
       "32.341923257592455"
      ]
     },
     "execution_count": 15,
     "metadata": {},
     "output_type": "execute_result"
    }
   ],
   "source": [
    "classA = np.array([78, 98, 87, 97])\n",
    "classB = np.array([67, 89, 87, 9])\n",
    "np.std(classA)\n",
    "np.std(classB)"
   ]
  },
  {
   "cell_type": "code",
   "execution_count": 16,
   "id": "64c0c5a7-e1fa-4685-a668-102c5cc01631",
   "metadata": {},
   "outputs": [
    {
     "data": {
      "text/plain": [
       "8.154753215150045"
      ]
     },
     "execution_count": 16,
     "metadata": {},
     "output_type": "execute_result"
    }
   ],
   "source": [
    "np.std(classA)"
   ]
  },
  {
   "cell_type": "code",
   "execution_count": 17,
   "id": "9a6f62c2-36c0-4790-bd93-ced7a8530d34",
   "metadata": {},
   "outputs": [
    {
     "data": {
      "text/plain": [
       "32.341923257592455"
      ]
     },
     "execution_count": 17,
     "metadata": {},
     "output_type": "execute_result"
    }
   ],
   "source": [
    "np.std(classB)"
   ]
  },
  {
   "cell_type": "code",
   "execution_count": null,
   "id": "5dbd752e-70f7-4fa8-aa20-0799b9d06cd0",
   "metadata": {},
   "outputs": [],
   "source": [
    "VARIANCE:\n",
    "Variance is the square of the stadard deviation.\n",
    "it measures how spread the data"
   ]
  },
  {
   "cell_type": "code",
   "execution_count": 22,
   "id": "d35fd691-8b36-4e35-bccf-2c5af0a33788",
   "metadata": {},
   "outputs": [
    {
     "data": {
      "text/plain": [
       "9.0"
      ]
     },
     "execution_count": 22,
     "metadata": {},
     "output_type": "execute_result"
    }
   ],
   "source": [
    "prd_a = np.array([4, 3])\n",
    "prd_b = np.array([2, 8])\n",
    "\n",
    "np.var(prd_a)\n",
    "np.var(prd_b)\n",
    "\n",
    "\n"
   ]
  },
  {
   "cell_type": "code",
   "execution_count": 23,
   "id": "5de63aa6-d40b-451a-9d91-fcc1cc827120",
   "metadata": {},
   "outputs": [
    {
     "data": {
      "text/plain": [
       "0.25"
      ]
     },
     "execution_count": 23,
     "metadata": {},
     "output_type": "execute_result"
    }
   ],
   "source": [
    "np.var(prd_a)"
   ]
  },
  {
   "cell_type": "code",
   "execution_count": 24,
   "id": "9fa0b876-8026-4981-a00a-c097f355831e",
   "metadata": {},
   "outputs": [
    {
     "data": {
      "text/plain": [
       "9.0"
      ]
     },
     "execution_count": 24,
     "metadata": {},
     "output_type": "execute_result"
    }
   ],
   "source": [
    "np.var(prd_b)"
   ]
  },
  {
   "cell_type": "code",
   "execution_count": null,
   "id": "6d57adb1-139c-4962-9df2-d4f716c3574d",
   "metadata": {},
   "outputs": [],
   "source": [
    "                                                  MIN AND MAX\n",
    "                                              np.min() and np.max()"
   ]
  },
  {
   "cell_type": "code",
   "execution_count": 25,
   "id": "8a0ac816-a6d4-40cd-8875-dbddcda64ba5",
   "metadata": {},
   "outputs": [
    {
     "name": "stdout",
     "output_type": "stream",
     "text": [
      "Min Traffic: 1200\n",
      "Max Traffic: 6900\n"
     ]
    }
   ],
   "source": [
    "daily_traffic = np.array([1200, 3400, 6900, 1400, 1550,1680])\n",
    "print (\"Min Traffic:\",np.min(daily_traffic))\n",
    "print(\"Max Traffic:\",np.max(daily_traffic))"
   ]
  },
  {
   "cell_type": "code",
   "execution_count": null,
   "id": "10ea7198-18c6-428a-ab44-6f4c859a3cb3",
   "metadata": {},
   "outputs": [],
   "source": [
    "                                                       sum\n",
    "                                               np.sum()-Summation\n",
    "                               this function comutes the total sum of array elements."
   ]
  },
  {
   "cell_type": "code",
   "execution_count": 26,
   "id": "921b5fdc-87cd-4eaf-9ab5-e2aca9f9cc33",
   "metadata": {},
   "outputs": [
    {
     "name": "stdout",
     "output_type": "stream",
     "text": [
      "Total weekely sales: 39400\n"
     ]
    }
   ],
   "source": [
    "sales = np.array([5500, 6400, 4500, 5600, 8700,8700])\n",
    "total_sales = np.sum(sales)\n",
    "print(\"Total weekely sales:\", total_sales)"
   ]
  },
  {
   "cell_type": "code",
   "execution_count": null,
   "id": "b5384e01-91ae-4292-96b6-b8366925d4a1",
   "metadata": {},
   "outputs": [],
   "source": [
    "                                         PERCENTILES\n",
    "                       devide data set into 100 eqal parts"
   ]
  },
  {
   "cell_type": "code",
   "execution_count": null,
   "id": "6b76e1ee-71e6-4048-8d40-ffef216a702d",
   "metadata": {},
   "outputs": [],
   "source": [
    "test_scores = np.array([65, 76, 80, 85, 90, 93, 95, 96, 98, 100, 104, 106, 108,110, 112, 114, 116, 118, 120, 122, 124, 128, 130, 132, 134, 136,\n",
    "                        134, 136, 138])\n",
    "\n",
    "print(\"25th percentiles:\", np.percentiles(test_scores, 25))\n",
    "print(\"50th percentiles(Median):\", np.percentiles(test_scores, 50))\n",
    "print(\"75th percentiles:\", np.percentiles(test_scores, 75))\n",
    "print(\"90th percentiles:\", np.percentiles(test_scores, 90))\n"
   ]
  },
  {
   "cell_type": "code",
   "execution_count": null,
   "id": "5b59dcf5-6191-4c2f-a31f-af6027e49f0e",
   "metadata": {},
   "outputs": [],
   "source": [
    "                                        BINARY FORMAT\n",
    "                                          np.save()\n",
    "                                      save a numpy array to a.npy file                       "
   ]
  },
  {
   "cell_type": "code",
   "execution_count": 30,
   "id": "c348b806-55e5-4a56-ab55-ae5b5c2cf4af",
   "metadata": {},
   "outputs": [],
   "source": [
    "import numpy as np\n",
    "arr = np.array([1, 2, 3, 4, 5])\n",
    "np.save('my_array.npy' , arr)"
   ]
  },
  {
   "cell_type": "code",
   "execution_count": null,
   "id": "652b916b-af81-42f5-941c-83711f771c46",
   "metadata": {},
   "outputs": [],
   "source": []
  }
 ],
 "metadata": {
  "kernelspec": {
   "display_name": "Python 3 (ipykernel)",
   "language": "python",
   "name": "python3"
  },
  "language_info": {
   "codemirror_mode": {
    "name": "ipython",
    "version": 3
   },
   "file_extension": ".py",
   "mimetype": "text/x-python",
   "name": "python",
   "nbconvert_exporter": "python",
   "pygments_lexer": "ipython3",
   "version": "3.12.7"
  }
 },
 "nbformat": 4,
 "nbformat_minor": 5
}
