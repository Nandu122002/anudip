{
 "cells": [
  {
   "cell_type": "code",
   "execution_count": 1,
   "id": "959d848b-229d-4954-9568-ee83dc9183b6",
   "metadata": {},
   "outputs": [],
   "source": [
    "class mylist:\n",
    "    def __init__(self):\n",
    "        self.items=[]\n",
    "    def append(self, item):\n",
    "        \"\"\"method to add an item to the list\"\"\"\n",
    "        self.items.append(item)\n",
    "\n",
    "    def remove(self,item):\n",
    "        \"\"\" method to remove an item from the list\"\"\"\n",
    "        if item in self.items:\n",
    "            self.items.remove(item)\n",
    "        else:\n",
    "            print(f'{item} not found in the list')\n",
    "\n",
    "    def display(self):\n",
    "        \"\"\"method to display the current list\"\"\"\n",
    "        print(self.items)\n",
    "\n",
    "    def size(self):\n",
    "        \"\"\"method to return the size of the list\"\"\"\n",
    "        return len(self.items)\n",
    "        "
   ]
  },
  {
   "cell_type": "code",
   "execution_count": 2,
   "id": "02d1d22f-f47e-4bf3-a77c-2284872f322e",
   "metadata": {},
   "outputs": [],
   "source": [
    "l=mylist()\n",
    "l.append(1)\n",
    "l.append(2)\n",
    "l.append(3)"
   ]
  },
  {
   "cell_type": "code",
   "execution_count": 3,
   "id": "e31e2521-c895-4e3a-8ec2-480bc69ea40d",
   "metadata": {},
   "outputs": [
    {
     "name": "stdout",
     "output_type": "stream",
     "text": [
      "[1, 2, 3]\n"
     ]
    }
   ],
   "source": [
    "l.display()"
   ]
  },
  {
   "cell_type": "code",
   "execution_count": 5,
   "id": "febce2e0-1e34-45ff-9f27-800e37217a31",
   "metadata": {},
   "outputs": [
    {
     "data": {
      "text/plain": [
       "3"
      ]
     },
     "execution_count": 5,
     "metadata": {},
     "output_type": "execute_result"
    }
   ],
   "source": [
    "l.size()"
   ]
  },
  {
   "cell_type": "code",
   "execution_count": null,
   "id": "0dcc9569-20d2-4c05-8437-2da87d4667e0",
   "metadata": {},
   "outputs": [],
   "source": [
    "instance methods\n",
    "class methods"
   ]
  },
  {
   "cell_type": "code",
   "execution_count": 7,
   "id": "2ee0a901-9625-47f6-91e0-43b2df5cd85a",
   "metadata": {},
   "outputs": [],
   "source": [
    "class car:\n",
    "    # class attribute\n",
    "    wheels=4\n",
    "\n",
    "    def __init__(self,make,model):\n",
    "        self.make=make        #instance attribute\n",
    "        self.model=model      #instance attribute\n",
    "\n",
    "    # class method\n",
    "    @classmethod\n",
    "    def set_wheels(cls,number):\n",
    "        cls.wheels=number     # modify the class attribute\n",
    "\n",
    "    def car_info(self):    \n",
    "        return f\"{self.make} {self.model} has {car.wheels}\"\n",
    "        \n",
    "        "
   ]
  },
  {
   "cell_type": "code",
   "execution_count": 8,
   "id": "04e6c7f0-d17c-446e-a8a6-a956ab64ee1f",
   "metadata": {},
   "outputs": [
    {
     "data": {
      "text/plain": [
       "<bound method car.set_wheels of <class '__main__.car'>>"
      ]
     },
     "execution_count": 8,
     "metadata": {},
     "output_type": "execute_result"
    }
   ],
   "source": [
    "obj=car('bmw','benz')\n",
    "obj.set_wheels"
   ]
  },
  {
   "cell_type": "code",
   "execution_count": 9,
   "id": "f9655f6b-1799-449b-ba30-8a23b0e7fa6e",
   "metadata": {},
   "outputs": [],
   "source": [
    "obj.set_wheels(3)"
   ]
  },
  {
   "cell_type": "code",
   "execution_count": 10,
   "id": "e45dbb7d-6250-4d54-832a-73f8c66ee494",
   "metadata": {},
   "outputs": [
    {
     "data": {
      "text/plain": [
       "'bmw benz has 3'"
      ]
     },
     "execution_count": 10,
     "metadata": {},
     "output_type": "execute_result"
    }
   ],
   "source": [
    "obj.car_info()"
   ]
  },
  {
   "cell_type": "code",
   "execution_count": null,
   "id": "305d70a6-d599-4824-879d-4eb4e9036b18",
   "metadata": {},
   "outputs": [],
   "source": [
    "exception handling"
   ]
  },
  {
   "cell_type": "code",
   "execution_count": 11,
   "id": "0c0d19f5-3413-4225-92e1-4d54037751e9",
   "metadata": {},
   "outputs": [
    {
     "name": "stdin",
     "output_type": "stream",
     "text": [
      "enter a number:  4\n"
     ]
    },
    {
     "name": "stdout",
     "output_type": "stream",
     "text": [
      "result is 2.5\n"
     ]
    }
   ],
   "source": [
    "# try except\n",
    "\n",
    "try:\n",
    "    x=int(input(\"enter a number: \"))\n",
    "    result=10/x\n",
    "    print(\"result is\",result)\n",
    "\n",
    "except ValueError:\n",
    "    print(\"that was not a number.\")\n",
    "\n",
    "except ZeroDivisionError:\n",
    "    print('you cannot divide by zero')\n"
   ]
  },
  {
   "cell_type": "code",
   "execution_count": 12,
   "id": "bcb190a7-3261-4d1a-9936-0c18d179b965",
   "metadata": {},
   "outputs": [
    {
     "name": "stdout",
     "output_type": "stream",
     "text": [
      "result is: 5.0\n",
      "this block runs no matter what.\n"
     ]
    }
   ],
   "source": [
    "# try excccept else finally\n",
    "\n",
    "try:\n",
    "    x=10\n",
    "    y=2\n",
    "    result=x/y\n",
    "\n",
    "except ZeroDivisionError:\n",
    "    print('cannot divide by zero')\n",
    "\n",
    "else:\n",
    "    print('result is:',result)\n",
    "\n",
    "finally:\n",
    "    print('this block runs no matter what.')\n"
   ]
  },
  {
   "cell_type": "code",
   "execution_count": null,
   "id": "67e15f95-5e0f-4ee9-b3cf-961188bd0cdb",
   "metadata": {},
   "outputs": [],
   "source": []
  }
 ],
 "metadata": {
  "kernelspec": {
   "display_name": "Python 3 (ipykernel)",
   "language": "python",
   "name": "python3"
  },
  "language_info": {
   "codemirror_mode": {
    "name": "ipython",
    "version": 3
   },
   "file_extension": ".py",
   "mimetype": "text/x-python",
   "name": "python",
   "nbconvert_exporter": "python",
   "pygments_lexer": "ipython3",
   "version": "3.12.7"
  }
 },
 "nbformat": 4,
 "nbformat_minor": 5
}
