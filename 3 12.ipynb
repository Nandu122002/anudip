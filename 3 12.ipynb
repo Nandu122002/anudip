{
 "cells": [
  {
   "cell_type": "code",
   "execution_count": 1,
   "id": "1cc41103-8012-45b7-875f-463fc83ee4e1",
   "metadata": {},
   "outputs": [
    {
     "name": "stdout",
     "output_type": "stream",
     "text": [
      "(1, 'hello', 3.14)\n"
     ]
    }
   ],
   "source": [
    "hetrogeneous\n",
    "\n",
    "my_tup=(1,'hello',3.14)\n",
    "print(my_tup)"
   ]
  },
  {
   "cell_type": "code",
   "execution_count": 2,
   "id": "c2b71188-69f0-46d6-8940-d6ff5df8f3c1",
   "metadata": {},
   "outputs": [
    {
     "name": "stdout",
     "output_type": "stream",
     "text": [
      "30\n",
      "(20, 30, 40)\n"
     ]
    }
   ],
   "source": [
    "# 4. indexing n slicing\n",
    "my_tuple=(10,20,30,40,50)\n",
    "print(my_tuple[2])\n",
    "print(my_tuple[1:4])\n"
   ]
  },
  {
   "cell_type": "code",
   "execution_count": 3,
   "id": "601ade5b-2a97-4026-9996-bfd961b281ce",
   "metadata": {},
   "outputs": [
    {
     "data": {
      "text/plain": [
       "30"
      ]
     },
     "execution_count": 3,
     "metadata": {},
     "output_type": "execute_result"
    }
   ],
   "source": [
    "my_tuple[2]"
   ]
  },
  {
   "cell_type": "code",
   "execution_count": 4,
   "id": "4f75bea4-617b-48ac-a467-d413ffd6320b",
   "metadata": {},
   "outputs": [
    {
     "data": {
      "text/plain": [
       "tuple"
      ]
     },
     "execution_count": 4,
     "metadata": {},
     "output_type": "execute_result"
    }
   ],
   "source": [
    "# 5. packing and unpacking\n",
    "# packing\n",
    "my_tup=1,2,3\n",
    "type(my_tup)"
   ]
  },
  {
   "cell_type": "code",
   "execution_count": 5,
   "id": "32f6a5d1-2768-47ec-8662-3f3f9133123f",
   "metadata": {},
   "outputs": [
    {
     "name": "stdout",
     "output_type": "stream",
     "text": [
      "(1, 2, 3)\n"
     ]
    }
   ],
   "source": [
    "print(my_tup)"
   ]
  },
  {
   "cell_type": "code",
   "execution_count": 6,
   "id": "4e11c91a-010a-4708-a97d-6b31e54aa852",
   "metadata": {},
   "outputs": [
    {
     "name": "stdout",
     "output_type": "stream",
     "text": [
      "1 2 3\n"
     ]
    }
   ],
   "source": [
    "#  unpacking\n",
    "a,b,c=my_tup\n",
    "print(a,b,c)"
   ]
  },
  {
   "cell_type": "code",
   "execution_count": 7,
   "id": "396f9a58-f7ae-4089-8fe4-ff45fee8af3d",
   "metadata": {},
   "outputs": [
    {
     "data": {
      "text/plain": [
       "1"
      ]
     },
     "execution_count": 7,
     "metadata": {},
     "output_type": "execute_result"
    }
   ],
   "source": [
    "a"
   ]
  },
  {
   "cell_type": "code",
   "execution_count": 9,
   "id": "4e787e78-c3c4-4064-b6e5-a7271a010d29",
   "metadata": {},
   "outputs": [
    {
     "data": {
      "text/plain": [
       "2"
      ]
     },
     "execution_count": 9,
     "metadata": {},
     "output_type": "execute_result"
    }
   ],
   "source": [
    "b"
   ]
  },
  {
   "cell_type": "code",
   "execution_count": 10,
   "id": "a7c48556-452e-4f01-bb75-4b27fe410a1f",
   "metadata": {},
   "outputs": [
    {
     "data": {
      "text/plain": [
       "3"
      ]
     },
     "execution_count": 10,
     "metadata": {},
     "output_type": "execute_result"
    }
   ],
   "source": [
    "c"
   ]
  },
  {
   "cell_type": "code",
   "execution_count": 11,
   "id": "77bd982b-7e9d-4d26-a982-40bc06e02033",
   "metadata": {},
   "outputs": [
    {
     "name": "stdout",
     "output_type": "stream",
     "text": [
      "('john', 25, 'engineer')\n"
     ]
    }
   ],
   "source": [
    "person=('john',25,'engineer')\n",
    "print(person)"
   ]
  },
  {
   "cell_type": "code",
   "execution_count": 12,
   "id": "5d08dc7b-14be-42e5-9afc-19bdfe958a77",
   "metadata": {},
   "outputs": [
    {
     "name": "stdout",
     "output_type": "stream",
     "text": [
      "10 20 30\n"
     ]
    }
   ],
   "source": [
    "coordinates=(10,20,30)\n",
    "x=coordinates[0]\n",
    "y=coordinates[1]\n",
    "z=coordinates[2]\n",
    "print(x,y,z)"
   ]
  },
  {
   "cell_type": "code",
   "execution_count": 13,
   "id": "fcb4597d-c123-416f-ab6c-ce46d05b184f",
   "metadata": {},
   "outputs": [
    {
     "data": {
      "text/plain": [
       "1"
      ]
     },
     "execution_count": 13,
     "metadata": {},
     "output_type": "execute_result"
    }
   ],
   "source": [
    "l=[[1,2,3,4],[5,6,7,8]]\n",
    "l[0][0]"
   ]
  },
  {
   "cell_type": "code",
   "execution_count": 14,
   "id": "23b45d9a-87d0-46ad-b66f-7a1c8ebb55e5",
   "metadata": {},
   "outputs": [
    {
     "data": {
      "text/plain": [
       "3"
      ]
     },
     "execution_count": 14,
     "metadata": {},
     "output_type": "execute_result"
    }
   ],
   "source": [
    "# nested tuples\n",
    "\n",
    "nested_tup=(1,(2,3),(4,(5,6)))\n",
    "nested_tup[1][1]"
   ]
  },
  {
   "cell_type": "code",
   "execution_count": 15,
   "id": "79d17911-ea75-4a07-8b6c-473053b344e7",
   "metadata": {},
   "outputs": [
    {
     "data": {
      "text/plain": [
       "5"
      ]
     },
     "execution_count": 15,
     "metadata": {},
     "output_type": "execute_result"
    }
   ],
   "source": [
    "nested_tup[2][1][0]"
   ]
  },
  {
   "cell_type": "code",
   "execution_count": 16,
   "id": "a4ef1d4f-b6fc-434b-a1bc-cd4276a664ce",
   "metadata": {},
   "outputs": [
    {
     "data": {
      "text/plain": [
       "(5, 6)"
      ]
     },
     "execution_count": 16,
     "metadata": {},
     "output_type": "execute_result"
    }
   ],
   "source": [
    "nested_tup[2][1]"
   ]
  },
  {
   "cell_type": "code",
   "execution_count": 17,
   "id": "ae2f504c-0fde-47bd-b29e-53956da23cb9",
   "metadata": {},
   "outputs": [
    {
     "name": "stdout",
     "output_type": "stream",
     "text": [
      "(2, 3)\n",
      "(1, 2, 3, 4)\n",
      "(3, 4, 5, 6)\n"
     ]
    }
   ],
   "source": [
    "#  slicing a tuple\n",
    "my_tup=(1,2,3,4,5,6)\n",
    "slice1=my_tup[1:3]\n",
    "slice2=my_tup[:4]\n",
    "slice3=my_tup[2:]\n",
    "print(slice1)\n",
    "print(slice2)\n",
    "print(slice3)"
   ]
  },
  {
   "cell_type": "code",
   "execution_count": null,
   "id": "24d74b97-099b-435b-a470-5c0afbefef5e",
   "metadata": {},
   "outputs": [],
   "source": [
    "#  accessing elements in nested tuples"
   ]
  },
  {
   "cell_type": "code",
   "execution_count": null,
   "id": "3dc5ed23-5772-4ddd-a9cf-40b45b2b8b3e",
   "metadata": {},
   "outputs": [],
   "source": [
    "# question time"
   ]
  },
  {
   "cell_type": "code",
   "execution_count": 19,
   "id": "f5a98507-6f27-4f6b-a8b7-babdc0a417cb",
   "metadata": {},
   "outputs": [
    {
     "name": "stdout",
     "output_type": "stream",
     "text": [
      "(10, 20, 30)\n"
     ]
    }
   ],
   "source": [
    "numbers=(10,20,30,40,50,)\n",
    "new=numbers[0:3]\n",
    "print(new)"
   ]
  },
  {
   "cell_type": "code",
   "execution_count": 20,
   "id": "a8f5d008-b3ff-4aba-b24e-f120089f6188",
   "metadata": {},
   "outputs": [
    {
     "name": "stdout",
     "output_type": "stream",
     "text": [
      "cherry\n"
     ]
    }
   ],
   "source": [
    "fruits=('apple','banana','cherry','date','elderberry')\n",
    "cherry=fruits[2]\n",
    "print(cherry)\n"
   ]
  },
  {
   "cell_type": "code",
   "execution_count": 21,
   "id": "303668b6-749e-4309-bc15-de4178362776",
   "metadata": {},
   "outputs": [
    {
     "data": {
      "text/plain": [
       "'purple'"
      ]
     },
     "execution_count": 21,
     "metadata": {},
     "output_type": "execute_result"
    }
   ],
   "source": [
    "colors=('red','green','blue','yellow','purple')\n",
    "colors[-1]"
   ]
  },
  {
   "cell_type": "code",
   "execution_count": 22,
   "id": "dea6fa4e-44e4-411a-b99e-990d87373437",
   "metadata": {},
   "outputs": [
    {
     "name": "stdout",
     "output_type": "stream",
     "text": [
      "blue\n",
      "blue\n"
     ]
    }
   ],
   "source": [
    "print(colors[-3])\n",
    "print(colors[2])"
   ]
  },
  {
   "cell_type": "code",
   "execution_count": 23,
   "id": "23666796-1f80-4b91-9b82-b1237eb163da",
   "metadata": {},
   "outputs": [
    {
     "data": {
      "text/plain": [
       "tuple"
      ]
     },
     "execution_count": 23,
     "metadata": {},
     "output_type": "execute_result"
    }
   ],
   "source": [
    "fruits=('apple','banana','cherry')\n",
    "type(fruits)"
   ]
  },
  {
   "cell_type": "code",
   "execution_count": 24,
   "id": "7ea01631-b19d-446e-8a24-cc3dd28cd529",
   "metadata": {},
   "outputs": [
    {
     "data": {
      "text/plain": [
       "['apple', 'banana', 'cherry', 'mango']"
      ]
     },
     "execution_count": 24,
     "metadata": {},
     "output_type": "execute_result"
    }
   ],
   "source": [
    "a=list(fruits)\n",
    "a.append('mango')\n",
    "a"
   ]
  },
  {
   "cell_type": "code",
   "execution_count": 25,
   "id": "8dd1fddb-7d84-48f3-8a98-a85e15869a1a",
   "metadata": {},
   "outputs": [
    {
     "data": {
      "text/plain": [
       "('apple', 'banana', 'cherry', 'mango')"
      ]
     },
     "execution_count": 25,
     "metadata": {},
     "output_type": "execute_result"
    }
   ],
   "source": [
    "b=tuple(a)\n",
    "b"
   ]
  },
  {
   "cell_type": "code",
   "execution_count": 26,
   "id": "6a867d37-5587-411e-a10a-156347630b6d",
   "metadata": {},
   "outputs": [
    {
     "data": {
      "text/plain": [
       "('apple', 'banana', 'cherry')"
      ]
     },
     "execution_count": 26,
     "metadata": {},
     "output_type": "execute_result"
    }
   ],
   "source": [
    "fruits"
   ]
  },
  {
   "cell_type": "code",
   "execution_count": 27,
   "id": "6e680c98-5e82-4f76-87d7-5ad6b74c5576",
   "metadata": {},
   "outputs": [
    {
     "data": {
      "text/plain": [
       "tuple"
      ]
     },
     "execution_count": 27,
     "metadata": {},
     "output_type": "execute_result"
    }
   ],
   "source": [
    "type(b)"
   ]
  },
  {
   "cell_type": "code",
   "execution_count": 28,
   "id": "07b894d9-f0ba-4332-92d8-62b2d308ead5",
   "metadata": {},
   "outputs": [
    {
     "name": "stdout",
     "output_type": "stream",
     "text": [
      "('apple', 'blueberry', 'cherry')\n"
     ]
    }
   ],
   "source": [
    "#  concatenate slices of tuples\n",
    "fruits=('apple','banana','cherry')\n",
    "new=fruits[:1]+('blueberry',)+fruits[2:]\n",
    "print(new)"
   ]
  },
  {
   "cell_type": "code",
   "execution_count": 29,
   "id": "56e91768-ca3a-49b6-971b-404984fce90a",
   "metadata": {},
   "outputs": [
    {
     "name": "stdout",
     "output_type": "stream",
     "text": [
      "('apple', 'banana', 'cherry', 'date')\n"
     ]
    }
   ],
   "source": [
    "# using concatenation to add elements\n",
    "fruits=('apple','banana','cherry')\n",
    "f1=fruits+('date',)\n",
    "print(f1)"
   ]
  },
  {
   "cell_type": "code",
   "execution_count": null,
   "id": "6c004d49-0240-48b4-844d-e5d0bfe97818",
   "metadata": {},
   "outputs": [],
   "source": [
    "# deletong a tuple\n",
    "del fruits"
   ]
  },
  {
   "cell_type": "code",
   "execution_count": 30,
   "id": "349e9d65-c4f2-445f-a1f1-b749088ce148",
   "metadata": {},
   "outputs": [
    {
     "data": {
      "text/plain": [
       "(1, 2, 3, 1, 2, 3, 1, 2, 3)"
      ]
     },
     "execution_count": 30,
     "metadata": {},
     "output_type": "execute_result"
    }
   ],
   "source": [
    "#  tuple arithmetic operations\n",
    "#  multiplication\n",
    "t1=(1,2,3)\n",
    "t1*3"
   ]
  },
  {
   "cell_type": "code",
   "execution_count": null,
   "id": "e94a53ea-c153-45a3-963e-d9d787d6dfe2",
   "metadata": {},
   "outputs": [],
   "source": [
    "# membership operator\n",
    "# in operator\n",
    "#  not in operator"
   ]
  },
  {
   "cell_type": "code",
   "execution_count": null,
   "id": "fe33ea79-84d9-423a-8162-d47392154e78",
   "metadata": {},
   "outputs": [],
   "source": [
    "# count\n",
    "# for loop\n",
    "# index\n",
    "# sorted"
   ]
  },
  {
   "cell_type": "code",
   "execution_count": 31,
   "id": "90b0bb35-922b-4401-b3c0-54aacc076436",
   "metadata": {},
   "outputs": [
    {
     "data": {
      "text/plain": [
       "2"
      ]
     },
     "execution_count": 31,
     "metadata": {},
     "output_type": "execute_result"
    }
   ],
   "source": [
    "# index\n",
    "my_tup=('a','b','c','d')\n",
    "my_tup.index('c')"
   ]
  },
  {
   "cell_type": "code",
   "execution_count": 32,
   "id": "c69e2631-f57a-4864-993f-7ee66218a024",
   "metadata": {},
   "outputs": [
    {
     "data": {
      "text/plain": [
       "4"
      ]
     },
     "execution_count": 32,
     "metadata": {},
     "output_type": "execute_result"
    }
   ],
   "source": [
    "# len\n",
    "my_tup=(1,2,3,4)\n",
    "len(my_tup)"
   ]
  },
  {
   "cell_type": "code",
   "execution_count": 33,
   "id": "b9728856-d02f-4811-879e-7108db697a6c",
   "metadata": {},
   "outputs": [
    {
     "data": {
      "text/plain": [
       "78"
      ]
     },
     "execution_count": 33,
     "metadata": {},
     "output_type": "execute_result"
    }
   ],
   "source": [
    "# max\n",
    "my_tuple=(15,78,34,14)\n",
    "max(my_tuple)"
   ]
  },
  {
   "cell_type": "code",
   "execution_count": 34,
   "id": "c51641ba-37f5-4bff-9ac1-e9b46154c472",
   "metadata": {},
   "outputs": [
    {
     "data": {
      "text/plain": [
       "14"
      ]
     },
     "execution_count": 34,
     "metadata": {},
     "output_type": "execute_result"
    }
   ],
   "source": [
    "min(my_tuple)"
   ]
  },
  {
   "cell_type": "code",
   "execution_count": 35,
   "id": "e7480cb8-5fe5-4495-898b-2a323c62a09e",
   "metadata": {},
   "outputs": [
    {
     "name": "stdout",
     "output_type": "stream",
     "text": [
      "[14, 15, 34, 78]\n"
     ]
    }
   ],
   "source": [
    "my_tuple=(15,78,34,14)\n",
    "sorted_tuple=sorted(my_tuple)\n",
    "print(sorted_tuple)"
   ]
  },
  {
   "cell_type": "code",
   "execution_count": 36,
   "id": "6112d381-e60c-4b66-8ab2-77b253fca88c",
   "metadata": {},
   "outputs": [
    {
     "name": "stdout",
     "output_type": "stream",
     "text": [
      "highest score is 92\n",
      "lowest score is 76\n"
     ]
    }
   ],
   "source": [
    "scores=(88,76,92,85,79)\n",
    "highest=max(scores)\n",
    "lowest=min(scores)\n",
    "print(f'highest score is {highest}')\n",
    "print(f'lowest score is {lowest}')"
   ]
  },
  {
   "cell_type": "code",
   "execution_count": 37,
   "id": "6aefa3d3-e697-475a-bffe-4a49e0031640",
   "metadata": {},
   "outputs": [
    {
     "data": {
      "text/plain": [
       "True"
      ]
     },
     "execution_count": 37,
     "metadata": {},
     "output_type": "execute_result"
    }
   ],
   "source": [
    "cities=('new york','los angeles','paris','london','tokyo')\n",
    "'paris' in cities"
   ]
  },
  {
   "cell_type": "code",
   "execution_count": null,
   "id": "d49ac86b-7253-41cd-92cd-bd6b7fcf6396",
   "metadata": {},
   "outputs": [],
   "source": [
    "box=('length','width','height')\n",
    "volume="
   ]
  }
 ],
 "metadata": {
  "kernelspec": {
   "display_name": "Python 3 (ipykernel)",
   "language": "python",
   "name": "python3"
  },
  "language_info": {
   "codemirror_mode": {
    "name": "ipython",
    "version": 3
   },
   "file_extension": ".py",
   "mimetype": "text/x-python",
   "name": "python",
   "nbconvert_exporter": "python",
   "pygments_lexer": "ipython3",
   "version": "3.12.7"
  }
 },
 "nbformat": 4,
 "nbformat_minor": 5
}
