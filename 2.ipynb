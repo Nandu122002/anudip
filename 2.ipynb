{
 "cells": [
  {
   "cell_type": "code",
   "execution_count": null,
   "id": "1edb99b0-0d09-4028-8e5f-736e99d95283",
   "metadata": {},
   "outputs": [],
   "source": [
    "# 1. append(item)\n",
    "adds an item to the end of the list"
   ]
  },
  {
   "cell_type": "code",
   "execution_count": 2,
   "id": "aba5024d-2cad-49e9-a7e5-4ec66bec4d51",
   "metadata": {},
   "outputs": [
    {
     "data": {
      "text/plain": [
       "['apple', 'banana', 'orange']"
      ]
     },
     "execution_count": 2,
     "metadata": {},
     "output_type": "execute_result"
    }
   ],
   "source": [
    "fruits=['apple','banana']\n",
    "fruits.append(\"orange\")\n",
    "fruits"
   ]
  },
  {
   "cell_type": "code",
   "execution_count": 3,
   "id": "d885413a-3b7b-4b5f-a14d-4e27f0f0227e",
   "metadata": {},
   "outputs": [
    {
     "data": {
      "text/plain": [
       "['apple', 'banana', ['orange', 'goa']]"
      ]
     },
     "execution_count": 3,
     "metadata": {},
     "output_type": "execute_result"
    }
   ],
   "source": [
    "fruits=['apple','banana']\n",
    "fruits.append([\"orange\",'goa'])\n",
    "fruits"
   ]
  },
  {
   "cell_type": "code",
   "execution_count": null,
   "id": "7563a24c-8abc-4fa7-83a8-ba7c8bc455e2",
   "metadata": {},
   "outputs": [],
   "source": [
    "# 2. extend(iterable)\n",
    "extends the list by adding elements from another iterable(like a list,tuple or set)\n"
   ]
  },
  {
   "cell_type": "code",
   "execution_count": 4,
   "id": "38bd06d4-4555-42b5-ad57-d97b718cb64e",
   "metadata": {},
   "outputs": [
    {
     "data": {
      "text/plain": [
       "['apple', 'banana', 1, 2, 3, 4, 5]"
      ]
     },
     "execution_count": 4,
     "metadata": {},
     "output_type": "execute_result"
    }
   ],
   "source": [
    "fruits=['apple','banana']\n",
    "fruits.extend([1,2,3,4,5])\n",
    "fruits\n"
   ]
  },
  {
   "cell_type": "code",
   "execution_count": null,
   "id": "707f7e0d-af99-4bf5-82b1-d3f763357728",
   "metadata": {},
   "outputs": [],
   "source": [
    "3. insert(index,item)\n",
    "inserts an item at a specified position in the list"
   ]
  },
  {
   "cell_type": "code",
   "execution_count": 5,
   "id": "bc389901-7e96-42c1-9c3b-0eefe94893af",
   "metadata": {},
   "outputs": [
    {
     "data": {
      "text/plain": [
       "['apple', '60', 'banana']"
      ]
     },
     "execution_count": 5,
     "metadata": {},
     "output_type": "execute_result"
    }
   ],
   "source": [
    "fruits=['apple','banana']\n",
    "fruits.insert(1,'60')\n",
    "fruits"
   ]
  },
  {
   "cell_type": "code",
   "execution_count": 6,
   "id": "6b9d7b10-09f5-4913-ae0f-a17465c2ab06",
   "metadata": {},
   "outputs": [
    {
     "data": {
      "text/plain": [
       "['apple', 'banana', 'cherry', 'guava']"
      ]
     },
     "execution_count": 6,
     "metadata": {},
     "output_type": "execute_result"
    }
   ],
   "source": [
    "fruits=['apple','banana','guava']\n",
    "fruits.insert(2,'cherry')\n",
    "fruits"
   ]
  },
  {
   "cell_type": "code",
   "execution_count": null,
   "id": "eee7c712-76fc-4787-bf04-53d94b7c4840",
   "metadata": {},
   "outputs": [],
   "source": [
    "4. remove(item)\n",
    "removes the first occurrence of an item from the list"
   ]
  },
  {
   "cell_type": "code",
   "execution_count": 7,
   "id": "aeca9b6d-0053-4a36-a3b6-2a3b54e2076d",
   "metadata": {},
   "outputs": [
    {
     "data": {
      "text/plain": [
       "['apple', 'guava', 'cherry']"
      ]
     },
     "execution_count": 7,
     "metadata": {},
     "output_type": "execute_result"
    }
   ],
   "source": [
    "fruits=['apple','banana','guava','cherry']\n",
    "fruits.remove('banana')\n",
    "fruits"
   ]
  },
  {
   "cell_type": "code",
   "execution_count": null,
   "id": "fe87292e-6c5f-4a65-80cc-4ff5727ae25b",
   "metadata": {},
   "outputs": [],
   "source": [
    "5. pop(index=-1)\n",
    "removes n returns the item at the specified index. if no index is specified , it removes n returns the last item in the list"
   ]
  },
  {
   "cell_type": "code",
   "execution_count": 8,
   "id": "7bd551bb-f87e-46d9-be7c-70b3bfec8527",
   "metadata": {},
   "outputs": [
    {
     "data": {
      "text/plain": [
       "['apple', 'banana', 'cherry']"
      ]
     },
     "execution_count": 8,
     "metadata": {},
     "output_type": "execute_result"
    }
   ],
   "source": [
    "fruits=['apple','banana','guava','cherry']\n",
    "fruits.pop(2)\n",
    "fruits"
   ]
  },
  {
   "cell_type": "code",
   "execution_count": 9,
   "id": "c281a225-753d-46ee-a470-3c91740797b9",
   "metadata": {},
   "outputs": [
    {
     "data": {
      "text/plain": [
       "['apple', 'banana', 'guava']"
      ]
     },
     "execution_count": 9,
     "metadata": {},
     "output_type": "execute_result"
    }
   ],
   "source": [
    "fruits=['apple','banana','guava','cherry']\n",
    "fruits.pop()\n",
    "fruits"
   ]
  },
  {
   "cell_type": "code",
   "execution_count": 10,
   "id": "94904446-40ed-4b7a-b48b-aab23649ebcb",
   "metadata": {},
   "outputs": [
    {
     "data": {
      "text/plain": [
       "['apple', 'banana', 'guava']"
      ]
     },
     "execution_count": 10,
     "metadata": {},
     "output_type": "execute_result"
    }
   ],
   "source": [
    "fruits=['apple','banana','guava','cherry']\n",
    "fruits.pop(3)\n",
    "fruits"
   ]
  },
  {
   "cell_type": "code",
   "execution_count": null,
   "id": "854eb631-da47-42c7-bb1b-72e360cadb28",
   "metadata": {},
   "outputs": [],
   "source": [
    "6. clear()\n",
    "removes all items from the list"
   ]
  },
  {
   "cell_type": "code",
   "execution_count": 11,
   "id": "dbe894c9-e5a1-401d-9d02-1c072ee036ad",
   "metadata": {},
   "outputs": [
    {
     "data": {
      "text/plain": [
       "[]"
      ]
     },
     "execution_count": 11,
     "metadata": {},
     "output_type": "execute_result"
    }
   ],
   "source": [
    "fruits=['apple','banana','guava','cherry']\n",
    "fruits.clear()\n",
    "fruits"
   ]
  },
  {
   "cell_type": "code",
   "execution_count": null,
   "id": "bfbd1f1d-4b36-4c76-9c34-dadec1888fb1",
   "metadata": {},
   "outputs": [],
   "source": [
    "#7. index(item,start=0,end=len(list))\n",
    "# returns the index of the first occurrence of the item.\n",
    "# you can specify start n end indices to narrow the search"
   ]
  },
  {
   "cell_type": "code",
   "execution_count": 13,
   "id": "91f68601-6b02-4cc2-96ad-db4a28ff905c",
   "metadata": {},
   "outputs": [],
   "source": [
    "fruit_names=['apple','banana','guava','cherry']"
   ]
  },
  {
   "cell_type": "code",
   "execution_count": 14,
   "id": "bee13db2-c44c-465b-9726-d6cbf1138a7e",
   "metadata": {},
   "outputs": [
    {
     "data": {
      "text/plain": [
       "3"
      ]
     },
     "execution_count": 14,
     "metadata": {},
     "output_type": "execute_result"
    }
   ],
   "source": [
    "fruit_names.index('cherry')"
   ]
  },
  {
   "cell_type": "code",
   "execution_count": 15,
   "id": "948f2a37-5836-4778-9efc-7780b9b196c5",
   "metadata": {},
   "outputs": [
    {
     "data": {
      "text/plain": [
       "1"
      ]
     },
     "execution_count": 15,
     "metadata": {},
     "output_type": "execute_result"
    }
   ],
   "source": [
    "fruit_names.index('banana')"
   ]
  },
  {
   "cell_type": "code",
   "execution_count": null,
   "id": "459b57d7-91cd-463d-918d-2b96e4b4e48d",
   "metadata": {},
   "outputs": [],
   "source": [
    "8. count(item)\n",
    "returns the number of items the item appears in the list"
   ]
  },
  {
   "cell_type": "code",
   "execution_count": 16,
   "id": "533c5ccd-9a8c-4a1e-94a3-e9096d3dd06b",
   "metadata": {},
   "outputs": [
    {
     "data": {
      "text/plain": [
       "2"
      ]
     },
     "execution_count": 16,
     "metadata": {},
     "output_type": "execute_result"
    }
   ],
   "source": [
    "fruits=['apple','banana','guava','cherry','banana']\n",
    "fruits.count('banana')\n",
    "# fruits"
   ]
  },
  {
   "cell_type": "code",
   "execution_count": 17,
   "id": "b324d60a-9471-435d-9e18-194506f55397",
   "metadata": {},
   "outputs": [
    {
     "data": {
      "text/plain": [
       "1"
      ]
     },
     "execution_count": 17,
     "metadata": {},
     "output_type": "execute_result"
    }
   ],
   "source": [
    "fruits.count('cherry')"
   ]
  },
  {
   "cell_type": "code",
   "execution_count": null,
   "id": "5fdaf3dd-e91c-4f0a-bd6a-ab674725c6a0",
   "metadata": {},
   "outputs": [],
   "source": [
    " 9. sort(key=none, reverse=False)\n",
    " sorts the item in the list in nascending order by default\n",
    " you can pass a key function to customize the sort order and set reverse=true for descending order"
   ]
  },
  {
   "cell_type": "code",
   "execution_count": 18,
   "id": "c52745e5-0909-441a-80db-e7cb87fd1538",
   "metadata": {},
   "outputs": [
    {
     "data": {
      "text/plain": [
       "[1, 2, 3, 4, 7, 8]"
      ]
     },
     "execution_count": 18,
     "metadata": {},
     "output_type": "execute_result"
    }
   ],
   "source": [
    "numbers=[1,3,7,4,8,2]\n",
    "numbers.sort()\n",
    "numbers"
   ]
  },
  {
   "cell_type": "code",
   "execution_count": 19,
   "id": "d0cc770a-8f8a-45f0-b2b6-b84c95cc6450",
   "metadata": {},
   "outputs": [
    {
     "data": {
      "text/plain": [
       "[8, 7, 4, 3, 2, 1]"
      ]
     },
     "execution_count": 19,
     "metadata": {},
     "output_type": "execute_result"
    }
   ],
   "source": [
    "\n",
    "numbers.sort(reverse=True)\n",
    "numbers"
   ]
  },
  {
   "cell_type": "code",
   "execution_count": null,
   "id": "3c5c29d5-f6bf-4165-8015-869dfd3632f1",
   "metadata": {},
   "outputs": [],
   "source": [
    "10. reverse()\n",
    "reverse the elements of the list in place"
   ]
  },
  {
   "cell_type": "code",
   "execution_count": 20,
   "id": "cf479e47-9786-40e8-9560-da640f341d0e",
   "metadata": {},
   "outputs": [
    {
     "data": {
      "text/plain": [
       "['cherry', 'guava', 'banana', 'apple']"
      ]
     },
     "execution_count": 20,
     "metadata": {},
     "output_type": "execute_result"
    }
   ],
   "source": [
    "fruits=['apple','banana','guava','cherry']\n",
    "fruits.reverse()\n",
    "fruits"
   ]
  },
  {
   "cell_type": "code",
   "execution_count": null,
   "id": "6b1e021b-4455-4746-930d-f1aabe010404",
   "metadata": {},
   "outputs": [],
   "source": [
    "12. join()\n",
    "although not a list method itself you can use the join() method on a string to concatenate a list of strings"
   ]
  },
  {
   "cell_type": "code",
   "execution_count": 21,
   "id": "05f1aa46-a6c8-49e9-8f5b-7b1896f0d15c",
   "metadata": {},
   "outputs": [
    {
     "data": {
      "text/plain": [
       "'apple-banana-guava-cherry'"
      ]
     },
     "execution_count": 21,
     "metadata": {},
     "output_type": "execute_result"
    }
   ],
   "source": [
    "fruits=['apple','banana','guava','cherry']\n",
    "fruits_string='-'.join(fruits)\n",
    "fruits_string\n"
   ]
  },
  {
   "cell_type": "code",
   "execution_count": null,
   "id": "dc70d107-f092-45d8-b950-5e3571b30456",
   "metadata": {},
   "outputs": [],
   "source": [
    "14. sort() with reverse"
   ]
  },
  {
   "cell_type": "code",
   "execution_count": null,
   "id": "1dece45f-94cc-49e5-a8f3-2490cbd08cc1",
   "metadata": {},
   "outputs": [],
   "source": [
    "16. max() (used witha list)\n",
    "returns the maximum value in the list"
   ]
  },
  {
   "cell_type": "code",
   "execution_count": 22,
   "id": "7eb95a0d-fb99-4e38-bad0-4741077b74b6",
   "metadata": {},
   "outputs": [
    {
     "data": {
      "text/plain": [
       "8"
      ]
     },
     "execution_count": 22,
     "metadata": {},
     "output_type": "execute_result"
    }
   ],
   "source": [
    "nums=[5,4,7,1,8]\n",
    "max_value=max(nums)\n",
    "max_value"
   ]
  },
  {
   "cell_type": "code",
   "execution_count": null,
   "id": "160150f5-f391-4432-ab1b-d47a3cd5171b",
   "metadata": {},
   "outputs": [],
   "source": [
    "17.min()\n",
    "returns the minimum value in the list"
   ]
  },
  {
   "cell_type": "code",
   "execution_count": 23,
   "id": "201b0a0e-e9bd-44fc-9352-8ec0bae4f8ca",
   "metadata": {},
   "outputs": [
    {
     "data": {
      "text/plain": [
       "1"
      ]
     },
     "execution_count": 23,
     "metadata": {},
     "output_type": "execute_result"
    }
   ],
   "source": [
    "nums=[5,4,7,1,8]\n",
    "min_value=min(nums)\n",
    "min_value\n"
   ]
  },
  {
   "cell_type": "code",
   "execution_count": null,
   "id": "385a3b9e-1ac5-4910-b518-952e476027b2",
   "metadata": {},
   "outputs": [],
   "source": [
    "18. sum()\n",
    "returns the sum of all elements in the list"
   ]
  },
  {
   "cell_type": "code",
   "execution_count": 24,
   "id": "ba862ee0-84ab-4a46-aef7-c8d854f79ba0",
   "metadata": {},
   "outputs": [
    {
     "data": {
      "text/plain": [
       "25"
      ]
     },
     "execution_count": 24,
     "metadata": {},
     "output_type": "execute_result"
    }
   ],
   "source": [
    "nums=[5,4,7,1,8]\n",
    "sum(nums)"
   ]
  },
  {
   "cell_type": "code",
   "execution_count": null,
   "id": "2ebd5125-f400-43a0-96ef-216989ff995f",
   "metadata": {},
   "outputs": [],
   "source": [
    "19. len()\n",
    "returns the number of elements in the list"
   ]
  },
  {
   "cell_type": "code",
   "execution_count": 25,
   "id": "57a4e6e9-72ad-4779-aad3-9fdd2c8d41fb",
   "metadata": {},
   "outputs": [
    {
     "data": {
      "text/plain": [
       "5"
      ]
     },
     "execution_count": 25,
     "metadata": {},
     "output_type": "execute_result"
    }
   ],
   "source": [
    "nums=[5,4,7,1,8]\n",
    "len(nums)"
   ]
  },
  {
   "cell_type": "code",
   "execution_count": 26,
   "id": "07fcf826-c3c7-4acd-a466-4bde2d86c912",
   "metadata": {},
   "outputs": [
    {
     "data": {
      "text/plain": [
       "5"
      ]
     },
     "execution_count": 26,
     "metadata": {},
     "output_type": "execute_result"
    }
   ],
   "source": [
    "fruits=['apple','banana','guava','cherry','banana']\n",
    "len(fruits)\n",
    "# fruits"
   ]
  },
  {
   "cell_type": "code",
   "execution_count": null,
   "id": "fca4936c-ea45-488b-86b8-19421cfc35ab",
   "metadata": {},
   "outputs": [],
   "source": [
    "20. all()\n",
    "returns true if all ements in the list are true (or if it the list is empty)"
   ]
  },
  {
   "cell_type": "code",
   "execution_count": 27,
   "id": "84b71caf-861c-46a5-bbff-5a50b66a40f7",
   "metadata": {},
   "outputs": [
    {
     "data": {
      "text/plain": [
       "False"
      ]
     },
     "execution_count": 27,
     "metadata": {},
     "output_type": "execute_result"
    }
   ],
   "source": [
    "bool_list=[True,False,True]\n",
    "all(bool_list)"
   ]
  },
  {
   "cell_type": "code",
   "execution_count": 28,
   "id": "722e12f1-70bf-4a3a-8efa-8de8cade29e7",
   "metadata": {},
   "outputs": [
    {
     "data": {
      "text/plain": [
       "True"
      ]
     },
     "execution_count": 28,
     "metadata": {},
     "output_type": "execute_result"
    }
   ],
   "source": [
    "all(nums)"
   ]
  },
  {
   "cell_type": "code",
   "execution_count": null,
   "id": "584e0649-fb24-4cdd-9ef4-d9aff8d3c728",
   "metadata": {},
   "outputs": [],
   "source": [
    "21. any()\n",
    "returns true if any ements in the list are true . if  the list is empty it returns false"
   ]
  },
  {
   "cell_type": "code",
   "execution_count": 29,
   "id": "d5bdad0b-1525-4068-a56a-a3ba1d8271d1",
   "metadata": {},
   "outputs": [
    {
     "data": {
      "text/plain": [
       "True"
      ]
     },
     "execution_count": 29,
     "metadata": {},
     "output_type": "execute_result"
    }
   ],
   "source": [
    "nums=[5,4,7,1,8,0]\n",
    "any(nums)"
   ]
  },
  {
   "cell_type": "code",
   "execution_count": 30,
   "id": "09b1fa46-06cc-4a11-8d18-0a5278c0984b",
   "metadata": {},
   "outputs": [
    {
     "data": {
      "text/plain": [
       "True"
      ]
     },
     "execution_count": 30,
     "metadata": {},
     "output_type": "execute_result"
    }
   ],
   "source": [
    "bool_list=[True,False,True]\n",
    "any(bool_list)"
   ]
  },
  {
   "cell_type": "code",
   "execution_count": 31,
   "id": "8beba1ca-de03-40ff-8e49-6b0282bfe0f6",
   "metadata": {},
   "outputs": [
    {
     "data": {
      "text/plain": [
       "False"
      ]
     },
     "execution_count": 31,
     "metadata": {},
     "output_type": "execute_result"
    }
   ],
   "source": [
    "bool_list=[False,False,False]\n",
    "any(bool_list)"
   ]
  },
  {
   "cell_type": "code",
   "execution_count": null,
   "id": "b0788340-032e-49eb-8a64-0e78a515e598",
   "metadata": {},
   "outputs": [],
   "source": [
    "24. del statement\n",
    "deletes an element or a slice from the list this is no a method but a statement in python"
   ]
  },
  {
   "cell_type": "code",
   "execution_count": null,
   "id": "0963bc90-6425-4c05-934f-90c2a1d3a956",
   "metadata": {},
   "outputs": [],
   "source": [
    "25. sorted()\n",
    "returns a new sorted list from the elements of an iterable"
   ]
  },
  {
   "cell_type": "code",
   "execution_count": 32,
   "id": "fa9ca09f-7588-4320-ba33-9ba0dd3bbdc2",
   "metadata": {},
   "outputs": [
    {
     "data": {
      "text/plain": [
       "[0, 1, 4, 5, 7, 8]"
      ]
     },
     "execution_count": 32,
     "metadata": {},
     "output_type": "execute_result"
    }
   ],
   "source": [
    "nums=[5,4,7,1,8,0]\n",
    "sorted(nums)"
   ]
  },
  {
   "cell_type": "code",
   "execution_count": 33,
   "id": "3183c622-9f1a-4f22-bc47-a2abda1a0ac9",
   "metadata": {},
   "outputs": [
    {
     "data": {
      "text/plain": [
       "['e', 'h', 'l', 'l', 'o']"
      ]
     },
     "execution_count": 33,
     "metadata": {},
     "output_type": "execute_result"
    }
   ],
   "source": [
    "sorted('hello')"
   ]
  },
  {
   "cell_type": "code",
   "execution_count": 34,
   "id": "02309570-8362-42c7-8db5-3a3ddc2349fb",
   "metadata": {},
   "outputs": [
    {
     "data": {
      "text/plain": [
       "[0, 1, 4, 5, 7, 8]"
      ]
     },
     "execution_count": 34,
     "metadata": {},
     "output_type": "execute_result"
    }
   ],
   "source": [
    "nums=[5,4,7,1,8,0]\n",
    "nums.sort()\n",
    "nums"
   ]
  },
  {
   "cell_type": "code",
   "execution_count": null,
   "id": "002eb084-7433-41ac-844f-8971ee9404e3",
   "metadata": {},
   "outputs": [],
   "source": [
    "list comprehension"
   ]
  },
  {
   "cell_type": "code",
   "execution_count": 36,
   "id": "8c359606-6de7-427e-bef2-8c063d516815",
   "metadata": {},
   "outputs": [
    {
     "data": {
      "text/plain": [
       "[1, 4, 9, 16, 25]"
      ]
     },
     "execution_count": 36,
     "metadata": {},
     "output_type": "execute_result"
    }
   ],
   "source": [
    "squares=[i**2 for i in range(1,6)]\n",
    "squares"
   ]
  },
  {
   "cell_type": "code",
   "execution_count": 37,
   "id": "5cf42711-64e4-48fb-a2d7-858776c54239",
   "metadata": {},
   "outputs": [
    {
     "data": {
      "text/plain": [
       "[3, 4, 5, 6]"
      ]
     },
     "execution_count": 37,
     "metadata": {},
     "output_type": "execute_result"
    }
   ],
   "source": [
    "new_list=[j+2 for j in range(1,5)]\n",
    "new_list"
   ]
  },
  {
   "cell_type": "code",
   "execution_count": 38,
   "id": "8b9b18a3-2fa7-407d-917f-22bd348cb8a7",
   "metadata": {},
   "outputs": [
    {
     "data": {
      "text/plain": [
       "[1, 4, 9, 16, 25]"
      ]
     },
     "execution_count": 38,
     "metadata": {},
     "output_type": "execute_result"
    }
   ],
   "source": [
    "squares=[]\n",
    "for i in range(1,6):\n",
    "    squares.append(i**2)\n",
    "\n",
    "squares"
   ]
  },
  {
   "cell_type": "code",
   "execution_count": 39,
   "id": "6d97e5e7-24d8-4d80-a404-cbd517cf943a",
   "metadata": {},
   "outputs": [
    {
     "ename": "SyntaxError",
     "evalue": "invalid syntax (1856344812.py, line 1)",
     "output_type": "error",
     "traceback": [
      "\u001b[1;36m  Cell \u001b[1;32mIn[39], line 1\u001b[1;36m\u001b[0m\n\u001b[1;33m    list comprehension with conditioon\u001b[0m\n\u001b[1;37m         ^\u001b[0m\n\u001b[1;31mSyntaxError\u001b[0m\u001b[1;31m:\u001b[0m invalid syntax\n"
     ]
    }
   ],
   "source": [
    "list comprehension with conditioon"
   ]
  },
  {
   "cell_type": "code",
   "execution_count": null,
   "id": "8f04810a-81d3-4625-9038-399f8d7e3f51",
   "metadata": {},
   "outputs": [],
   "source": []
  }
 ],
 "metadata": {
  "kernelspec": {
   "display_name": "Python 3 (ipykernel)",
   "language": "python",
   "name": "python3"
  },
  "language_info": {
   "codemirror_mode": {
    "name": "ipython",
    "version": 3
   },
   "file_extension": ".py",
   "mimetype": "text/x-python",
   "name": "python",
   "nbconvert_exporter": "python",
   "pygments_lexer": "ipython3",
   "version": "3.12.7"
  }
 },
 "nbformat": 4,
 "nbformat_minor": 5
}
