{
 "cells": [
  {
   "cell_type": "code",
   "execution_count": null,
   "id": "e4322887-997d-48f0-9ea6-70cb681fe54e",
   "metadata": {},
   "outputs": [],
   "source": [
    "numpy\n"
   ]
  },
  {
   "cell_type": "code",
   "execution_count": 1,
   "id": "360a12c8-d780-4df8-ae3a-b2db78416e2c",
   "metadata": {},
   "outputs": [],
   "source": [
    "# 1. array module\n",
    "\n",
    "from array import array\n",
    "my_array=array('i',[1,2,3,4])      # 'i'  indicates integer data type"
   ]
  },
  {
   "cell_type": "code",
   "execution_count": 2,
   "id": "131306f9-355b-4b63-af8b-eebf4057bc94",
   "metadata": {},
   "outputs": [
    {
     "data": {
      "text/plain": [
       "array('i', [1, 2, 3, 4])"
      ]
     },
     "execution_count": 2,
     "metadata": {},
     "output_type": "execute_result"
    }
   ],
   "source": [
    "my_array"
   ]
  },
  {
   "cell_type": "code",
   "execution_count": 3,
   "id": "8036568b-889c-422f-9b86-2179354a606d",
   "metadata": {},
   "outputs": [],
   "source": [
    "import numpy as np\n",
    "my_array=np.array([1,2,3,4,5,6])\n"
   ]
  },
  {
   "cell_type": "code",
   "execution_count": 4,
   "id": "ff48d5be-f1f9-4c76-88c0-79cb48d9ab85",
   "metadata": {},
   "outputs": [
    {
     "data": {
      "text/plain": [
       "array([4, 5, 6, 7, 8, 9])"
      ]
     },
     "execution_count": 4,
     "metadata": {},
     "output_type": "execute_result"
    }
   ],
   "source": [
    "my_array+3"
   ]
  },
  {
   "cell_type": "code",
   "execution_count": 5,
   "id": "a6d7904c-cb05-4e7b-948f-e1e9b35360ac",
   "metadata": {},
   "outputs": [
    {
     "data": {
      "text/plain": [
       "numpy.ndarray"
      ]
     },
     "execution_count": 5,
     "metadata": {},
     "output_type": "execute_result"
    }
   ],
   "source": [
    "type(my_array)"
   ]
  },
  {
   "cell_type": "code",
   "execution_count": null,
   "id": "e8258b77-9e10-47f1-913c-57ce73452683",
   "metadata": {},
   "outputs": [],
   "source": [
    "import numpy as np\n",
    "my_number=np.array([1,2,3,4,5])"
   ]
  },
  {
   "cell_type": "code",
   "execution_count": 6,
   "id": "eff1334f-7bf4-4d15-a83a-57d3d15bf070",
   "metadata": {},
   "outputs": [
    {
     "data": {
      "text/plain": [
       "array([ 3,  6,  9, 12, 15])"
      ]
     },
     "execution_count": 6,
     "metadata": {},
     "output_type": "execute_result"
    }
   ],
   "source": [
    "import numpy as np\n",
    "my_numpy_array=np.array([1,2,3,4,5])\n",
    "new_arr=my_numpy_array*3\n",
    "new_arr"
   ]
  },
  {
   "cell_type": "code",
   "execution_count": 7,
   "id": "ce2c0043-2d8d-48c7-b57e-669cb387915b",
   "metadata": {},
   "outputs": [
    {
     "data": {
      "text/plain": [
       "numpy.ndarray"
      ]
     },
     "execution_count": 7,
     "metadata": {},
     "output_type": "execute_result"
    }
   ],
   "source": [
    "type(my_numpy_array)"
   ]
  },
  {
   "cell_type": "code",
   "execution_count": 8,
   "id": "a660a679-55fe-4d10-b0cc-315c927cf24a",
   "metadata": {},
   "outputs": [
    {
     "data": {
      "text/plain": [
       "array([2, 4, 6])"
      ]
     },
     "execution_count": 8,
     "metadata": {},
     "output_type": "execute_result"
    }
   ],
   "source": [
    "my_arr=np.array([1,2,3])\n",
    "res=my_arr*2\n",
    "res"
   ]
  },
  {
   "cell_type": "code",
   "execution_count": 9,
   "id": "5f188f75-b464-443d-a0a6-55628807929b",
   "metadata": {},
   "outputs": [
    {
     "name": "stdout",
     "output_type": "stream",
     "text": [
      "[2 4 6]\n"
     ]
    }
   ],
   "source": [
    "print(res)"
   ]
  },
  {
   "cell_type": "code",
   "execution_count": 10,
   "id": "7e947e94-2c0d-4512-9bef-d4b13affd6ab",
   "metadata": {},
   "outputs": [
    {
     "data": {
      "text/plain": [
       "array([1, 2, 3])"
      ]
     },
     "execution_count": 10,
     "metadata": {},
     "output_type": "execute_result"
    }
   ],
   "source": [
    "my_arr"
   ]
  },
  {
   "cell_type": "code",
   "execution_count": 12,
   "id": "79320439-94ee-43b3-a171-4ccda13c99b7",
   "metadata": {},
   "outputs": [
    {
     "data": {
      "text/plain": [
       "array([False, False,  True])"
      ]
     },
     "execution_count": 12,
     "metadata": {},
     "output_type": "execute_result"
    }
   ],
   "source": [
    "my_arr>2"
   ]
  },
  {
   "cell_type": "code",
   "execution_count": 13,
   "id": "dd6c219d-a1c2-43d5-90f4-28a585aa3caa",
   "metadata": {},
   "outputs": [],
   "source": [
    "import seaborn as sns"
   ]
  },
  {
   "cell_type": "code",
   "execution_count": 15,
   "id": "7262d204-ebe9-4092-a380-7f10c4328348",
   "metadata": {},
   "outputs": [],
   "source": [
    "df=sns.load_dataset(\"titanic\")\n"
   ]
  },
  {
   "cell_type": "code",
   "execution_count": 16,
   "id": "436f0547-9486-4e21-aba7-952d52ce184c",
   "metadata": {},
   "outputs": [],
   "source": [
    "import numpy as np\n",
    "arr_2d=np.array([[0,1,2,3],[4,5,6,7]])"
   ]
  },
  {
   "cell_type": "code",
   "execution_count": 17,
   "id": "ef8e57f4-0797-41ce-b483-a2254ed6e9c3",
   "metadata": {},
   "outputs": [
    {
     "data": {
      "text/plain": [
       "array([[0, 1, 2, 3],\n",
       "       [4, 5, 6, 7]])"
      ]
     },
     "execution_count": 17,
     "metadata": {},
     "output_type": "execute_result"
    }
   ],
   "source": [
    "\n",
    "arr_2d"
   ]
  },
  {
   "cell_type": "code",
   "execution_count": 21,
   "id": "2c39a428-27bf-4314-8f0d-7e1ccd651193",
   "metadata": {},
   "outputs": [
    {
     "data": {
      "text/plain": [
       "array([[0, 1, 2, 3],\n",
       "       [4, 5, 6, 7],\n",
       "       [8, 9, 0, 5]])"
      ]
     },
     "execution_count": 21,
     "metadata": {},
     "output_type": "execute_result"
    }
   ],
   "source": [
    "arr_3d=np.array([[0,1,2,3],[4,5,6,7],[8,9,0,5]])\n",
    "arr_3d"
   ]
  },
  {
   "cell_type": "code",
   "execution_count": 18,
   "id": "454f9b8b-ac57-46d5-ab94-a918347ce533",
   "metadata": {},
   "outputs": [
    {
     "data": {
      "text/plain": [
       "array([[2, 3, 4, 5],\n",
       "       [6, 7, 8, 9]])"
      ]
     },
     "execution_count": 18,
     "metadata": {},
     "output_type": "execute_result"
    }
   ],
   "source": [
    "arr_2d+2"
   ]
  },
  {
   "cell_type": "code",
   "execution_count": 19,
   "id": "b8cb1c40-cd6f-474c-9a98-29ef2a13fe28",
   "metadata": {},
   "outputs": [
    {
     "data": {
      "text/plain": [
       "array([[ 0,  2,  4,  6],\n",
       "       [ 8, 10, 12, 14]])"
      ]
     },
     "execution_count": 19,
     "metadata": {},
     "output_type": "execute_result"
    }
   ],
   "source": [
    "arr_2d*2"
   ]
  },
  {
   "cell_type": "code",
   "execution_count": 22,
   "id": "51d5bbbf-ea87-4134-a062-80870bd784fd",
   "metadata": {},
   "outputs": [
    {
     "data": {
      "text/plain": [
       "array([[-1,  0,  1,  2],\n",
       "       [ 3,  4,  5,  6],\n",
       "       [ 7,  8, -1,  4]])"
      ]
     },
     "execution_count": 22,
     "metadata": {},
     "output_type": "execute_result"
    }
   ],
   "source": [
    "arr_3d-1"
   ]
  },
  {
   "cell_type": "code",
   "execution_count": 23,
   "id": "42f22325-82fc-4f1a-8920-90f272ca61fb",
   "metadata": {},
   "outputs": [
    {
     "data": {
      "text/plain": [
       "array([[-1,  0,  1,  2],\n",
       "       [ 3,  4,  5,  6],\n",
       "       [ 7,  8, -1,  4]])"
      ]
     },
     "execution_count": 23,
     "metadata": {},
     "output_type": "execute_result"
    }
   ],
   "source": [
    "arr_3d-1"
   ]
  },
  {
   "cell_type": "code",
   "execution_count": null,
   "id": "90281440-d2ca-4d13-96eb-9ed68104b5eb",
   "metadata": {},
   "outputs": [],
   "source": [
    "import pandas as pd\n",
    "data=pd.read_csv('tit.csv')"
   ]
  },
  {
   "cell_type": "code",
   "execution_count": 28,
   "id": "77b4ab82-53ee-42c2-beb2-f7717775a0ff",
   "metadata": {},
   "outputs": [
    {
     "ename": "NameError",
     "evalue": "name 'data' is not defined",
     "output_type": "error",
     "traceback": [
      "\u001b[1;31m---------------------------------------------------------------------------\u001b[0m",
      "\u001b[1;31mNameError\u001b[0m                                 Traceback (most recent call last)",
      "Cell \u001b[1;32mIn[28], line 1\u001b[0m\n\u001b[1;32m----> 1\u001b[0m \u001b[38;5;28mprint\u001b[39m(data\u001b[38;5;241m.\u001b[39mhead())\n",
      "\u001b[1;31mNameError\u001b[0m: name 'data' is not defined"
     ]
    }
   ],
   "source": [
    "print(data.head())"
   ]
  },
  {
   "cell_type": "code",
   "execution_count": null,
   "id": "67c1fe69-0b3a-4d3c-8bf1-426301065ac4",
   "metadata": {},
   "outputs": [],
   "source": []
  }
 ],
 "metadata": {
  "kernelspec": {
   "display_name": "Python 3 (ipykernel)",
   "language": "python",
   "name": "python3"
  },
  "language_info": {
   "codemirror_mode": {
    "name": "ipython",
    "version": 3
   },
   "file_extension": ".py",
   "mimetype": "text/x-python",
   "name": "python",
   "nbconvert_exporter": "python",
   "pygments_lexer": "ipython3",
   "version": "3.12.7"
  }
 },
 "nbformat": 4,
 "nbformat_minor": 5
}
