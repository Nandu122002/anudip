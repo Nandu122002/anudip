{
 "cells": [
  {
   "cell_type": "code",
   "execution_count": 2,
   "id": "6c96020a-41f0-4522-bea5-936243e43d37",
   "metadata": {},
   "outputs": [
    {
     "name": "stdout",
     "output_type": "stream",
     "text": [
      "p\n",
      "y\n",
      "t\n",
      "h\n",
      "o\n",
      "n\n"
     ]
    }
   ],
   "source": [
    "LOOPS OPERATIONS ON STRINGS:\n",
    "\n",
    "# 1. for loop\n",
    "\n",
    "text='python'\n",
    "for char in text:\n",
    "    print(char)\n",
    "\n"
   ]
  },
  {
   "cell_type": "code",
   "execution_count": 3,
   "id": "73a4b6be-b5f1-4f94-be6c-94798357614c",
   "metadata": {},
   "outputs": [],
   "source": [
    "text='hello'\n",
    "uppercase=''\n",
    "for char in text:\n",
    "    uppercase+=char.upper()\n",
    "    "
   ]
  },
  {
   "cell_type": "code",
   "execution_count": 4,
   "id": "8a3f39df-8195-4848-aa3a-247d4733e6c6",
   "metadata": {},
   "outputs": [
    {
     "data": {
      "text/plain": [
       "True"
      ]
     },
     "execution_count": 4,
     "metadata": {},
     "output_type": "execute_result"
    }
   ],
   "source": [
    "# membership operators on strings\n",
    "# in opearator (checking for )\n",
    "# syntax\n",
    "# substring in string\n",
    "text='hello world'\n",
    "'o' in text"
   ]
  },
  {
   "cell_type": "code",
   "execution_count": 5,
   "id": "d4e3b83a-95c5-4cfc-9791-083fb4859cdc",
   "metadata": {},
   "outputs": [
    {
     "data": {
      "text/plain": [
       "False"
      ]
     },
     "execution_count": 5,
     "metadata": {},
     "output_type": "execute_result"
    }
   ],
   "source": [
    "# not in operator(checks if substring does not exist in string)\n",
    "' ' not in text"
   ]
  },
  {
   "cell_type": "code",
   "execution_count": 6,
   "id": "b2f667ee-37fc-4a34-86dc-5b20a3df129c",
   "metadata": {},
   "outputs": [
    {
     "data": {
      "text/plain": [
       "False"
      ]
     },
     "execution_count": 6,
     "metadata": {},
     "output_type": "execute_result"
    }
   ],
   "source": [
    "'e' not in text"
   ]
  },
  {
   "cell_type": "code",
   "execution_count": 7,
   "id": "9277dd48-95c7-49df-9f09-16cec15ac35c",
   "metadata": {},
   "outputs": [
    {
     "data": {
      "text/plain": [
       "True"
      ]
     },
     "execution_count": 7,
     "metadata": {},
     "output_type": "execute_result"
    }
   ],
   "source": [
    "'x' not in text"
   ]
  },
  {
   "cell_type": "code",
   "execution_count": 8,
   "id": "46ee59b3-3039-4674-a5c6-e022aa30bf77",
   "metadata": {},
   "outputs": [
    {
     "data": {
      "text/plain": [
       "True"
      ]
     },
     "execution_count": 8,
     "metadata": {},
     "output_type": "execute_result"
    }
   ],
   "source": [
    "text1=\"\"\" Python Collections (Arrays)\n",
    "There are four collection data types in the Python programming language:\n",
    "List is a collection which is ordered and changeable. Allows duplicate members.\n",
    "Tuple is a collection which is ordered and unchangeable. Allows duplicate members.\n",
    "Set is a collection which is unordered, unchangeable*, and unindexed. No duplicate members.\n",
    "Dictionary is a collection which is ordered** and changeable. No duplicate members\"\"\"\n",
    "'ordered' in text1"
   ]
  },
  {
   "cell_type": "code",
   "execution_count": 9,
   "id": "a977f199-b913-4121-80c2-361365d910e1",
   "metadata": {},
   "outputs": [
    {
     "data": {
      "text/plain": [
       "False"
      ]
     },
     "execution_count": 9,
     "metadata": {},
     "output_type": "execute_result"
    }
   ],
   "source": [
    "'ordered' in text"
   ]
  },
  {
   "cell_type": "code",
   "execution_count": 10,
   "id": "e4fe3444-e739-455c-8aa8-bfa0fcd7cd24",
   "metadata": {},
   "outputs": [
    {
     "data": {
      "text/plain": [
       "False"
      ]
     },
     "execution_count": 10,
     "metadata": {},
     "output_type": "execute_result"
    }
   ],
   "source": [
    "'ordered' in text"
   ]
  },
  {
   "cell_type": "code",
   "execution_count": 11,
   "id": "104ed84a-314d-40e8-bf89-d6f8ac1050ea",
   "metadata": {},
   "outputs": [
    {
     "data": {
      "text/plain": [
       "True"
      ]
     },
     "execution_count": 11,
     "metadata": {},
     "output_type": "execute_result"
    }
   ],
   "source": [
    "'ordered' in text1"
   ]
  },
  {
   "cell_type": "code",
   "execution_count": 17,
   "id": "ffb1e1a5-86eb-4fa0-961a-50951ec6a5c0",
   "metadata": {},
   "outputs": [
    {
     "ename": "NameError",
     "evalue": "name 'lowercase' is not defined",
     "output_type": "error",
     "traceback": [
      "\u001b[1;31m---------------------------------------------------------------------------\u001b[0m",
      "\u001b[1;31mNameError\u001b[0m                                 Traceback (most recent call last)",
      "Cell \u001b[1;32mIn[17], line 2\u001b[0m\n\u001b[0;32m      1\u001b[0m uppercase\n\u001b[1;32m----> 2\u001b[0m lowercase\n\u001b[0;32m      3\u001b[0m title\n\u001b[0;32m      4\u001b[0m strip\n",
      "\u001b[1;31mNameError\u001b[0m: name 'lowercase' is not defined"
     ]
    }
   ],
   "source": [
    "uppercase\n",
    "lowercase\n",
    "title\n",
    "strip\n",
    "replace\n",
    "find\n",
    "count\n",
    "startswith\n",
    "endswith\n",
    "isdigit\n",
    "isalpha\n",
    "isupper\n",
    "rfind\n",
    "ascii\n",
    "len\n",
    "sort\n",
    "reverse"
   ]
  },
  {
   "cell_type": "code",
   "execution_count": 15,
   "id": "76349bf6-9f3a-44fc-800d-0d30a9b206e8",
   "metadata": {},
   "outputs": [
    {
     "data": {
      "text/plain": [
       "False"
      ]
     },
     "execution_count": 15,
     "metadata": {},
     "output_type": "execute_result"
    }
   ],
   "source": [
    "text='hello'\n",
    "text1=text.isupper()\n",
    "text1"
   ]
  },
  {
   "cell_type": "code",
   "execution_count": 16,
   "id": "5f690f63-fda1-4608-bd0e-85607ffbc907",
   "metadata": {},
   "outputs": [
    {
     "data": {
      "text/plain": [
       "7"
      ]
     },
     "execution_count": 16,
     "metadata": {},
     "output_type": "execute_result"
    }
   ],
   "source": [
    "text='hello, hello, world'\n",
    "index=text.rfind('hello')\n",
    "index"
   ]
  },
  {
   "cell_type": "code",
   "execution_count": null,
   "id": "ab9d47c7-bf8b-4e1d-8323-ccf76fd05f3e",
   "metadata": {},
   "outputs": [],
   "source": []
  }
 ],
 "metadata": {
  "kernelspec": {
   "display_name": "Python 3 (ipykernel)",
   "language": "python",
   "name": "python3"
  },
  "language_info": {
   "codemirror_mode": {
    "name": "ipython",
    "version": 3
   },
   "file_extension": ".py",
   "mimetype": "text/x-python",
   "name": "python",
   "nbconvert_exporter": "python",
   "pygments_lexer": "ipython3",
   "version": "3.12.7"
  }
 },
 "nbformat": 4,
 "nbformat_minor": 5
}
