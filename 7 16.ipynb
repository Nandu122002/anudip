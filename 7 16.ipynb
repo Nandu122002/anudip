{
 "cells": [
  {
   "cell_type": "code",
   "execution_count": 1,
   "id": "c67bcd35-f556-4017-a20a-145596e5181d",
   "metadata": {},
   "outputs": [
    {
     "name": "stdin",
     "output_type": "stream",
     "text": [
      "please enter your name: nandini\n"
     ]
    },
    {
     "name": "stdout",
     "output_type": "stream",
     "text": [
      "hello, nandini! nice to meet you.\n"
     ]
    }
   ],
   "source": [
    "def greet():\n",
    "    name=input('please enter your name:')\n",
    "    print(f'hello, {name}! nice to meet you.')\n",
    "\n",
    "greet()"
   ]
  },
  {
   "cell_type": "code",
   "execution_count": null,
   "id": "c80c03be-899b-4fd6-924a-7878c481554a",
   "metadata": {},
   "outputs": [],
   "source": [
    "built-in functions\n",
    "print()\n",
    "len()\n",
    "type()\n",
    "formal arguments\n",
    "actual arguments"
   ]
  },
  {
   "cell_type": "code",
   "execution_count": null,
   "id": "e6e714c8-0123-4353-85cc-1008fb75d4b9",
   "metadata": {},
   "outputs": [],
   "source": [
    "*args : arbitary positional arguments \n",
    "\n",
    "syntax\n",
    "def func_name(*args):\n",
    "    # function body\n",
    "     pass"
   ]
  },
  {
   "cell_type": "code",
   "execution_count": 2,
   "id": "fc388eb3-ef2c-407a-8b46-fc24b72a2e1f",
   "metadata": {},
   "outputs": [
    {
     "name": "stdout",
     "output_type": "stream",
     "text": [
      "15\n"
     ]
    }
   ],
   "source": [
    "def add(*num):\n",
    "    z=sum(num)\n",
    "    print(z)\n",
    "\n",
    "add(1,2,3,4,5)"
   ]
  },
  {
   "cell_type": "code",
   "execution_count": 3,
   "id": "4aee2ab4-ba90-42ab-8d82-33af63161ac3",
   "metadata": {},
   "outputs": [
    {
     "name": "stdout",
     "output_type": "stream",
     "text": [
      "addition: 11\n"
     ]
    }
   ],
   "source": [
    "def add(*num):\n",
    "    z=num[0]+num[1]+num[2]\n",
    "    print('addition:',z)\n",
    "\n",
    "add(5,2,4)"
   ]
  },
  {
   "cell_type": "code",
   "execution_count": 4,
   "id": "0708028b-13ba-43e3-8ec7-b261ceb0d4cd",
   "metadata": {},
   "outputs": [
    {
     "name": "stdout",
     "output_type": "stream",
     "text": [
      "9\n"
     ]
    }
   ],
   "source": [
    "# 2. find the maximum value\n",
    "def find_max(*args):\n",
    "    return max(args)\n",
    "\n",
    "print(find_max(3,8,5,7,9))"
   ]
  },
  {
   "cell_type": "code",
   "execution_count": 5,
   "id": "506609ef-2ee9-4aa3-ab1b-c3a6c3ab6069",
   "metadata": {},
   "outputs": [
    {
     "data": {
      "text/plain": [
       "'Hello World !'"
      ]
     },
     "execution_count": 5,
     "metadata": {},
     "output_type": "execute_result"
    }
   ],
   "source": [
    "# 3. concatenate strings\n",
    "def concatenate_string(*args):\n",
    "    return ' '.join(args)\n",
    "\n",
    "concatenate_string('Hello','World','!')"
   ]
  },
  {
   "cell_type": "code",
   "execution_count": null,
   "id": "c27383df-3705-4afa-a6fa-30b0f8192067",
   "metadata": {},
   "outputs": [],
   "source": [
    "**kwargs: arbitary keyword arguments\n",
    "syntax\n",
    "def func_name(**kwargs):\n",
    "    # function body\n",
    "    pass"
   ]
  },
  {
   "cell_type": "code",
   "execution_count": 7,
   "id": "2d8cd7db-bf0e-4dda-bab3-1bbb23020703",
   "metadata": {},
   "outputs": [
    {
     "name": "stdout",
     "output_type": "stream",
     "text": [
      "<class 'dict'>\n",
      "this is a key name this is a value alice\n",
      "this is a key age this is a value 25\n"
     ]
    }
   ],
   "source": [
    "def func(**a):\n",
    "    print(type(a))\n",
    "    for i,j in a.items():\n",
    "        print(f\"this is a key {i} this is a value {j}\")\n",
    "\n",
    "func(name='alice',age=25)"
   ]
  },
  {
   "cell_type": "code",
   "execution_count": null,
   "id": "94038a4d-87af-4a22-aacd-b77d74b2dac3",
   "metadata": {},
   "outputs": [],
   "source": [
    "types of variables in functions\n",
    "1. local variables\n",
    "variables that are declared inside a function n can be accessed within that function\n",
    "they exist only only while the function"
   ]
  },
  {
   "cell_type": "code",
   "execution_count": 8,
   "id": "252dff0f-7603-4208-9792-64f508af4a78",
   "metadata": {},
   "outputs": [
    {
     "name": "stdout",
     "output_type": "stream",
     "text": [
      "40\n"
     ]
    }
   ],
   "source": [
    "def func1():\n",
    "    abc=10\n",
    "    bca=30\n",
    "    cba=abc+bca\n",
    "    print(cba)\n",
    "\n",
    "func1()"
   ]
  },
  {
   "cell_type": "code",
   "execution_count": null,
   "id": "2df08b5c-6962-4a0d-a1cb-81fee9c08f8a",
   "metadata": {},
   "outputs": [],
   "source": [
    "2. global variables\n",
    "variables declared outside a function n can be accessed both inside n outside any function.\n",
    "global variables are accessible throughout the program."
   ]
  },
  {
   "cell_type": "code",
   "execution_count": 9,
   "id": "468a666c-b9c3-44bf-b81d-181d1ac36427",
   "metadata": {},
   "outputs": [
    {
     "name": "stdout",
     "output_type": "stream",
     "text": [
      "30\n"
     ]
    }
   ],
   "source": [
    "eja=20\n",
    "def func2():\n",
    "    i=eja+10\n",
    "    print(i)\n",
    "\n",
    "func2()"
   ]
  },
  {
   "cell_type": "code",
   "execution_count": 11,
   "id": "cbefc431-4420-4bb8-97d2-7dc8e6c9314b",
   "metadata": {},
   "outputs": [
    {
     "name": "stdout",
     "output_type": "stream",
     "text": [
      "first\n",
      "hello\n"
     ]
    }
   ],
   "source": [
    "nested functions\n",
    "def outer_func():\n",
    "    print('first')\n",
    "    def inner_func():\n",
    "        print('hello')\n",
    "\n",
    "    inner_func()\n",
    "\n",
    "outer_func()\n",
    "    "
   ]
  },
  {
   "cell_type": "code",
   "execution_count": null,
   "id": "23022a55-7386-42fd-9ad3-50e685e907a7",
   "metadata": {},
   "outputs": [],
   "source": [
    "deleting a function"
   ]
  },
  {
   "cell_type": "code",
   "execution_count": 12,
   "id": "5949c5c6-9ba1-4037-bffa-0c1a9e106888",
   "metadata": {},
   "outputs": [
    {
     "name": "stdout",
     "output_type": "stream",
     "text": [
      "hello, world!\n"
     ]
    }
   ],
   "source": [
    "def func():\n",
    "    print('hello, world!')\n",
    "\n",
    "func()"
   ]
  },
  {
   "cell_type": "code",
   "execution_count": 13,
   "id": "321d192c-17fd-47ed-9be2-7640dc46959e",
   "metadata": {},
   "outputs": [],
   "source": [
    "del func"
   ]
  },
  {
   "cell_type": "code",
   "execution_count": null,
   "id": "5537a6cd-4429-4749-90b1-3b88477d40e7",
   "metadata": {},
   "outputs": [],
   "source": [
    "LAMBDA FUNCTIONS"
   ]
  },
  {
   "cell_type": "code",
   "execution_count": null,
   "id": "2b3a8b7f-f64d-47ba-bc06-49fd9b011d42",
   "metadata": {},
   "outputs": [],
   "source": [
    "syntax \n",
    "lambda arguments1: expression"
   ]
  },
  {
   "cell_type": "code",
   "execution_count": 16,
   "id": "465bb013-96b6-4ccc-84d9-255afc4802bc",
   "metadata": {},
   "outputs": [
    {
     "data": {
      "text/plain": [
       "14"
      ]
     },
     "execution_count": 16,
     "metadata": {},
     "output_type": "execute_result"
    }
   ],
   "source": [
    "def func(a):\n",
    "    b=a+4\n",
    "    return b\n",
    "\n",
    "func(10)"
   ]
  },
  {
   "cell_type": "code",
   "execution_count": 17,
   "id": "cc63c5c6-2807-46ba-bacc-bf0aa0c4e0ad",
   "metadata": {},
   "outputs": [
    {
     "data": {
      "text/plain": [
       "24"
      ]
     },
     "execution_count": 17,
     "metadata": {},
     "output_type": "execute_result"
    }
   ],
   "source": [
    "ab=func(20)\n",
    "ab"
   ]
  },
  {
   "cell_type": "code",
   "execution_count": null,
   "id": "2866b58a-6b72-4260-ab51-4b34fa3c114e",
   "metadata": {},
   "outputs": [],
   "source": [
    "ba = lambda a,b,c: a+b+c"
   ]
  },
  {
   "cell_type": "code",
   "execution_count": null,
   "id": "942eed92-80a1-4ce9-8724-1cdcf5f90bdb",
   "metadata": {},
   "outputs": [],
   "source": []
  }
 ],
 "metadata": {
  "kernelspec": {
   "display_name": "Python 3 (ipykernel)",
   "language": "python",
   "name": "python3"
  },
  "language_info": {
   "codemirror_mode": {
    "name": "ipython",
    "version": 3
   },
   "file_extension": ".py",
   "mimetype": "text/x-python",
   "name": "python",
   "nbconvert_exporter": "python",
   "pygments_lexer": "ipython3",
   "version": "3.12.7"
  }
 },
 "nbformat": 4,
 "nbformat_minor": 5
}
