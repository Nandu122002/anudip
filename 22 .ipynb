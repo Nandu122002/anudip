{
 "cells": [
  {
   "cell_type": "code",
   "execution_count": 1,
   "id": "54e1839e-9daa-4be5-93d6-f71457e8b058",
   "metadata": {},
   "outputs": [
    {
     "data": {
      "text/plain": [
       "numpy.ndarray"
      ]
     },
     "execution_count": 1,
     "metadata": {},
     "output_type": "execute_result"
    }
   ],
   "source": [
    "# 2. using functions to geneate data\n",
    "import numpy as np\n",
    "a33=np.ones((3,4))\n",
    "type(a33)"
   ]
  },
  {
   "cell_type": "code",
   "execution_count": 2,
   "id": "7cee62eb-e205-43ed-bc39-1a87653013ce",
   "metadata": {},
   "outputs": [
    {
     "data": {
      "text/plain": [
       "array([[1., 1., 1., 1.],\n",
       "       [1., 1., 1., 1.],\n",
       "       [1., 1., 1., 1.]])"
      ]
     },
     "execution_count": 2,
     "metadata": {},
     "output_type": "execute_result"
    }
   ],
   "source": [
    "a33"
   ]
  },
  {
   "cell_type": "code",
   "execution_count": 3,
   "id": "a34b2fed-86d6-4008-9a44-e1b9cf9b43f8",
   "metadata": {},
   "outputs": [
    {
     "data": {
      "text/plain": [
       "array([[0., 0., 0., 0.],\n",
       "       [0., 0., 0., 0.]])"
      ]
     },
     "execution_count": 3,
     "metadata": {},
     "output_type": "execute_result"
    }
   ],
   "source": [
    "a44=np.zeros((2,4))\n",
    "a44"
   ]
  },
  {
   "cell_type": "code",
   "execution_count": 4,
   "id": "3b59ac06-194d-41dc-bdee-7de6e8f9cd7f",
   "metadata": {},
   "outputs": [],
   "source": [
    "arr1=np.array([1,2,3])"
   ]
  },
  {
   "cell_type": "code",
   "execution_count": 5,
   "id": "7845168f-46be-46f2-873f-7d7c6d070e65",
   "metadata": {},
   "outputs": [
    {
     "data": {
      "text/plain": [
       "array([1, 2, 3])"
      ]
     },
     "execution_count": 5,
     "metadata": {},
     "output_type": "execute_result"
    }
   ],
   "source": [
    "arr1"
   ]
  },
  {
   "cell_type": "code",
   "execution_count": 6,
   "id": "842ff26b-3ce8-406a-ad66-9f38006f1048",
   "metadata": {},
   "outputs": [
    {
     "data": {
      "text/plain": [
       "array([[1., 0., 0.],\n",
       "       [0., 1., 0.],\n",
       "       [0., 0., 1.]])"
      ]
     },
     "execution_count": 6,
     "metadata": {},
     "output_type": "execute_result"
    }
   ],
   "source": [
    "identity_mat=np.eye(3)\n",
    "identity_mat"
   ]
  },
  {
   "cell_type": "code",
   "execution_count": 7,
   "id": "117f2f13-60f9-460a-8303-b51f4dafadc6",
   "metadata": {},
   "outputs": [],
   "source": [
    "random_array=np.random.rand(4,4)"
   ]
  },
  {
   "cell_type": "code",
   "execution_count": 8,
   "id": "3fff85aa-21f3-4feb-97e3-d090dd0a9cfd",
   "metadata": {},
   "outputs": [
    {
     "data": {
      "text/plain": [
       "array([[0.87131943, 0.73538353, 0.668427  , 0.69333847],\n",
       "       [0.18397041, 0.11145148, 0.43938304, 0.10714878],\n",
       "       [0.67656755, 0.92169878, 0.13713448, 0.38856499],\n",
       "       [0.62997811, 0.63818636, 0.03450941, 0.54974226]])"
      ]
     },
     "execution_count": 8,
     "metadata": {},
     "output_type": "execute_result"
    }
   ],
   "source": [
    "random_array"
   ]
  },
  {
   "cell_type": "code",
   "execution_count": 9,
   "id": "96aed8ff-13d8-4063-809f-093690596829",
   "metadata": {},
   "outputs": [
    {
     "data": {
      "text/plain": [
       "array([[0.87131943, 0.73538353, 0.668427  , 0.69333847],\n",
       "       [0.18397041, 0.11145148, 0.43938304, 0.10714878],\n",
       "       [0.67656755, 0.92169878, 0.13713448, 0.38856499],\n",
       "       [0.62997811, 0.63818636, 0.03450941, 0.54974226]])"
      ]
     },
     "execution_count": 9,
     "metadata": {},
     "output_type": "execute_result"
    }
   ],
   "source": [
    "random_array"
   ]
  },
  {
   "cell_type": "code",
   "execution_count": 10,
   "id": "973d99dd-a40a-4e5b-a207-da44cd19a8df",
   "metadata": {},
   "outputs": [
    {
     "data": {
      "text/plain": [
       "array([1, 2, 3, 4])"
      ]
     },
     "execution_count": 10,
     "metadata": {},
     "output_type": "execute_result"
    }
   ],
   "source": [
    "# 3. specific dara type\n",
    "\n",
    "l=[1,2,3,4]\n",
    "\n",
    "np.array(l,dtype=np.int32)"
   ]
  },
  {
   "cell_type": "code",
   "execution_count": 11,
   "id": "de0edd9b-57e2-4cbe-b852-a2ba04fb869b",
   "metadata": {},
   "outputs": [],
   "source": [
    "float_array=np.array([1,2,3], dtype=np.float64)\n",
    "int_array=np.array([1,2,3,4], dtype=np.int32)"
   ]
  },
  {
   "cell_type": "code",
   "execution_count": 12,
   "id": "7a91c653-38ea-46a9-8d06-dc75e8ad8153",
   "metadata": {},
   "outputs": [
    {
     "data": {
      "text/plain": [
       "array([1., 2., 3.])"
      ]
     },
     "execution_count": 12,
     "metadata": {},
     "output_type": "execute_result"
    }
   ],
   "source": [
    "float_array"
   ]
  },
  {
   "cell_type": "code",
   "execution_count": 13,
   "id": "a919e581-0d64-41c8-b9ee-284bd0e641b8",
   "metadata": {},
   "outputs": [
    {
     "data": {
      "text/plain": [
       "array([1, 2, 3, 4])"
      ]
     },
     "execution_count": 13,
     "metadata": {},
     "output_type": "execute_result"
    }
   ],
   "source": [
    "int_array"
   ]
  },
  {
   "cell_type": "code",
   "execution_count": 14,
   "id": "eb2ed553-bc61-4c1d-8815-714afbedf909",
   "metadata": {},
   "outputs": [
    {
     "data": {
      "text/plain": [
       "array([ 0,  1,  2,  3,  4,  5,  6,  7,  8,  9, 10, 11])"
      ]
     },
     "execution_count": 14,
     "metadata": {},
     "output_type": "execute_result"
    }
   ],
   "source": [
    "# 4. using array and linespace\n",
    "# arange()\n",
    "\n",
    "a44=np.arange(0,12)\n",
    "a44"
   ]
  },
  {
   "cell_type": "code",
   "execution_count": 15,
   "id": "14cc6e66-d6cd-4669-9dcd-23ef828f7041",
   "metadata": {},
   "outputs": [
    {
     "data": {
      "text/plain": [
       "array([5, 6])"
      ]
     },
     "execution_count": 15,
     "metadata": {},
     "output_type": "execute_result"
    }
   ],
   "source": [
    "a66=np.arange(5,7)\n",
    "a66"
   ]
  },
  {
   "cell_type": "code",
   "execution_count": 16,
   "id": "e213877b-db14-4c7a-862a-594b6e438937",
   "metadata": {},
   "outputs": [
    {
     "data": {
      "text/plain": [
       "array([ 0.,  2.,  4.,  6.,  8., 10.])"
      ]
     },
     "execution_count": 16,
     "metadata": {},
     "output_type": "execute_result"
    }
   ],
   "source": [
    "#  linespace\n",
    "\n",
    "linespace_array=np.linspace(0,10,6)\n",
    "linespace_array"
   ]
  },
  {
   "cell_type": "code",
   "execution_count": 17,
   "id": "cf26444b-034b-4748-89c3-af0c3cb9a6fb",
   "metadata": {},
   "outputs": [
    {
     "data": {
      "text/plain": [
       "array([ 1.  ,  5.75, 10.5 , 15.25, 20.  ])"
      ]
     },
     "execution_count": 17,
     "metadata": {},
     "output_type": "execute_result"
    }
   ],
   "source": [
    "linespace_array=np.linspace(1,20,5)\n",
    "linespace_array"
   ]
  },
  {
   "cell_type": "code",
   "execution_count": null,
   "id": "6ca250d0-f022-49a9-8f62-857b4033d253",
   "metadata": {},
   "outputs": [],
   "source": [
    "random_array=np.random.rand(4,4)  # CREATES random values in(0,1)\n",
    "random_array"
   ]
  },
  {
   "cell_type": "code",
   "execution_count": null,
   "id": "ba016ad4-1a27-4dc7-b203-5fdbd3dfdc18",
   "metadata": {},
   "outputs": [],
   "source": [
    "Numpy array Indexing"
   ]
  },
  {
   "cell_type": "code",
   "execution_count": 18,
   "id": "84010c27-25cd-43a4-992c-0dfa9eff6548",
   "metadata": {},
   "outputs": [
    {
     "name": "stdout",
     "output_type": "stream",
     "text": [
      "10\n"
     ]
    }
   ],
   "source": [
    "# 1. basic indexing\n",
    "\n",
    "arr=np.array([10,20,30,40])\n",
    "print(arr[0])"
   ]
  },
  {
   "cell_type": "code",
   "execution_count": 19,
   "id": "9ec7a7a0-2e01-40ac-910d-3cccd5318613",
   "metadata": {},
   "outputs": [
    {
     "data": {
      "text/plain": [
       "40"
      ]
     },
     "execution_count": 19,
     "metadata": {},
     "output_type": "execute_result"
    }
   ],
   "source": [
    "arr[-1]"
   ]
  },
  {
   "cell_type": "code",
   "execution_count": 20,
   "id": "aaeb2fe6-e812-401a-8b06-2858e12a026a",
   "metadata": {},
   "outputs": [
    {
     "data": {
      "text/plain": [
       "2"
      ]
     },
     "execution_count": 20,
     "metadata": {},
     "output_type": "execute_result"
    }
   ],
   "source": [
    "# 2d example\n",
    "matrix=np.array([[1,2,3],\n",
    "                 [4,5,6]])\n",
    "matrix[0,1]"
   ]
  },
  {
   "cell_type": "code",
   "execution_count": 21,
   "id": "7df1c1d5-727b-48f1-9185-528f4872d491",
   "metadata": {},
   "outputs": [
    {
     "name": "stdout",
     "output_type": "stream",
     "text": [
      "6\n"
     ]
    }
   ],
   "source": [
    "print(matrix[1,2])"
   ]
  },
  {
   "cell_type": "code",
   "execution_count": 22,
   "id": "55dd7a03-3bc6-4d7b-bd80-44598efe2880",
   "metadata": {},
   "outputs": [
    {
     "name": "stdout",
     "output_type": "stream",
     "text": [
      "[10 20 30 40]\n"
     ]
    }
   ],
   "source": [
    "# 2. slicing\n",
    "# 1d array slicing\n",
    "\n",
    "arr=np.array([10,20,30,40,50,60])\n",
    "print(arr[0:4])"
   ]
  },
  {
   "cell_type": "code",
   "execution_count": 23,
   "id": "55cb1d94-2195-4b32-9acf-871770d6ecd2",
   "metadata": {},
   "outputs": [
    {
     "name": "stdout",
     "output_type": "stream",
     "text": [
      "[20 30 40 50 60]\n"
     ]
    }
   ],
   "source": [
    "print(arr[1:])"
   ]
  },
  {
   "cell_type": "code",
   "execution_count": 24,
   "id": "047f34f4-a17e-4a1b-b626-989fc134f882",
   "metadata": {},
   "outputs": [
    {
     "name": "stdout",
     "output_type": "stream",
     "text": [
      "[10 20 30 40 50]\n"
     ]
    }
   ],
   "source": [
    "print(arr[:-1])"
   ]
  },
  {
   "cell_type": "code",
   "execution_count": 25,
   "id": "1da34fdf-43dd-4ccb-9a55-922ff5e853cd",
   "metadata": {},
   "outputs": [
    {
     "name": "stdout",
     "output_type": "stream",
     "text": [
      "[60 50 40 30 20 10]\n"
     ]
    }
   ],
   "source": [
    "print(arr[::-1])"
   ]
  },
  {
   "cell_type": "code",
   "execution_count": 26,
   "id": "79b1f0cd-14ff-4f50-a198-809794994191",
   "metadata": {},
   "outputs": [
    {
     "name": "stdout",
     "output_type": "stream",
     "text": [
      "[10 30 50]\n"
     ]
    }
   ],
   "source": [
    "print(arr[::2])"
   ]
  },
  {
   "cell_type": "code",
   "execution_count": 27,
   "id": "ef839274-1bcf-4765-9afb-3bc7fab42a0f",
   "metadata": {},
   "outputs": [
    {
     "name": "stdout",
     "output_type": "stream",
     "text": [
      "[10 40]\n"
     ]
    }
   ],
   "source": [
    "print(arr[0:4:3])"
   ]
  },
  {
   "cell_type": "code",
   "execution_count": 28,
   "id": "2896b7cd-ad1a-4024-93c3-1da15d4d5208",
   "metadata": {},
   "outputs": [
    {
     "name": "stdout",
     "output_type": "stream",
     "text": [
      "[10 20 30]\n"
     ]
    }
   ],
   "source": [
    "print(arr[:3])"
   ]
  },
  {
   "cell_type": "code",
   "execution_count": 29,
   "id": "65ef7d4d-5529-4953-88c8-313bb39b90bf",
   "metadata": {},
   "outputs": [
    {
     "data": {
      "text/plain": [
       "array([[2, 3],\n",
       "       [5, 6]])"
      ]
     },
     "execution_count": 29,
     "metadata": {},
     "output_type": "execute_result"
    }
   ],
   "source": [
    "# 2d array slicing\n",
    "\n",
    "matrix=np.array([\n",
    "    [1,2,3],\n",
    "    [4,5,6],\n",
    "    [7,8,9]\n",
    "])\n",
    "\n",
    "matrix[0:2,1:3]"
   ]
  },
  {
   "cell_type": "code",
   "execution_count": 30,
   "id": "9f129289-d78b-4ee9-86e5-b478bb71d330",
   "metadata": {},
   "outputs": [
    {
     "name": "stdout",
     "output_type": "stream",
     "text": [
      "[[5 6]\n",
      " [8 9]]\n"
     ]
    }
   ],
   "source": [
    "print(matrix[1:3,1:3])"
   ]
  },
  {
   "cell_type": "code",
   "execution_count": 31,
   "id": "75b02a02-34ec-4b31-ab4a-42cd39be1a77",
   "metadata": {},
   "outputs": [
    {
     "name": "stdout",
     "output_type": "stream",
     "text": [
      "[[8]]\n"
     ]
    }
   ],
   "source": [
    "# 8\n",
    "print(matrix[2:3,1:2])"
   ]
  },
  {
   "cell_type": "code",
   "execution_count": 32,
   "id": "fb1949fd-60fb-4ae4-8bf6-efea15c2877e",
   "metadata": {},
   "outputs": [
    {
     "name": "stdout",
     "output_type": "stream",
     "text": [
      "[[8 9]]\n"
     ]
    }
   ],
   "source": [
    "print(matrix[2:,1:])"
   ]
  },
  {
   "cell_type": "code",
   "execution_count": 33,
   "id": "632b9b83-0a7f-4afc-a359-0d21c3c4cca4",
   "metadata": {},
   "outputs": [
    {
     "data": {
      "text/plain": [
       "array([[8]])"
      ]
     },
     "execution_count": 33,
     "metadata": {},
     "output_type": "execute_result"
    }
   ],
   "source": [
    "matrix[2:3,1:2]"
   ]
  },
  {
   "cell_type": "code",
   "execution_count": 34,
   "id": "ce4a4679-a51f-429e-8a9e-40a98b3a3d3c",
   "metadata": {},
   "outputs": [
    {
     "data": {
      "text/plain": [
       "array([2, 3])"
      ]
     },
     "execution_count": 34,
     "metadata": {},
     "output_type": "execute_result"
    }
   ],
   "source": [
    "#  numpy array copy vs view\n",
    "\n",
    "#  view\n",
    "\n",
    "a=np.array([1,2,3,4])\n",
    "b=a[1:3]  # view\n",
    "b"
   ]
  },
  {
   "cell_type": "code",
   "execution_count": 35,
   "id": "d5ecfe6a-3dde-495c-9280-864764cbd07c",
   "metadata": {},
   "outputs": [
    {
     "name": "stdout",
     "output_type": "stream",
     "text": [
      "[ 1 99  3  4]\n"
     ]
    }
   ],
   "source": [
    "b[0]=99\n",
    "print(a)"
   ]
  },
  {
   "cell_type": "code",
   "execution_count": 36,
   "id": "1df45524-3039-47fc-be2d-ca2166e0997b",
   "metadata": {},
   "outputs": [
    {
     "data": {
      "text/plain": [
       "[1, 2, 3, 4]"
      ]
     },
     "execution_count": 36,
     "metadata": {},
     "output_type": "execute_result"
    }
   ],
   "source": [
    "a=[1,2,3,4]\n",
    "b=a\n",
    "b"
   ]
  },
  {
   "cell_type": "code",
   "execution_count": 37,
   "id": "3b7238a6-5009-4a39-aff8-d1d6c7d776ad",
   "metadata": {},
   "outputs": [
    {
     "data": {
      "text/plain": [
       "[1, 2, 99, 4]"
      ]
     },
     "execution_count": 37,
     "metadata": {},
     "output_type": "execute_result"
    }
   ],
   "source": [
    "b[2]=99\n",
    "b"
   ]
  },
  {
   "cell_type": "code",
   "execution_count": 38,
   "id": "64166e3a-349c-4449-9ace-1b79bd6e3b77",
   "metadata": {},
   "outputs": [
    {
     "data": {
      "text/plain": [
       "[1, 2, 99, 4]"
      ]
     },
     "execution_count": 38,
     "metadata": {},
     "output_type": "execute_result"
    }
   ],
   "source": [
    "a"
   ]
  },
  {
   "cell_type": "code",
   "execution_count": 39,
   "id": "3e964ef3-8da8-47ec-986e-1bb1c88140ae",
   "metadata": {},
   "outputs": [
    {
     "name": "stdout",
     "output_type": "stream",
     "text": [
      "[1 2 3 4]\n",
      "[99  3]\n"
     ]
    }
   ],
   "source": [
    "# copy\n",
    "a=np.array([1,2,3,4])\n",
    "b=a[1:3].copy()  # view\n",
    "b[0]=99\n",
    "print(a)\n",
    "print(b)"
   ]
  },
  {
   "cell_type": "code",
   "execution_count": 40,
   "id": "db65afc6-4ac6-4477-8322-809ff6642fec",
   "metadata": {},
   "outputs": [
    {
     "name": "stdout",
     "output_type": "stream",
     "text": [
      "(2, 3)\n"
     ]
    }
   ],
   "source": [
    "#  numpy shape and reshaping\n",
    "#  shape\n",
    "arr=np.array([[1,2,3],[4,5,6]])\n",
    "print(arr.shape)"
   ]
  },
  {
   "cell_type": "code",
   "execution_count": 41,
   "id": "0dbb3b23-61a1-4f62-a01c-8bb19b8d6fcd",
   "metadata": {},
   "outputs": [],
   "source": [
    "arr=np.array([0,1,2,3,4,5,6,7,8,9,10,11])"
   ]
  },
  {
   "cell_type": "code",
   "execution_count": 42,
   "id": "7c811a08-dded-4601-9f07-2f5cb6d1ae58",
   "metadata": {},
   "outputs": [
    {
     "data": {
      "text/plain": [
       "array([ 0,  1,  2,  3,  4,  5,  6,  7,  8,  9, 10, 11])"
      ]
     },
     "execution_count": 42,
     "metadata": {},
     "output_type": "execute_result"
    }
   ],
   "source": [
    "a=np.arange(12)\n",
    "a"
   ]
  },
  {
   "cell_type": "code",
   "execution_count": null,
   "id": "78ab6222-95a8-4505-bae1-11e764831b92",
   "metadata": {},
   "outputs": [],
   "source": []
  }
 ],
 "metadata": {
  "kernelspec": {
   "display_name": "Python 3 (ipykernel)",
   "language": "python",
   "name": "python3"
  },
  "language_info": {
   "codemirror_mode": {
    "name": "ipython",
    "version": 3
   },
   "file_extension": ".py",
   "mimetype": "text/x-python",
   "name": "python",
   "nbconvert_exporter": "python",
   "pygments_lexer": "ipython3",
   "version": "3.12.7"
  }
 },
 "nbformat": 4,
 "nbformat_minor": 5
}
