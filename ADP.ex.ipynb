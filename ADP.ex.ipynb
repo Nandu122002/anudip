{
 "cells": [
  {
   "cell_type": "code",
   "execution_count": 1,
   "id": "7390e4ae-626e-41a9-8c84-3483b245b0b1",
   "metadata": {},
   "outputs": [
    {
     "name": "stdout",
     "output_type": "stream",
     "text": [
      "hello world!\n"
     ]
    }
   ],
   "source": [
    "print(\"hello world!\")"
   ]
  },
  {
   "cell_type": "markdown",
   "id": "cdccf3e9-f6c6-4ca3-8a83-f0c00ab5a20a",
   "metadata": {},
   "source": [
    "## welcome to  the class\n"
   ]
  },
  {
   "cell_type": "code",
   "execution_count": 3,
   "id": "b70bd137-412d-43ae-9e81-18fb5e008b6e",
   "metadata": {},
   "outputs": [],
   "source": [
    "a=12"
   ]
  },
  {
   "cell_type": "code",
   "execution_count": 4,
   "id": "ea012217-e3cd-4a7c-8197-bb30945db752",
   "metadata": {},
   "outputs": [],
   "source": [
    "B=56"
   ]
  },
  {
   "cell_type": "code",
   "execution_count": 5,
   "id": "e2d8a6e6-2e1e-47bd-a0d0-48ddaeaa9553",
   "metadata": {},
   "outputs": [
    {
     "name": "stdout",
     "output_type": "stream",
     "text": [
      "12\n"
     ]
    }
   ],
   "source": [
    "print(a)"
   ]
  },
  {
   "cell_type": "code",
   "execution_count": 6,
   "id": "5cfcaeed-a8d6-42d9-8322-9effa4b7e00c",
   "metadata": {},
   "outputs": [
    {
     "name": "stdout",
     "output_type": "stream",
     "text": [
      "hello****world\n"
     ]
    }
   ],
   "source": [
    "print(\"hello\",end=\"****\")\n",
    "print(\"world\")"
   ]
  },
  {
   "cell_type": "code",
   "execution_count": 7,
   "id": "f20953af-ad15-4e38-96fd-6817b234cc00",
   "metadata": {},
   "outputs": [
    {
     "name": "stdout",
     "output_type": "stream",
     "text": [
      "hello world\n"
     ]
    }
   ],
   "source": [
    "print(\"hello\",end=\" \")\n",
    "print(\"world\")"
   ]
  },
  {
   "cell_type": "code",
   "execution_count": 8,
   "id": "9d11479f-277d-425b-a603-7d1ccfbf2f1f",
   "metadata": {},
   "outputs": [
    {
     "data": {
      "text/plain": [
       "int"
      ]
     },
     "execution_count": 8,
     "metadata": {},
     "output_type": "execute_result"
    }
   ],
   "source": [
    "type(a)"
   ]
  },
  {
   "cell_type": "code",
   "execution_count": 9,
   "id": "e5e899cc-dbed-43e4-b243-3dabf8735124",
   "metadata": {},
   "outputs": [],
   "source": [
    "lis=[1,2,3]\n",
    "num=[\"gd\",\"gd\"]\n",
    "boo=[True,False]"
   ]
  },
  {
   "cell_type": "code",
   "execution_count": null,
   "id": "b5310b5b-5077-4267-acb7-469ebe70c6eb",
   "metadata": {},
   "outputs": [],
   "source": [
    "type(lis)"
   ]
  }
 ],
 "metadata": {
  "kernelspec": {
   "display_name": "Python 3 (ipykernel)",
   "language": "python",
   "name": "python3"
  },
  "language_info": {
   "codemirror_mode": {
    "name": "ipython",
    "version": 3
   },
   "file_extension": ".py",
   "mimetype": "text/x-python",
   "name": "python",
   "nbconvert_exporter": "python",
   "pygments_lexer": "ipython3",
   "version": "3.12.7"
  }
 },
 "nbformat": 4,
 "nbformat_minor": 5
}
