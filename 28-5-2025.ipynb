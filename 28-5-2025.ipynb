{
 "cells": [
  {
   "cell_type": "code",
   "execution_count": null,
   "id": "33a09035-8321-4197-a548-5af707fed165",
   "metadata": {},
   "outputs": [],
   "source": [
    "                                                    type casting\n",
    "\n",
    "                                      conversion of one type of data to another\n",
    "\n",
    "                             1.implicit conversion(is a type conversion done by python itself)"
   ]
  },
  {
   "cell_type": "code",
   "execution_count": 1,
   "id": "2569ea8c-1aad-42bc-8301-bb1d98347527",
   "metadata": {},
   "outputs": [
    {
     "name": "stdout",
     "output_type": "stream",
     "text": [
      "13.3\n"
     ]
    }
   ],
   "source": [
    "print(8+5.3)"
   ]
  },
  {
   "cell_type": "code",
   "execution_count": 2,
   "id": "ef374a23-2932-43ab-9ee4-2a40f9c93114",
   "metadata": {},
   "outputs": [
    {
     "name": "stdout",
     "output_type": "stream",
     "text": [
      "<class 'int'> <class 'float'>\n"
     ]
    }
   ],
   "source": [
    "print(type(8),type(5.3))"
   ]
  },
  {
   "cell_type": "code",
   "execution_count": null,
   "id": "90d7b398-cc0f-4dbc-a783-f71115aa37b3",
   "metadata": {},
   "outputs": [],
   "source": [
    "                               2.explicit conversion(where the coder explicitly write a code to convert)"
   ]
  },
  {
   "cell_type": "code",
   "execution_count": 3,
   "id": "f3b808f7-61e9-4eb2-8910-6740a96f8eb1",
   "metadata": {},
   "outputs": [],
   "source": [
    "a=10"
   ]
  },
  {
   "cell_type": "code",
   "execution_count": 4,
   "id": "32041955-82fb-410a-b1b2-ad0758d42873",
   "metadata": {},
   "outputs": [],
   "source": [
    "b=str(a)"
   ]
  },
  {
   "cell_type": "code",
   "execution_count": 5,
   "id": "7b6cf7dc-0e73-4520-943e-5ea532867623",
   "metadata": {},
   "outputs": [
    {
     "data": {
      "text/plain": [
       "'10'"
      ]
     },
     "execution_count": 5,
     "metadata": {},
     "output_type": "execute_result"
    }
   ],
   "source": [
    "b"
   ]
  },
  {
   "cell_type": "code",
   "execution_count": 6,
   "id": "2b439366-0696-4062-8790-2efade2e4512",
   "metadata": {},
   "outputs": [],
   "source": [
    "b=4+5j"
   ]
  },
  {
   "cell_type": "code",
   "execution_count": 7,
   "id": "e548262b-257c-455a-927d-20d2f05b82fc",
   "metadata": {},
   "outputs": [
    {
     "data": {
      "text/plain": [
       "'(4+5j)'"
      ]
     },
     "execution_count": 7,
     "metadata": {},
     "output_type": "execute_result"
    }
   ],
   "source": [
    "c=str(b)\n",
    "c"
   ]
  },
  {
   "cell_type": "code",
   "execution_count": null,
   "id": "0903bdd0-8eac-4c7d-a930-1390d77b66d5",
   "metadata": {},
   "outputs": [],
   "source": [
    "       what is syntax"
   ]
  },
  {
   "cell_type": "code",
   "execution_count": 8,
   "id": "4ac823d9-82bf-4765-9d09-4bc84bc9fdf1",
   "metadata": {},
   "outputs": [
    {
     "name": "stdout",
     "output_type": "stream",
     "text": [
      "hello world\n"
     ]
    }
   ],
   "source": [
    "\n",
    "# syntax refers to the set of rules that defines the structure of valid statements and expressions in programming language\n",
    "print('hello world')# the syntax is correct"
   ]
  },
  {
   "cell_type": "code",
   "execution_count": null,
   "id": "91619408-0af1-489d-8c34-189805eb9974",
   "metadata": {},
   "outputs": [],
   "source": [
    "                                      literals"
   ]
  },
  {
   "cell_type": "code",
   "execution_count": 9,
   "id": "31f79048-0376-4320-9b82-c964fba794f9",
   "metadata": {},
   "outputs": [
    {
     "data": {
      "text/plain": [
       "30"
      ]
     },
     "execution_count": 9,
     "metadata": {},
     "output_type": "execute_result"
    }
   ],
   "source": [
    "# a literal ia a fixed value that is directly written into the code and represents a specific data type\n",
    "age=30 #30 is integer literal\n",
    "age"
   ]
  },
  {
   "cell_type": "code",
   "execution_count": 10,
   "id": "56193af6-b56f-45fd-8b10-8657f8a9d861",
   "metadata": {},
   "outputs": [
    {
     "data": {
      "text/plain": [
       "30"
      ]
     },
     "execution_count": 10,
     "metadata": {},
     "output_type": "execute_result"
    }
   ],
   "source": [
    "# a literal ia a fixed value that is directly written into the code and represents a specific data type\n",
    "age=30 #30 is integer literal\n",
    "age"
   ]
  },
  {
   "cell_type": "code",
   "execution_count": 11,
   "id": "7c7d12a0-b9f9-441c-b3af-07df18f64552",
   "metadata": {},
   "outputs": [
    {
     "data": {
      "text/plain": [
       "'morning'"
      ]
     },
     "execution_count": 11,
     "metadata": {},
     "output_type": "execute_result"
    }
   ],
   "source": [
    "greeting=\"morning\" # morning is a string literal\n",
    "greeting"
   ]
  },
  {
   "cell_type": "code",
   "execution_count": null,
   "id": "e4eacfb2-bea7-49cf-89c5-1cb5eac2eef4",
   "metadata": {},
   "outputs": [],
   "source": [
    "                                Operators (arithmetic, relational,logical,bitwise,membership operators)"
   ]
  },
  {
   "cell_type": "code",
   "execution_count": 12,
   "id": "afe7bfef-f267-4530-8c8b-ac4bb4deea17",
   "metadata": {},
   "outputs": [],
   "source": [
    "#type3s of arithmetic operators"
   ]
  },
  {
   "cell_type": "code",
   "execution_count": 13,
   "id": "c8ece9bd-3036-4ef6-a307-0cabd1257589",
   "metadata": {},
   "outputs": [
    {
     "data": {
      "text/plain": [
       "7"
      ]
     },
     "execution_count": 13,
     "metadata": {},
     "output_type": "execute_result"
    }
   ],
   "source": [
    "#1. addition\n",
    "3+4"
   ]
  },
  {
   "cell_type": "code",
   "execution_count": 14,
   "id": "2969f123-8e8e-4e82-8547-0b87c26d956b",
   "metadata": {},
   "outputs": [
    {
     "data": {
      "text/plain": [
       "2"
      ]
     },
     "execution_count": 14,
     "metadata": {},
     "output_type": "execute_result"
    }
   ],
   "source": [
    "#subtraction\n",
    "5-3"
   ]
  },
  {
   "cell_type": "code",
   "execution_count": 15,
   "id": "adc72123-f361-4fb7-8b94-a1074a25dfe1",
   "metadata": {},
   "outputs": [
    {
     "data": {
      "text/plain": [
       "20"
      ]
     },
     "execution_count": 15,
     "metadata": {},
     "output_type": "execute_result"
    }
   ],
   "source": [
    "#multipication\n",
    "4*5"
   ]
  },
  {
   "cell_type": "code",
   "execution_count": 16,
   "id": "4eec9469-559c-417a-bf0a-e421c5b4e091",
   "metadata": {},
   "outputs": [
    {
     "data": {
      "text/plain": [
       "20"
      ]
     },
     "execution_count": 16,
     "metadata": {},
     "output_type": "execute_result"
    }
   ],
   "source": [
    "#multipication\n",
    "4*5"
   ]
  },
  {
   "cell_type": "code",
   "execution_count": 17,
   "id": "1645d60f-bbad-410c-8045-67ea56c3bd00",
   "metadata": {},
   "outputs": [
    {
     "data": {
      "text/plain": [
       "2"
      ]
     },
     "execution_count": 17,
     "metadata": {},
     "output_type": "execute_result"
    }
   ],
   "source": [
    "#modulus(%)\n",
    "26%3\n"
   ]
  },
  {
   "cell_type": "code",
   "execution_count": null,
   "id": "f848f910-0872-40f7-a758-1ba5818f90a2",
   "metadata": {},
   "outputs": [],
   "source": [
    "                                            floor division\n",
    "\n",
    "        this operator divides the 1st number by the second and returns the largest integer less than `      "
   ]
  },
  {
   "cell_type": "code",
   "execution_count": 18,
   "id": "baf86556-aa1e-4c80-9703-343101e51c2e",
   "metadata": {},
   "outputs": [
    {
     "data": {
      "text/plain": [
       "5.333333333333333"
      ]
     },
     "execution_count": 18,
     "metadata": {},
     "output_type": "execute_result"
    }
   ],
   "source": [
    "16/3"
   ]
  },
  {
   "cell_type": "code",
   "execution_count": 19,
   "id": "44c64a61-19b9-4c79-8115-a4345b6ac1ac",
   "metadata": {},
   "outputs": [
    {
     "data": {
      "text/plain": [
       "5"
      ]
     },
     "execution_count": 19,
     "metadata": {},
     "output_type": "execute_result"
    }
   ],
   "source": [
    "#floor division\n",
    "result=16//3\n",
    "result"
   ]
  },
  {
   "cell_type": "code",
   "execution_count": 20,
   "id": "e7240ec8-55e0-4013-a624-bdc821ba32f8",
   "metadata": {},
   "outputs": [
    {
     "data": {
      "text/plain": [
       "8"
      ]
     },
     "execution_count": 20,
     "metadata": {},
     "output_type": "execute_result"
    }
   ],
   "source": [
    "#exponential(this operator raises the 1st number to the power of the second)\n",
    "2**3"
   ]
  },
  {
   "cell_type": "code",
   "execution_count": 21,
   "id": "1af11f9a-0871-4644-bb17-08b88346e7d0",
   "metadata": {},
   "outputs": [
    {
     "data": {
      "text/plain": [
       "16"
      ]
     },
     "execution_count": 21,
     "metadata": {},
     "output_type": "execute_result"
    }
   ],
   "source": [
    "2*2*2*2"
   ]
  },
  {
   "cell_type": "code",
   "execution_count": 22,
   "id": "a66bdfe4-e1c0-4b80-a040-9135ada427a4",
   "metadata": {},
   "outputs": [
    {
     "data": {
      "text/plain": [
       "9.0"
      ]
     },
     "execution_count": 22,
     "metadata": {},
     "output_type": "execute_result"
    }
   ],
   "source": [
    "#combining arithmetic operators (based on precedence n associativity)\n",
    "#() ? / < * + -\n",
    "5+3*2-8/4"
   ]
  },
  {
   "cell_type": "code",
   "execution_count": 23,
   "id": "db213e59-b5a7-462c-9698-918ccf570af2",
   "metadata": {},
   "outputs": [
    {
     "data": {
      "text/plain": [
       "433"
      ]
     },
     "execution_count": 23,
     "metadata": {},
     "output_type": "execute_result"
    }
   ],
   "source": [
    "#question time 1\n",
    "scores=[85,90,78,92,88]\n",
    "total_score=sum(scores)\n",
    "total_score"
   ]
  },
  {
   "cell_type": "code",
   "execution_count": 24,
   "id": "d9cc7d9b-5de1-4034-8e3d-c05e39b765bc",
   "metadata": {},
   "outputs": [
    {
     "data": {
      "text/plain": [
       "86.6"
      ]
     },
     "execution_count": 24,
     "metadata": {},
     "output_type": "execute_result"
    }
   ],
   "source": [
    "433/5"
   ]
  },
  {
   "cell_type": "code",
   "execution_count": 25,
   "id": "93046660-05f7-4f2e-b15c-238cc0041a6e",
   "metadata": {},
   "outputs": [
    {
     "data": {
      "text/plain": [
       "5"
      ]
     },
     "execution_count": 25,
     "metadata": {},
     "output_type": "execute_result"
    }
   ],
   "source": [
    "len(scores)"
   ]
  },
  {
   "cell_type": "code",
   "execution_count": 26,
   "id": "67d285c4-8a53-428e-b333-8149264f2ae0",
   "metadata": {},
   "outputs": [
    {
     "data": {
      "text/plain": [
       "86.6"
      ]
     },
     "execution_count": 26,
     "metadata": {},
     "output_type": "execute_result"
    }
   ],
   "source": [
    "(85+90+78+92+88)/5"
   ]
  },
  {
   "cell_type": "code",
   "execution_count": 27,
   "id": "8c77d6a4-7ec8-4bf1-a272-bea9182e53ae",
   "metadata": {},
   "outputs": [
    {
     "data": {
      "text/plain": [
       "500"
      ]
     },
     "execution_count": 27,
     "metadata": {},
     "output_type": "execute_result"
    }
   ],
   "source": [
    "#2\n",
    "monthly_budget=1200\n",
    "spent=[350,150,200]\n",
    "bal=monthly_budget-(sum(spent))\n",
    "bal"
   ]
  },
  {
   "cell_type": "code",
   "execution_count": 28,
   "id": "7a9dd717-5a88-47a9-ac43-ae244249506d",
   "metadata": {},
   "outputs": [
    {
     "ename": "NameError",
     "evalue": "name 'balance_am' is not defined",
     "output_type": "error",
     "traceback": [
      "\u001b[1;31m---------------------------------------------------------------------------\u001b[0m",
      "\u001b[1;31mNameError\u001b[0m                                 Traceback (most recent call last)",
      "Cell \u001b[1;32mIn[28], line 6\u001b[0m\n\u001b[0;32m      4\u001b[0m transportation\u001b[38;5;241m=\u001b[39m\u001b[38;5;241m200\u001b[39m\n\u001b[0;32m      5\u001b[0m balance_amt\u001b[38;5;241m=\u001b[39mbudget\u001b[38;5;241m-\u001b[39m(groceries\u001b[38;5;241m+\u001b[39mutilities\u001b[38;5;241m+\u001b[39mtransportation)\n\u001b[1;32m----> 6\u001b[0m balance_am\n",
      "\u001b[1;31mNameError\u001b[0m: name 'balance_am' is not defined"
     ]
    }
   ],
   "source": [
    "budget=1200\n",
    "groceries=350\n",
    "utilities=150\n",
    "transportation=200\n",
    "balance_amt=budget-(groceries+utilities+transportation)\n",
    "balance_am"
   ]
  },
  {
   "cell_type": "code",
   "execution_count": 29,
   "id": "caf71f4d-734d-43a3-aad5-7bb63c897543",
   "metadata": {},
   "outputs": [
    {
     "data": {
      "text/plain": [
       "60.0"
      ]
     },
     "execution_count": 29,
     "metadata": {},
     "output_type": "execute_result"
    }
   ],
   "source": [
    "cost=75\n",
    "discount=20\n",
    "con=discount/100*75\n",
    "final_price=cost-con\n",
    "final_price"
   ]
  },
  {
   "cell_type": "code",
   "execution_count": 30,
   "id": "a5f92110-8e34-4f26-98ed-f9de4ccbdefc",
   "metadata": {},
   "outputs": [
    {
     "data": {
      "text/plain": [
       "60.0"
      ]
     },
     "execution_count": 30,
     "metadata": {},
     "output_type": "execute_result"
    }
   ],
   "source": [
    "cost=75\n",
    "discount=20\n",
    "con=discount/100*75\n",
    "final_price=cost-con\n",
    "final_price"
   ]
  },
  {
   "cell_type": "code",
   "execution_count": 31,
   "id": "362c0b07-ddc8-4836-a5f3-cdf5c92d11b3",
   "metadata": {},
   "outputs": [
    {
     "data": {
      "text/plain": [
       "150"
      ]
     },
     "execution_count": 31,
     "metadata": {},
     "output_type": "execute_result"
    }
   ],
   "source": [
    "width=10\n",
    "length=15\n",
    "area=(width*length)\n",
    "area"
   ]
  },
  {
   "cell_type": "code",
   "execution_count": 32,
   "id": "103feaf5-e868-4173-a8b5-2bd55701dda5",
   "metadata": {},
   "outputs": [
    {
     "data": {
      "text/plain": [
       "150"
      ]
     },
     "execution_count": 32,
     "metadata": {},
     "output_type": "execute_result"
    }
   ],
   "source": [
    "width=10\n",
    "length=15\n",
    "area=(width*length)\n",
    "area"
   ]
  },
  {
   "cell_type": "code",
   "execution_count": 33,
   "id": "62eb5492-6686-40a6-9eba-f85be6665f58",
   "metadata": {},
   "outputs": [
    {
     "data": {
      "text/plain": [
       "150"
      ]
     },
     "execution_count": 33,
     "metadata": {},
     "output_type": "execute_result"
    }
   ],
   "source": [
    "width=10\n",
    "length=15\n",
    "area=(width*length)\n",
    "area"
   ]
  },
  {
   "cell_type": "code",
   "execution_count": 34,
   "id": "7fa93cb0-bdad-4ec6-b483-6b8c0df17cff",
   "metadata": {},
   "outputs": [
    {
     "data": {
      "text/plain": [
       "150"
      ]
     },
     "execution_count": 34,
     "metadata": {},
     "output_type": "execute_result"
    }
   ],
   "source": [
    "width=10\n",
    "length=15\n",
    "area=(width*length)\n",
    "area"
   ]
  },
  {
   "cell_type": "code",
   "execution_count": 35,
   "id": "235c4055-7b05-476d-be3a-cc5b4f827381",
   "metadata": {},
   "outputs": [
    {
     "data": {
      "text/plain": [
       "150"
      ]
     },
     "execution_count": 35,
     "metadata": {},
     "output_type": "execute_result"
    }
   ],
   "source": [
    "width=10\n",
    "length=15\n",
    "area=(width*length)\n",
    "area"
   ]
  },
  {
   "cell_type": "code",
   "execution_count": 36,
   "id": "aaf533f1-087e-4259-b8f0-97b4755f321a",
   "metadata": {},
   "outputs": [
    {
     "data": {
      "text/plain": [
       "True"
      ]
     },
     "execution_count": 36,
     "metadata": {},
     "output_type": "execute_result"
    }
   ],
   "source": [
    "3==3"
   ]
  },
  {
   "cell_type": "code",
   "execution_count": 37,
   "id": "d2b5557f-be5d-49cf-878e-9da50bfa1bc5",
   "metadata": {},
   "outputs": [
    {
     "data": {
      "text/plain": [
       "True"
      ]
     },
     "execution_count": 37,
     "metadata": {},
     "output_type": "execute_result"
    }
   ],
   "source": [
    "a=5\n",
    "b=3\n",
    "a>b"
   ]
  },
  {
   "cell_type": "code",
   "execution_count": 38,
   "id": "660f58de-9a66-4678-a4a9-82f2a04493c7",
   "metadata": {},
   "outputs": [
    {
     "data": {
      "text/plain": [
       "False"
      ]
     },
     "execution_count": 38,
     "metadata": {},
     "output_type": "execute_result"
    }
   ],
   "source": [
    "a<b"
   ]
  },
  {
   "cell_type": "code",
   "execution_count": null,
   "id": "52d166d2-4591-4b01-992b-e015986bd345",
   "metadata": {},
   "outputs": [],
   "source": []
  }
 ],
 "metadata": {
  "kernelspec": {
   "display_name": "Python 3 (ipykernel)",
   "language": "python",
   "name": "python3"
  },
  "language_info": {
   "codemirror_mode": {
    "name": "ipython",
    "version": 3
   },
   "file_extension": ".py",
   "mimetype": "text/x-python",
   "name": "python",
   "nbconvert_exporter": "python",
   "pygments_lexer": "ipython3",
   "version": "3.12.7"
  }
 },
 "nbformat": 4,
 "nbformat_minor": 5
}
