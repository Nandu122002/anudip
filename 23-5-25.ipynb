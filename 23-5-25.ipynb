{
 "cells": [
  {
   "cell_type": "code",
   "execution_count": 1,
   "id": "b33d3dc4-e594-43fc-b7ff-a7aff7774c92",
   "metadata": {},
   "outputs": [],
   "source": [
    "import numpy as np\n"
   ]
  },
  {
   "cell_type": "code",
   "execution_count": 2,
   "id": "6ab866b5-57d1-44aa-a696-3e07ed58a284",
   "metadata": {},
   "outputs": [
    {
     "name": "stdout",
     "output_type": "stream",
     "text": [
      "Uniform distribution:\n",
      " [[0.27143517 0.71636165 0.0495914 ]\n",
      " [0.6307153  0.4404003  0.96912219]\n",
      " [0.0528298  0.91636363 0.81982539]]\n"
     ]
    }
   ],
   "source": [
    "uniform=np.random.rand(3,3)\n",
    "print(\"Uniform distribution:\\n\",uniform)\n"
   ]
  },
  {
   "cell_type": "code",
   "execution_count": null,
   "id": "a8fe60b9-2910-408f-b8b5-f2b354efcd4a",
   "metadata": {},
   "outputs": [],
   "source": [
    "                                              searching in arrays"
   ]
  },
  {
   "cell_type": "code",
   "execution_count": 3,
   "id": "12ee212d-04f4-419a-82e8-40b9c72986dd",
   "metadata": {},
   "outputs": [
    {
     "data": {
      "text/plain": [
       "(array([3, 4], dtype=int64),)"
      ]
     },
     "execution_count": 3,
     "metadata": {},
     "output_type": "execute_result"
    }
   ],
   "source": [
    "arr=np.array([1,2,3,4,5])\n",
    "np.where(arr>3)"
   ]
  },
  {
   "cell_type": "code",
   "execution_count": 4,
   "id": "a8735cc9-9a01-4b60-925e-88e62629b423",
   "metadata": {},
   "outputs": [
    {
     "name": "stdout",
     "output_type": "stream",
     "text": [
      "where >3: (array([3, 4], dtype=int64),)\n"
     ]
    }
   ],
   "source": [
    "print(\"where >3:\",np.where(arr>3))"
   ]
  },
  {
   "cell_type": "code",
   "execution_count": 6,
   "id": "8d07f879-fb6c-4045-9af9-88a635b3a3f9",
   "metadata": {},
   "outputs": [
    {
     "data": {
      "text/plain": [
       "(array([0, 1], dtype=int64),)"
      ]
     },
     "execution_count": 6,
     "metadata": {},
     "output_type": "execute_result"
    }
   ],
   "source": [
    "np.where(arr<=2)"
   ]
  },
  {
   "cell_type": "code",
   "execution_count": 7,
   "id": "d437f751-1955-4712-b632-4e74ecee1f41",
   "metadata": {},
   "outputs": [
    {
     "data": {
      "text/plain": [
       "4"
      ]
     },
     "execution_count": 7,
     "metadata": {},
     "output_type": "execute_result"
    }
   ],
   "source": [
    "np.argmax([1,2,3,4,5])"
   ]
  },
  {
   "cell_type": "code",
   "execution_count": 8,
   "id": "4821dda6-554d-4089-90bc-57c935cd7329",
   "metadata": {},
   "outputs": [
    {
     "data": {
      "text/plain": [
       "4"
      ]
     },
     "execution_count": 8,
     "metadata": {},
     "output_type": "execute_result"
    }
   ],
   "source": [
    "np.argmax(arr)"
   ]
  },
  {
   "cell_type": "code",
   "execution_count": 9,
   "id": "29b523bc-1349-4931-9765-88fbb26ea784",
   "metadata": {},
   "outputs": [
    {
     "data": {
      "text/plain": [
       "4"
      ]
     },
     "execution_count": 9,
     "metadata": {},
     "output_type": "execute_result"
    }
   ],
   "source": [
    "np.argmax(arr)"
   ]
  },
  {
   "cell_type": "code",
   "execution_count": 10,
   "id": "4d577d7f-2ceb-45ef-9d3c-b9e8f9f7002d",
   "metadata": {},
   "outputs": [
    {
     "data": {
      "text/plain": [
       "4"
      ]
     },
     "execution_count": 10,
     "metadata": {},
     "output_type": "execute_result"
    }
   ],
   "source": [
    "#  seraches sorted\n",
    "\n",
    "sorted_arr=np.array([1,2,3,4,7])\n",
    "np.searchsorted(sorted_arr,6)"
   ]
  },
  {
   "cell_type": "code",
   "execution_count": 11,
   "id": "f984fcb6-0e6c-4db6-a914-9adcdbb86f61",
   "metadata": {},
   "outputs": [
    {
     "data": {
      "text/plain": [
       "5"
      ]
     },
     "execution_count": 11,
     "metadata": {},
     "output_type": "execute_result"
    }
   ],
   "source": [
    "np.searchsorted(sorted_arr,100)"
   ]
  },
  {
   "cell_type": "code",
   "execution_count": 12,
   "id": "e6ad07eb-8705-4aa1-a82b-7f2a4fe5d666",
   "metadata": {},
   "outputs": [
    {
     "data": {
      "text/plain": [
       "array([4, 5])"
      ]
     },
     "execution_count": 12,
     "metadata": {},
     "output_type": "execute_result"
    }
   ],
   "source": [
    "#  extract\n",
    "arr=np.array([1,2,3,4,5])\n",
    "np.extract(arr>3,arr)"
   ]
  },
  {
   "cell_type": "code",
   "execution_count": 13,
   "id": "11361c15-f8e4-46ca-b417-2f1ddf2f3a2f",
   "metadata": {},
   "outputs": [
    {
     "data": {
      "text/plain": [
       "array([[1, 5],\n",
       "       [2, 6],\n",
       "       [3, 7],\n",
       "       [4, 8]])"
      ]
     },
     "execution_count": 13,
     "metadata": {},
     "output_type": "execute_result"
    }
   ],
   "source": [
    "8# transpose\n",
    "arr=np.array([[1,2,3,4],\n",
    "             [5,6,7,8]])\n",
    "np.transpose(arr)"
   ]
  },
  {
   "cell_type": "code",
   "execution_count": 14,
   "id": "ffd3fea7-604a-49ff-829a-ad937669a499",
   "metadata": {},
   "outputs": [
    {
     "name": "stdout",
     "output_type": "stream",
     "text": [
      "mean value: 3.0\n"
     ]
    }
   ],
   "source": [
    "#  mean calculation\n",
    "\n",
    "arr=np.array([1,2,3,4,5])\n",
    "print(\"mean value:\",np.mean(arr))"
   ]
  },
  {
   "cell_type": "code",
   "execution_count": null,
   "id": "91f11708-8822-445b-a644-b81694787ee6",
   "metadata": {},
   "outputs": [],
   "source": [
    "splitting arrays\n",
    "np.split()"
   ]
  },
  {
   "cell_type": "code",
   "execution_count": 16,
   "id": "fd46650a-333b-4ddc-95d2-5ab10f1b20ce",
   "metadata": {},
   "outputs": [
    {
     "data": {
      "text/plain": [
       "[array([1, 2]), array([3, 4]), array([5, 6]), array([7, 8])]"
      ]
     },
     "execution_count": 16,
     "metadata": {},
     "output_type": "execute_result"
    }
   ],
   "source": [
    "arr=np.array([1,2,3,4,5,6,7,8])\n",
    "np.split(arr,4)   # splitting parts equally"
   ]
  },
  {
   "cell_type": "code",
   "execution_count": 17,
   "id": "80d7dc0e-fd32-4f47-9e2c-8bdef12f1f20",
   "metadata": {},
   "outputs": [
    {
     "data": {
      "text/plain": [
       "[array([1]), array([2, 3, 4]), array([5, 6])]"
      ]
     },
     "execution_count": 17,
     "metadata": {},
     "output_type": "execute_result"
    }
   ],
   "source": [
    "# splitting at exact position\n",
    "arr=np.array([1,2,3,4,5,6])\n",
    "np.split(arr,[1,4])"
   ]
  },
  {
   "cell_type": "code",
   "execution_count": 18,
   "id": "19b4ee15-8516-48fc-9825-8d1b283f7c3c",
   "metadata": {},
   "outputs": [
    {
     "data": {
      "text/plain": [
       "[array([1]), array([2, 3]), array([4, 5]), array([6])]"
      ]
     },
     "execution_count": 18,
     "metadata": {},
     "output_type": "execute_result"
    }
   ],
   "source": [
    "np.split(arr,[1,3,5])"
   ]
  },
  {
   "cell_type": "code",
   "execution_count": 19,
   "id": "feedf73f-89cc-4118-b0a7-4eb1c12aaf42",
   "metadata": {},
   "outputs": [
    {
     "data": {
      "text/plain": [
       "[array([[1],\n",
       "        [5]]),\n",
       " array([[2],\n",
       "        [6]]),\n",
       " array([[3],\n",
       "        [7]]),\n",
       " array([[4],\n",
       "        [8]])]"
      ]
     },
     "execution_count": 19,
     "metadata": {},
     "output_type": "execute_result"
    }
   ],
   "source": [
    "# splitting matrix\n",
    "\n",
    "matrix=np.array([[1,2,3,4],\n",
    "             [5,6,7,8]])\n",
    "np.split(matrix ,4,axis=1)"
   ]
  },
  {
   "cell_type": "code",
   "execution_count": 20,
   "id": "aa9f0088-25bb-4320-924d-4e918a3e5b6f",
   "metadata": {},
   "outputs": [
    {
     "data": {
      "text/plain": [
       "[array([[1],\n",
       "        [4]]),\n",
       " array([[2],\n",
       "        [5]]),\n",
       " array([[3],\n",
       "        [6]])]"
      ]
     },
     "execution_count": 20,
     "metadata": {},
     "output_type": "execute_result"
    }
   ],
   "source": [
    "matrix=np.array([[1,2,3],\n",
    "             [4,5,6]])\n",
    "np.split(matrix ,3,axis=1)     # split columns"
   ]
  },
  {
   "cell_type": "code",
   "execution_count": 21,
   "id": "ba9561dc-4982-4d5e-8ab3-4d61fba465fe",
   "metadata": {},
   "outputs": [
    {
     "data": {
      "text/plain": [
       "[array([[1, 2, 3]]), array([[4, 5, 6]])]"
      ]
     },
     "execution_count": 21,
     "metadata": {},
     "output_type": "execute_result"
    }
   ],
   "source": [
    "# split rows\n",
    "\n",
    "np.split(matrix ,2,axis=0) "
   ]
  },
  {
   "cell_type": "code",
   "execution_count": 22,
   "id": "3a2ff72d-4fb7-4193-84a9-9d9d3ad845df",
   "metadata": {},
   "outputs": [
    {
     "name": "stdout",
     "output_type": "stream",
     "text": [
      "sorted array: [1 2 3 4 5 6]\n"
     ]
    }
   ],
   "source": [
    "# sorting arrays\n",
    "\n",
    "arr=np.array([1,2,3,4,5,6])\n",
    "print(\"sorted array:\",np.sort(arr))"
   ]
  },
  {
   "cell_type": "code",
   "execution_count": 23,
   "id": "afc0396d-0571-4c2f-96ae-3605683f134b",
   "metadata": {},
   "outputs": [
    {
     "name": "stdout",
     "output_type": "stream",
     "text": [
      "in place sorted: [1 2 3 4 5 6]\n"
     ]
    }
   ],
   "source": [
    "arr.sort()\n",
    "print(\"in place sorted:\",arr)"
   ]
  },
  {
   "cell_type": "code",
   "execution_count": 24,
   "id": "2bb7ffc4-853f-477c-b5fd-66f8cbb494dd",
   "metadata": {},
   "outputs": [
    {
     "name": "stdout",
     "output_type": "stream",
     "text": [
      "sorted rows:\n",
      " [[1 2 3]\n",
      " [4 5 6]]\n"
     ]
    }
   ],
   "source": [
    "matrix=np.array([[3,2,1],\n",
    "             [6,4,5]])\n",
    "print(\"sorted rows:\\n\",np.sort(matrix,axis=1))"
   ]
  },
  {
   "cell_type": "code",
   "execution_count": null,
   "id": "07ebb767-fe31-46d0-b046-21ebb33ab416",
   "metadata": {},
   "outputs": [],
   "source": []
  }
 ],
 "metadata": {
  "kernelspec": {
   "display_name": "Python 3 (ipykernel)",
   "language": "python",
   "name": "python3"
  },
  "language_info": {
   "codemirror_mode": {
    "name": "ipython",
    "version": 3
   },
   "file_extension": ".py",
   "mimetype": "text/x-python",
   "name": "python",
   "nbconvert_exporter": "python",
   "pygments_lexer": "ipython3",
   "version": "3.12.7"
  }
 },
 "nbformat": 4,
 "nbformat_minor": 5
}
